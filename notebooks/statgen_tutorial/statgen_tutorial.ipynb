{
 "cells": [
  {
   "cell_type": "markdown",
   "metadata": {},
   "source": [
    "## Download tutorial files into SIMFiles folder"
   ]
  },
  {
   "cell_type": "code",
   "execution_count": 2,
   "metadata": {},
   "outputs": [],
   "source": [
    "data.dir <- '/home/jupyter-user/notebooks/statgen_tutorial/SIMFiles'\n",
    "out.dir <- data.dir                     # may want to write to a separate dir to avoid clutter\n",
    "\n",
    "# Download files\n",
    "urlSupport <- \"https://www.mtholyoke.edu/courses/afoulkes/Data/GWAStutorial/GWASTutorial_Files.zip\"\n",
    "zipSupport.fn <- sprintf(\"%s/GWAStutorial_Files.zip\", data.dir) \n",
    "\n",
    "# Input files\n",
    "gwas.fn <- lapply(c(bed='bed',bim='bim',fam='fam',gds='gds'), function(n) sprintf(\"%s/GWAStutorial.%s\", data.dir, n))\n",
    "clinical.fn <- sprintf(\"%s/GWAStutorial_clinical.csv\", data.dir) \n",
    "onethou.fn <- lapply(c(info='info',ped='ped'), function(n) sprintf(\"%s/chr16_1000g_CEU.%s\", data.dir, n))\n",
    "protein.coding.coords.fname <- sprintf(\"%s/ProCodgene_coords.csv\", data.dir)\n",
    "\n",
    "# Output files\n",
    "gwaa.fname <- sprintf(\"%s/GWAStutorialout.txt\", out.dir)\n",
    "gwaa.unadj.fname <- sprintf(\"%s/GWAStutorialoutUnadj.txt\", out.dir)\n",
    "impute.out.fname <- sprintf(\"%s/GWAStutorial_imputationOut.csv\", out.dir)\n",
    "CETP.fname <- sprintf(\"%s/CETP_GWASout.csv\", out.dir)\n",
    "\n",
    "# Working data saved between each code snippet so each can run independently.\n",
    "# Use save(data, file=working.data.fname(num))\n",
    "working.data.fname <- function(num) { sprintf(\"%s/working.%s.Rdata\", out.dir, num) }"
   ]
  },
  {
   "cell_type": "code",
   "execution_count": 3,
   "metadata": {},
   "outputs": [],
   "source": [
    "# Download and unzip data needed for this tutorial\n",
    "library(downloader)\n",
    "\n",
    "download(urlSupport, zipSupport.fn)\n",
    "unzip(zipSupport.fn, exdir = data.dir)"
   ]
  },
  {
   "cell_type": "markdown",
   "metadata": {},
   "source": [
    "## Data preprocessing"
   ]
  },
  {
   "cell_type": "code",
   "execution_count": 4,
   "metadata": {},
   "outputs": [],
   "source": [
    "library(snpStats)\n",
    "\n",
    "# Read in PLINK files\n",
    "geno <- read.plink(gwas.fn$bed, gwas.fn$bim, gwas.fn$fam, na.strings = (\"-9\"))"
   ]
  },
  {
   "cell_type": "code",
   "execution_count": 5,
   "metadata": {},
   "outputs": [
    {
     "name": "stdout",
     "output_type": "stream",
     "text": [
      "A SnpMatrix with  1401 rows and  861473 columns\n",
      "Row names:  10002 ... 11596 \n",
      "Col names:  rs10458597 ... rs5970564 \n"
     ]
    }
   ],
   "source": [
    "# Obtain the SnpMatrix object (genotypes) table from geno list\n",
    "# Note: Phenotypes and covariates will be read from the clinical data file, below\n",
    "genotype <- geno$genotype\n",
    "print(genotype)                  # 861473 SNPs read in for 1401 subjects"
   ]
  },
  {
   "cell_type": "code",
   "execution_count": 6,
   "metadata": {},
   "outputs": [
    {
     "name": "stdout",
     "output_type": "stream",
     "text": [
      "           chr        SNP gen.dist position   A1 A2\n",
      "rs10458597   1 rs10458597        0   564621 <NA>  C\n",
      "rs12565286   1 rs12565286        0   721290    G  C\n",
      "rs12082473   1 rs12082473        0   740857    T  C\n",
      "rs3094315    1  rs3094315        0   752566    C  T\n",
      "rs2286139    1  rs2286139        0   761732    C  T\n",
      "rs11240776   1 rs11240776        0   765269    G  A\n"
     ]
    }
   ],
   "source": [
    "#Obtain the SNP information from geno list\n",
    "genoBim <- geno$map\n",
    "colnames(genoBim) <- c(\"chr\", \"SNP\", \"gen.dist\", \"position\", \"A1\", \"A2\")\n",
    "print(head(genoBim))"
   ]
  },
  {
   "cell_type": "code",
   "execution_count": 7,
   "metadata": {},
   "outputs": [],
   "source": [
    "# Remove raw file to free up memory\n",
    "rm(geno)"
   ]
  },
  {
   "cell_type": "code",
   "execution_count": 8,
   "metadata": {},
   "outputs": [
    {
     "name": "stdout",
     "output_type": "stream",
     "text": [
      "      FamID CAD sex age  tg hdl ldl\n",
      "10002 10002   1   1  60  NA  NA  NA\n",
      "10004 10004   1   2  50  55  23  75\n",
      "10005 10005   1   1  55 105  37  69\n",
      "10007 10007   1   1  52 314  54 108\n",
      "10008 10008   1   1  58 161  40  94\n",
      "10009 10009   1   1  59 171  46  92\n"
     ]
    }
   ],
   "source": [
    "# Read in clinical file\n",
    "clinical <- read.csv(clinical.fn,\n",
    "                     colClasses=c(\"character\", \"factor\", \"factor\", rep(\"numeric\", 4)))\n",
    "rownames(clinical) <- clinical$FamID\n",
    "print(head(clinical))"
   ]
  },
  {
   "cell_type": "code",
   "execution_count": 9,
   "metadata": {},
   "outputs": [
    {
     "name": "stdout",
     "output_type": "stream",
     "text": [
      "A SnpMatrix with  1401 rows and  861473 columns\n",
      "Row names:  10002 ... 11596 \n",
      "Col names:  rs10458597 ... rs5970564 \n"
     ]
    }
   ],
   "source": [
    "# Subset genotype for subject data\n",
    "genotype <- genotype[clinical$FamID, ]\n",
    "print(genotype)  # Tutorial: All 1401 subjects contain both clinical and genotype data"
   ]
  },
  {
   "cell_type": "code",
   "execution_count": 10,
   "metadata": {},
   "outputs": [],
   "source": [
    "# Write genotype, genoBim, clinical for future use\n",
    "save(genotype, genoBim, clinical, file = working.data.fname(1))"
   ]
  },
  {
   "cell_type": "code",
   "execution_count": 11,
   "metadata": {},
   "outputs": [
    {
     "name": "stdout",
     "output_type": "stream",
     "text": [
      "           Calls Call.rate Certain.calls       RAF         MAF       P.AA\n",
      "rs10458597  1398 0.9978587             1 1.0000000 0.000000000 0.00000000\n",
      "rs12565286  1384 0.9878658             1 0.9483382 0.051661850 0.00433526\n",
      "rs12082473  1369 0.9771592             1 0.9985391 0.001460920 0.00000000\n",
      "rs3094315   1386 0.9892934             1 0.8217893 0.178210678 0.04761905\n",
      "rs2286139   1364 0.9735903             1 0.8621701 0.137829912 0.02199413\n",
      "rs11240776  1269 0.9057816             1 0.9988180 0.001182033 0.00000000\n",
      "                  P.AB      P.BB       z.HWE\n",
      "rs10458597 0.000000000 1.0000000          NA\n",
      "rs12565286 0.094653179 0.9010116 -1.26529432\n",
      "rs12082473 0.002921841 0.9970782  0.05413314\n",
      "rs3094315  0.261183261 0.6911977 -4.03172248\n",
      "rs2286139  0.231671554 0.7463343 -0.93146122\n",
      "rs11240776 0.002364066 0.9976359  0.04215743\n"
     ]
    }
   ],
   "source": [
    "# Create SNP summary statistics (MAF, call rate, etc.)\n",
    "snpsum.col <- col.summary(genotype)\n",
    "print(head(snpsum.col))"
   ]
  },
  {
   "cell_type": "code",
   "execution_count": 12,
   "metadata": {},
   "outputs": [
    {
     "name": "stdout",
     "output_type": "stream",
     "text": [
      "203287 SNPs will be removed due to low MAF or call rate.\n"
     ]
    }
   ],
   "source": [
    "# Setting thresholds\n",
    "call <- 0.95\n",
    "minor <- 0.01\n",
    "\n",
    "# Filter on MAF and call rate\n",
    "use <- with(snpsum.col, (!is.na(MAF) & MAF > minor) & Call.rate >= call)\n",
    "use[is.na(use)] <- FALSE                # Remove NA's as well\n",
    "\n",
    "cat(ncol(genotype)-sum(use),\"SNPs will be removed due to low MAF or call rate.\\n\") #203287 SNPs will be removed"
   ]
  },
  {
   "cell_type": "code",
   "execution_count": 13,
   "metadata": {},
   "outputs": [
    {
     "name": "stdout",
     "output_type": "stream",
     "text": [
      "A SnpMatrix with  1401 rows and  658186 columns\n",
      "Row names:  10002 ... 11596 \n",
      "Col names:  rs12565286 ... rs5970564 \n"
     ]
    }
   ],
   "source": [
    "# Subset genotype and SNP summary data for SNPs that pass call rate and MAF criteria\n",
    "genotype <- genotype[,use]\n",
    "snpsum.col <- snpsum.col[use,]\n",
    "\n",
    "print(genotype)                           # 658186 SNPs remain"
   ]
  },
  {
   "cell_type": "code",
   "execution_count": 14,
   "metadata": {},
   "outputs": [],
   "source": [
    "# Write subsetted genotype data and derived results for future use\n",
    "save(genotype, snpsum.col, genoBim, clinical, file=working.data.fname(2))"
   ]
  },
  {
   "cell_type": "code",
   "execution_count": 15,
   "metadata": {},
   "outputs": [],
   "source": [
    "# Sample level filtering\n",
    "\n",
    "#source(\"globals.R\")\n",
    "\n",
    "# load data created in previous snippets\n",
    "load(working.data.fname(2))\n",
    "\n",
    "library(snpStats)"
   ]
  },
  {
   "cell_type": "code",
   "execution_count": 16,
   "metadata": {},
   "outputs": [
    {
     "name": "stderr",
     "output_type": "stream",
     "text": [
      "Loading required package: gdsfmt\n",
      "\n",
      "SNPRelate -- supported by Streaming SIMD Extensions 2 (SSE2)\n",
      "\n"
     ]
    },
    {
     "ename": "ERROR",
     "evalue": "Error: cannot allocate vector of size 3.4 Gb\n",
     "output_type": "error",
     "traceback": [
      "Error: cannot allocate vector of size 3.4 Gb\nTraceback:\n"
     ]
    }
   ],
   "source": [
    "library(SNPRelate)                      # LD pruning, relatedness, PCA\n",
    "library(plyr)\n",
    "\n",
    "# Create sample statistics (Call rate, Heterozygosity)\n",
    "snpsum.row <- row.summary(genotype)\n",
    "\n",
    "# Add the F stat (inbreeding coefficient) to snpsum.row\n",
    "MAF <- snpsum.col$MAF\n",
    "callmatrix <- !is.na(genotype)\n",
    "hetExp <- callmatrix %*% (2*MAF*(1-MAF))\n",
    "hetObs <- with(snpsum.row, Heterozygosity*(ncol(genotype))*Call.rate)\n",
    "snpsum.row$hetF <- 1-(hetObs/hetExp)\n",
    "\n",
    "head(snpsum.row)"
   ]
  },
  {
   "cell_type": "code",
   "execution_count": null,
   "metadata": {},
   "outputs": [],
   "source": [
    "# Setting thresholds\n",
    "sampcall <- 0.95    # Sample call rate cut-off\n",
    "hetcutoff <- 0.1    # Inbreeding coefficient cut-off\n",
    "\n",
    "sampleuse <- with(snpsum.row, !is.na(Call.rate) & Call.rate > sampcall & abs(hetF) <= hetcutoff)\n",
    "sampleuse[is.na(sampleuse)] <- FALSE    # remove NA's as well\n",
    "cat(nrow(genotype)-sum(sampleuse), \"subjects will be removed due to low sample call rate or inbreeding coefficient.\\n\") #0 subjects removed"
   ]
  },
  {
   "cell_type": "code",
   "execution_count": null,
   "metadata": {},
   "outputs": [],
   "source": [
    "# Subset genotype and clinical data for subjects who pass call rate and heterozygosity crtieria\n",
    "genotype <- genotype[sampleuse,]\n",
    "clinical<- clinical[ rownames(genotype), ]"
   ]
  },
  {
   "cell_type": "code",
   "execution_count": null,
   "metadata": {},
   "outputs": [],
   "source": [
    "print(genotype)                         # Tutorial: expect all 1401 subjects remain"
   ]
  },
  {
   "cell_type": "code",
   "execution_count": null,
   "metadata": {},
   "outputs": [],
   "source": [
    "# Checking for ancestry\n",
    "\n",
    "# Find PCA matrix\n",
    "pca <- snpgdsPCA(genofile, sample.id = geno.sample.ids,  snp.id = snpset.ibd, num.thread=1)"
   ]
  },
  {
   "cell_type": "code",
   "execution_count": null,
   "metadata": {},
   "outputs": [],
   "source": [
    "# Create data frame of first two principal comonents\n",
    "pctab <- data.frame(sample.id = pca$sample.id,\n",
    "                    PC1 = pca$eigenvect[,1],    # the first eigenvector\n",
    "                    PC2 = pca$eigenvect[,2],    # the second eigenvector\n",
    "                    stringsAsFactors = FALSE)\n",
    "\n",
    "# Plot the first two principal comonents\n",
    "plot(pctab$PC2, pctab$PC1, xlab=\"Principal Component 2\", ylab=\"Principal Component 1\", main = \"Ancestry Plot\")"
   ]
  },
  {
   "cell_type": "code",
   "execution_count": null,
   "metadata": {},
   "outputs": [],
   "source": [
    "# Close GDS file\n",
    "closefn.gds(genofile)\n",
    "\n",
    "# Overwrite old genotype with new filtered version\n",
    "save(genotype, genoBim, clinical, file=working.data.fname(3))"
   ]
  },
  {
   "cell_type": "code",
   "execution_count": null,
   "metadata": {},
   "outputs": [],
   "source": [
    "# Hardy-Weinberg SNP filtering on CAD controls\n",
    "\n",
    "hardy <- 10^-6      # HWE cut-off\n",
    "\n",
    "CADcontrols <- clinical[ clinical$CAD==0, 'FamID' ]\n",
    "snpsum.colCont <- col.summary( genotype[CADcontrols,] )\n",
    "HWEuse <- with(snpsum.colCont, !is.na(z.HWE) & ( abs(z.HWE) < abs( qnorm(hardy/2) ) ) )\n",
    "rm(snpsum.colCont)\n",
    "\n",
    "HWEuse[is.na(HWEuse)] <- FALSE          # Remove NA's as well\n",
    "cat(ncol(genotype)-sum(HWEuse),\"SNPs will be removed due to high HWE.\\n\")  # 1296 SNPs removed"
   ]
  },
  {
   "cell_type": "code",
   "execution_count": null,
   "metadata": {},
   "outputs": [],
   "source": [
    "# Subset genotype and SNP summary data for SNPs that pass HWE criteria\n",
    "genotype <- genotype[,HWEuse]\n",
    "\n",
    "print(genotype)                           # 656890 SNPs remain"
   ]
  },
  {
   "cell_type": "code",
   "execution_count": null,
   "metadata": {},
   "outputs": [],
   "source": [
    "# Overwrite old genotype with new filtered version\n",
    "save(genotype, genoBim, clinical, file=working.data.fname(4))"
   ]
  },
  {
   "cell_type": "markdown",
   "metadata": {},
   "source": [
    "## Data generation"
   ]
  },
  {
   "cell_type": "code",
   "execution_count": null,
   "metadata": {},
   "outputs": [],
   "source": [
    "# Set LD threshold to 0.2\n",
    "ld.thresh <- 0.2\n",
    "\n",
    "set.seed(1000)\n",
    "geno.sample.ids <- rownames(genotype)\n",
    "snpSUB <- snpgdsLDpruning(genofile, ld.threshold = ld.thresh,\n",
    "                          sample.id = geno.sample.ids, # Only analyze the filtered samples\n",
    "                          snp.id = colnames(genotype)) # Only analyze the filtered SNPs"
   ]
  },
  {
   "cell_type": "code",
   "execution_count": null,
   "metadata": {},
   "outputs": [],
   "source": [
    "snpset.pca <- unlist(snpSUB, use.names=FALSE)\n",
    "cat(length(snpset.pca),\"\\n\")  #72578 SNPs will be used in PCA analysis"
   ]
  },
  {
   "cell_type": "code",
   "execution_count": null,
   "metadata": {},
   "outputs": [],
   "source": [
    "pca <- snpgdsPCA(genofile, sample.id = geno.sample.ids,  snp.id = snpset.pca, num.thread=1)"
   ]
  },
  {
   "cell_type": "code",
   "execution_count": null,
   "metadata": {},
   "outputs": [],
   "source": [
    "# Find and record first 10 principal components\n",
    "# pcs will be a N:10 matrix.  Each column is a principal component.\n",
    "pcs <- data.frame(FamID = pca$sample.id, pca$eigenvect[,1 : 10],\n",
    "                  stringsAsFactors = FALSE)\n",
    "colnames(pcs)[2:11]<-paste(\"pc\", 1:10, sep = \"\")\n",
    "\n",
    "print(head(pcs))"
   ]
  },
  {
   "cell_type": "code",
   "execution_count": null,
   "metadata": {},
   "outputs": [],
   "source": [
    "# Close GDS file\n",
    "closefn.gds(genofile)\n",
    "\n",
    "# Store pcs for future reference with the rest of the derived data\n",
    "save(genotype, genoBim, clinical, pcs, file=working.data.fname(5))"
   ]
  },
  {
   "cell_type": "code",
   "execution_count": null,
   "metadata": {},
   "outputs": [],
   "source": [
    "# Read in 1000g data for given chromosome 16\n",
    "thougeno <- read.pedfile(onethou.fn$ped, snps = onethou.fn$info, which=1)\n",
    "\n",
    "# Obtain genotype data for given chromosome\n",
    "genoMatrix <- thougeno$genotypes\n",
    "\n",
    "# Obtain the chromosome position for each SNP\n",
    "support <- thougeno$map\n",
    "colnames(support)<-c(\"SNP\", \"position\", \"A1\", \"A2\")\n",
    "head(support)"
   ]
  },
  {
   "cell_type": "code",
   "execution_count": null,
   "metadata": {},
   "outputs": [],
   "source": [
    "# Imputation of non-typed 1000g SNPs\n",
    "presSnps <- colnames(genotype)\n",
    "\n",
    "# Subset for SNPs on given chromosome\n",
    "presSnps <- colnames(genotype)\n",
    "presDatChr <- genoBim[genoBim$SNP %in% presSnps & genoBim$chr==16, ]\n",
    "targetSnps <- presDatChr$SNP\n",
    "\n",
    "# Subset 1000g data for our SNPs\n",
    "# \"missing\" and \"present\" are snpMatrix objects needed for imputation rules\n",
    "is.present <- colnames(genoMatrix) %in% targetSnps\n",
    "\n",
    "missing <- genoMatrix[,!is.present]\n",
    "print(missing)                          # Almost 400,000 SNPs"
   ]
  },
  {
   "cell_type": "code",
   "execution_count": null,
   "metadata": {},
   "outputs": [],
   "source": [
    "present <- genoMatrix[,is.present]\n",
    "print(present)                          # Our typed SNPs"
   ]
  },
  {
   "cell_type": "code",
   "execution_count": null,
   "metadata": {},
   "outputs": [],
   "source": [
    "# Obtain positions of SNPs to be used for imputation rules\n",
    "pos.pres <- support$position[is.present]\n",
    "pos.miss <- support$position[!is.present]\n",
    "\n",
    "# Calculate and store imputation rules using snp.imputation()\n",
    "rules <- snp.imputation(present, missing, pos.pres, pos.miss)"
   ]
  },
  {
   "cell_type": "code",
   "execution_count": null,
   "metadata": {},
   "outputs": [],
   "source": [
    "# Remove failed imputations\n",
    "rules <- rules[can.impute(rules)]\n",
    "cat(\"Imputation rules for\", length(rules), \"SNPs were estimated\\n\")  # Imputation rules for 197888 SNPs were estimated\n"
   ]
  },
  {
   "cell_type": "code",
   "execution_count": null,
   "metadata": {},
   "outputs": [],
   "source": [
    "# Quality control for imputation certainty and MAF\n",
    "# Set thresholds\n",
    "r2threshold <- 0.7\n",
    "minor <- 0.01\n",
    "\n",
    "# Filter on imputation certainty and MAF\n",
    "rules <- rules[imputation.r2(rules) >= r2threshold]\n",
    "\n",
    "cat(length(rules),\"imputation rules remain after imputations with low certainty were removed\\n\")  # 162565 imputation rules remain after imputations with low certainty were removed"
   ]
  },
  {
   "cell_type": "code",
   "execution_count": null,
   "metadata": {},
   "outputs": [],
   "source": [
    "rules <- rules[imputation.maf(rules) >= minor]\n",
    "cat(length(rules),\"imputation rules remain after MAF filtering\\n\")  # 162565 imputation rules remain after MAF filtering"
   ]
  },
  {
   "cell_type": "code",
   "execution_count": null,
   "metadata": {},
   "outputs": [],
   "source": [
    "# Obtain posterior expectation of genotypes of imputed snps\n",
    "target <- genotype[,targetSnps]\n",
    "imputed <- impute.snps(rules, target, as.numeric=FALSE)\n",
    "print(imputed)  # 162565 SNPs were imputed"
   ]
  },
  {
   "cell_type": "code",
   "execution_count": null,
   "metadata": {},
   "outputs": [],
   "source": [
    "rm(genoMatrix)\n",
    "rm(missing)\n",
    "rm(present)\n",
    "\n",
    "# Add new imputed, target and rules data to saved results\n",
    "save(genotype, genoBim, clinical, pcs, imputed, target, rules, support, file=working.data.fname(6))"
   ]
  },
  {
   "cell_type": "markdown",
   "metadata": {},
   "source": [
    "## GWA"
   ]
  },
  {
   "cell_type": "code",
   "execution_count": 17,
   "metadata": {},
   "outputs": [
    {
     "ename": "ERROR",
     "evalue": "Error in parse(text = x, srcfile = src): <text>:100:0: unexpected end of input\n98: \n99:     return(print(\"Done.\"))\n   ^\n",
     "output_type": "error",
     "traceback": [
      "Error in parse(text = x, srcfile = src): <text>:100:0: unexpected end of input\n98: \n99:     return(print(\"Done.\"))\n   ^\nTraceback:\n"
     ]
    }
   ],
   "source": [
    "# Genome-wide Association Analysis\n",
    "# Parallel implementation of linear model fitting on each SNP\n",
    "\n",
    "GWAA <- function(genodata=genotypes,  phenodata=phenotypes, family = gaussian, filename=NULL,\n",
    "                 append=FALSE, workers=getOption(\"mc.cores\",2L), flip=TRUE,\n",
    "                 select.snps=NULL, hosts=NULL, nSplits=10)\n",
    "{\n",
    "    if (!require(doParallel)) { stop(\"Missing doParallel package\") }\n",
    "\n",
    "    #Check that a filename was specified\n",
    "    if(is.null(filename)) stop(\"Must specify a filename for output.\")\n",
    "\n",
    "    #Check that the genotype data is of class 'SnpMatrix'\n",
    "    if( class(genodata)!=\"SnpMatrix\") stop(\"Genotype data must of class 'SnpMatrix'.\")\n",
    "\n",
    "    #Check that there is a variable named 'phenotype' in phenodata table\n",
    "    if( !\"phenotype\" %in% colnames(phenodata))  stop(\"Phenotype data must have column named 'phenotype'\")\n",
    "\n",
    "    #Check that there is a variable named 'id' in phenodata table\n",
    "    if( !\"id\" %in% colnames(phenodata)) stop(\"Phenotype data must have column named 'id'.\")\n",
    "\n",
    "    #If a vector of SNPs is given, subset genotype data for these SNPs\n",
    "    if(!is.null(select.snps)) genodata<-genodata[,which(colnames(genodata)%in%select.snps)]\n",
    "\n",
    "    #Check that there are still SNPs in 'SnpMatrix' object\n",
    "    if(ncol(genodata)==0) stop(\"There are no SNPs in the 'SnpMatrix' object.\")\n",
    "\n",
    "    #Print the number of SNPs to be checked\n",
    "    cat(paste(ncol(genodata), \" SNPs included in analysis.\\n\"))\n",
    "\n",
    "    #If append=FALSE than we will overwrite file with column names\n",
    "    if(!isTRUE(append)) {\n",
    "        columns<-c(\"SNP\", \"Estimate\", \"Std.Error\", \"t-value\", \"p-value\")\n",
    "        write.table(t(columns), filename, row.names=FALSE, col.names=FALSE, quote=FALSE)\n",
    "    }\n",
    "\n",
    "    # Check sample counts\n",
    "    if (nrow(phenodata) != nrow(genodata)) {\n",
    "        warning(\"Number of samples mismatch.  Using subset found in phenodata.\")\n",
    "    }\n",
    "\n",
    "    # Order genodata rows to be the same as phenodata\n",
    "    genodata <- genodata[phenodata$id,]\n",
    "\n",
    "    cat(nrow(genodata), \"samples included in analysis.\\n\")\n",
    "\n",
    "    # Change which allele is counted (major or minor)\n",
    "    flip.matrix<-function(x) {\n",
    "        zero2 <- which(x==0)\n",
    "        two0 <- which(x==2)\n",
    "        x[zero2] <- 2\n",
    "        x[two0] <- 0\n",
    "        return(x)\n",
    "    }\n",
    "\n",
    "    nSNPs <- ncol(genodata)\n",
    "    genosplit <- ceiling(nSNPs/nSplits) # number of SNPs in each subset\n",
    "\n",
    "    snp.start <- seq(1, nSNPs, genosplit) # index of first SNP in group\n",
    "    snp.stop <- pmin(snp.start+genosplit-1, nSNPs) # index of last SNP in group\n",
    "\n",
    "    if (is.null(hosts)) {\n",
    "        # On Unix this will use fork and mclapply.  On Windows it\n",
    "        # will create multiple processes on localhost.\n",
    "        cl <- makeCluster(workers)\n",
    "    } else {\n",
    "        # The listed hosts must be accessible by the current user using\n",
    "        # password-less ssh with R installed on all hosts, all \n",
    "        # packages installed, and \"rscript\" is in the default PATH.\n",
    "        # See docs for makeCluster() for more information.\n",
    "        cl <- makeCluster(hosts, \"PSOCK\")\n",
    "    }\n",
    "    show(cl)                            # report number of workers and type of parallel implementation\n",
    "    registerDoParallel(cl)\n",
    "\n",
    "    foreach (part=1:nSplits) %do% {\n",
    "        # Returns a standar matrix of the alleles encoded as 0, 1 or 2\n",
    "        genoNum <- as(genodata[,snp.start[part]:snp.stop[part]], \"numeric\")\n",
    "\n",
    "        # Flip the numeric values of genotypes to count minor allele\n",
    "        if (isTRUE(flip)) genoNum <- flip.matrix(genoNum)\n",
    "\n",
    "        # For each SNP, concatenate the genotype column to the\n",
    "        # phenodata and fit a generalized linear model\n",
    "        rsVec <- colnames(genoNum)\n",
    "        res <- foreach(snp.name=rsVec, .combine='rbind') %dopar% {\n",
    "            a <- summary(glm(phenotype~ . - id, family=family, data=cbind(phenodata, snp=genoNum[,snp.name])))\n",
    "            a$coefficients['snp',]\n",
    "        }\n",
    "\n",
    "        # write results so far to a file\n",
    "        write.table(cbind(rsVec,res), filename, append=TRUE, quote=FALSE, col.names=FALSE, row.names=FALSE)\n",
    "\n",
    "        cat(sprintf(\"GWAS SNPs %s-%s (%s%% finished)\\n\", snp.start[part], snp.stop[part], 100*part/nSplits))\n",
    "    }\n",
    "\n",
    "    stopCluster(cl)\n",
    "\n",
    "    return(print(\"Done.\"))"
   ]
  },
  {
   "cell_type": "code",
   "execution_count": null,
   "metadata": {},
   "outputs": [],
   "source": [
    "library(GenABEL)\n",
    "source(\"GWAA.R\")\n",
    "\n",
    "# Merge clincal data and principal components to create phenotype table\n",
    "phenoSub <- merge(clinical,pcs)      # data.frame => [ FamID CAD sex age hdl pc1 pc2 ... pc10 ]\n",
    "\n",
    "# We will do a rank-based inverse normal transformation of hdl\n",
    "phenoSub$phenotype <- rntransform(phenoSub$hdl, family=\"gaussian\")\n",
    "\n",
    "# Show that the assumptions of normality met after transformation\n",
    "par(mfrow=c(1,2))\n",
    "hist(phenoSub$hdl, main=\"Histogram of HDL\", xlab=\"HDL\")\n",
    "hist(phenoSub$phenotype, main=\"Histogram of Tranformed HDL\", xlab=\"Transformed HDL\")"
   ]
  },
  {
   "cell_type": "code",
   "execution_count": null,
   "metadata": {},
   "outputs": [],
   "source": [
    "# Remove unnecessary columns from table\n",
    "phenoSub$hdl <- NULL\n",
    "phenoSub$ldl <- NULL\n",
    "phenoSub$tg <- NULL\n",
    "phenoSub$CAD <- NULL\n",
    "\n",
    "# Rename columns to match names necessary for GWAS() function\n",
    "phenoSub <- rename(phenoSub, replace=c(FamID=\"id\"))\n",
    "\n",
    "# Include only subjects with hdl data\n",
    "phenoSub<-phenoSub[!is.na(phenoSub$phenotype),]\n",
    "# 1309 subjects included with phenotype data\n",
    "\n",
    "print(head(phenoSub))"
   ]
  },
  {
   "cell_type": "code",
   "execution_count": null,
   "metadata": {},
   "outputs": [],
   "source": [
    "# Run GWAS analysis\n",
    "# Note: This function writes a file, but does not produce an R object\n",
    "start <- Sys.time()\n",
    "GWAA(genodata=genotype, phenodata=phenoSub, filename=gwaa.fname)"
   ]
  },
  {
   "cell_type": "code",
   "execution_count": 18,
   "metadata": {},
   "outputs": [
    {
     "ename": "ERROR",
     "evalue": "Error in unclass(e1) - e2: non-numeric argument to binary operator\n",
     "output_type": "error",
     "traceback": [
      "Error in unclass(e1) - e2: non-numeric argument to binary operator\nTraceback:\n",
      "1. print(end - start)",
      "2. `-.POSIXt`(end, start)",
      "3. .POSIXct(unclass(e1) - e2, attr(e1, \"tzone\"))"
     ]
    }
   ],
   "source": [
    "end <- Sys.time()\n",
    "print(end-start)"
   ]
  },
  {
   "cell_type": "code",
   "execution_count": 19,
   "metadata": {},
   "outputs": [
    {
     "ename": "ERROR",
     "evalue": "Error in save(genotype, genoBim, clinical, pcs, imputed, target, rules, : objects ‘pcs’, ‘imputed’, ‘target’, ‘rules’, ‘phenoSub’, ‘support’ not found\n",
     "output_type": "error",
     "traceback": [
      "Error in save(genotype, genoBim, clinical, pcs, imputed, target, rules, : objects ‘pcs’, ‘imputed’, ‘target’, ‘rules’, ‘phenoSub’, ‘support’ not found\nTraceback:\n",
      "1. save(genotype, genoBim, clinical, pcs, imputed, target, rules, \n .     phenoSub, support, file = working.data.fname(7))",
      "2. stop(sprintf(ngettext(n, \"object %s not found\", \"objects %s not found\"), \n .     paste(sQuote(list[!ok]), collapse = \", \")), domain = NA)"
     ]
    }
   ],
   "source": [
    "# Add phenosub to saved results\n",
    "save(genotype, genoBim, clinical, pcs, imputed, target, rules, phenoSub, support, file=working.data.fname(7))"
   ]
  },
  {
   "cell_type": "code",
   "execution_count": 20,
   "metadata": {},
   "outputs": [
    {
     "ename": "ERROR",
     "evalue": "Error in eval(expr, envir, enclos): object 'phenoSub' not found\n",
     "output_type": "error",
     "traceback": [
      "Error in eval(expr, envir, enclos): object 'phenoSub' not found\nTraceback:\n"
     ]
    }
   ],
   "source": [
    "# Carry out association testing for imputed SNPs using snp.rhs.tests()\n",
    "rownames(phenoSub) <- phenoSub$id\n",
    "\n",
    "imp <- snp.rhs.tests(phenotype ~ sex + age + pc1 + pc2 + pc3 + pc4 + pc5 + pc6 + pc7 + pc8 + pc9 + pc10,\n",
    "                     family = \"Gaussian\", data = phenoSub, snp.data = target, rules = rules)\n",
    "\n",
    "# Obtain p values for imputed SNPs by calling methods on the returned GlmTests object.\n",
    "results <- data.frame(SNP = imp@snp.names, p.value = p.value(imp), stringsAsFactors = FALSE)\n",
    "results <- results[!is.na(results$p.value),]\n",
    "\n",
    "#Write a file containing the results\n",
    "write.csv(results, impute.out.fname, row.names=FALSE)\n",
    "\n",
    "# Merge imputation testing results with support to obtain coordinates\n",
    "imputeOut<-merge(results, support[, c(\"SNP\", \"position\")])\n",
    "imputeOut$chr <- 16\n",
    "\n",
    "imputeOut$type <- \"imputed\"\n",
    "\n",
    "# Find the -log_10 of the p-values\n",
    "imputeOut$Neg_logP <- -log10(imputeOut$p.value)\n",
    "\n",
    "# Order by p-value\n",
    "imputeOut <- arrange(imputeOut, p.value)\n",
    "print(head(imputeOut))"
   ]
  },
  {
   "cell_type": "code",
   "execution_count": 21,
   "metadata": {},
   "outputs": [],
   "source": [
    "# Returns the subset of SNPs that are within extend.boundary of gene\n",
    "# using the coords table of gene locations.\n",
    "map2gene <- function(gene, coords, SNPs, extend.boundary = 5000) {\n",
    "  coordsSub <- coords[coords$gene == gene,] #Subset coordinate file for spcified gene\n",
    "\n",
    "  coordsSub$start <- coordsSub$start - extend.boundary # Extend gene boundaries\n",
    "  coordsSub$stop <- coordsSub$stop + extend.boundary\n",
    "\n",
    "  SNPsub <- SNPs[SNPs$position >= coordsSub$start & SNPs$position <= coordsSub$stop &\n",
    "                 SNPs$chr == coordsSub$chr,] #Subset for SNPs in gene\n",
    "\n",
    "  return(data.frame(SNPsub, gene = gene, stringsAsFactors = FALSE))\n",
    "}"
   ]
  },
  {
   "cell_type": "code",
   "execution_count": 22,
   "metadata": {},
   "outputs": [
    {
     "ename": "ERROR",
     "evalue": "Error in map2gene(\"CETP\", coords = genes, SNPs = imputeOut): object 'imputeOut' not found\n",
     "output_type": "error",
     "traceback": [
      "Error in map2gene(\"CETP\", coords = genes, SNPs = imputeOut): object 'imputeOut' not found\nTraceback:\n",
      "1. map2gene(\"CETP\", coords = genes, SNPs = imputeOut)"
     ]
    }
   ],
   "source": [
    "# Read in file containing protein coding genes coords\n",
    "genes <- read.csv(protein.coding.coords.fname, stringsAsFactors = FALSE)\n",
    "\n",
    "# Subset for CETP SNPs\n",
    "impCETP <- map2gene(\"CETP\", coords = genes, SNPs = imputeOut)\n",
    "\n",
    "# Filter only the imputed CETP SNP genotypes \n",
    "impCETPgeno <- imputed[, impCETP$SNP ]"
   ]
  },
  {
   "cell_type": "code",
   "execution_count": 23,
   "metadata": {},
   "outputs": [
    {
     "ename": "ERROR",
     "evalue": "Error in save(genotype, genoBim, clinical, pcs, imputed, target, rules, : objects ‘pcs’, ‘imputed’, ‘target’, ‘rules’, ‘phenoSub’, ‘support’, ‘impCETP’, ‘impCETPgeno’, ‘imputeOut’ not found\n",
     "output_type": "error",
     "traceback": [
      "Error in save(genotype, genoBim, clinical, pcs, imputed, target, rules, : objects ‘pcs’, ‘imputed’, ‘target’, ‘rules’, ‘phenoSub’, ‘support’, ‘impCETP’, ‘impCETPgeno’, ‘imputeOut’ not found\nTraceback:\n",
      "1. save(genotype, genoBim, clinical, pcs, imputed, target, rules, \n .     phenoSub, support, genes, impCETP, impCETPgeno, imputeOut, \n .     file = working.data.fname(8))",
      "2. stop(sprintf(ngettext(n, \"object %s not found\", \"objects %s not found\"), \n .     paste(sQuote(list[!ok]), collapse = \", \")), domain = NA)"
     ]
    }
   ],
   "source": [
    "save(genotype, genoBim, clinical, pcs, imputed, target, rules,\n",
    "     phenoSub, support, genes, impCETP, impCETPgeno, imputeOut, file = working.data.fname(8))"
   ]
  },
  {
   "cell_type": "markdown",
   "metadata": {},
   "source": [
    "## Post-analytic visualization and genomic interrogation"
   ]
  },
  {
   "cell_type": "code",
   "execution_count": 24,
   "metadata": {},
   "outputs": [
    {
     "name": "stderr",
     "output_type": "stream",
     "text": [
      "Warning message in file(file, \"rt\"):\n",
      "“cannot open file '/home/jupyter-user/notebooks/statgen_tutorial/SIMFiles/GWAStutorialout.txt': No such file or directory”\n"
     ]
    },
    {
     "ename": "ERROR",
     "evalue": "Error in file(file, \"rt\"): cannot open the connection\n",
     "output_type": "error",
     "traceback": [
      "Error in file(file, \"rt\"): cannot open the connection\nTraceback:\n",
      "1. read.table(gwaa.fname, header = TRUE, colClasses = c(\"character\", \n .     rep(\"numeric\", 4)))",
      "2. file(file, \"rt\")"
     ]
    }
   ],
   "source": [
    "# Read in GWAS output that was produced by GWAA function\n",
    "GWASout <- read.table(gwaa.fname, header=TRUE, colClasses=c(\"character\", rep(\"numeric\",4)))\n",
    "\n",
    "# Find the -log_10 of the p-values\n",
    "GWASout$Neg_logP <- -log10(GWASout$p.value)\n",
    "\n",
    "# Merge output with genoBim by SNP name to add position and chromosome number\n",
    "GWASout <- merge(GWASout, genoBim[,c(\"SNP\", \"chr\", \"position\")])\n",
    "rm(genoBim)\n",
    "\n",
    "# Order SNPs by significance\n",
    "GWASout <- arrange(GWASout, -Neg_logP)\n",
    "print(head(GWASout))\n"
   ]
  },
  {
   "cell_type": "code",
   "execution_count": 25,
   "metadata": {},
   "outputs": [
    {
     "ename": "ERROR",
     "evalue": "Error in GWASout$type <- \"typed\": object 'GWASout' not found\n",
     "output_type": "error",
     "traceback": [
      "Error in GWASout$type <- \"typed\": object 'GWASout' not found\nTraceback:\n"
     ]
    }
   ],
   "source": [
    "# Combine typed and imputed\n",
    "GWASout$type <- \"typed\"\n",
    "\n",
    "GWAScomb<-rbind.fill(GWASout, imputeOut)\n",
    "head(GWAScomb)"
   ]
  },
  {
   "cell_type": "code",
   "execution_count": 26,
   "metadata": {},
   "outputs": [
    {
     "ename": "ERROR",
     "evalue": "Error in tail(GWAScomb): object 'GWAScomb' not found\n",
     "output_type": "error",
     "traceback": [
      "Error in tail(GWAScomb): object 'GWAScomb' not found\nTraceback:\n",
      "1. tail(GWAScomb)"
     ]
    }
   ],
   "source": [
    "tail(GWAScomb)"
   ]
  },
  {
   "cell_type": "code",
   "execution_count": 27,
   "metadata": {},
   "outputs": [
    {
     "ename": "ERROR",
     "evalue": "Error in map2gene(\"CETP\", coords = genes, SNPs = GWASout): object 'GWASout' not found\n",
     "output_type": "error",
     "traceback": [
      "Error in map2gene(\"CETP\", coords = genes, SNPs = GWASout): object 'GWASout' not found\nTraceback:\n",
      "1. map2gene(\"CETP\", coords = genes, SNPs = GWASout)"
     ]
    }
   ],
   "source": [
    "# Subset for CETP SNPs\n",
    "typCETP <- map2gene(\"CETP\", coords = genes, SNPs = GWASout)\n",
    "\n",
    "# Combine CETP SNPs from imputed and typed analysis\n",
    "CETP <- rbind.fill(typCETP, impCETP)[,c(\"SNP\",\"p.value\",\"Neg_logP\",\"chr\",\"position\",\"type\",\"gene\")]\n",
    "print(CETP)"
   ]
  },
  {
   "cell_type": "code",
   "execution_count": 28,
   "metadata": {},
   "outputs": [
    {
     "ename": "ERROR",
     "evalue": "Error in is.data.frame(x): object 'CETP' not found\n",
     "output_type": "error",
     "traceback": [
      "Error in is.data.frame(x): object 'CETP' not found\nTraceback:\n",
      "1. write.csv(CETP, CETP.fname, row.names = FALSE)",
      "2. eval.parent(Call)",
      "3. eval(expr, p)",
      "4. eval(expr, p)",
      "5. write.table(CETP, CETP.fname, row.names = FALSE, col.names = TRUE, \n .     sep = \",\", dec = \".\", qmethod = \"double\")",
      "6. is.data.frame(x)"
     ]
    }
   ],
   "source": [
    "write.csv(CETP, CETP.fname, row.names=FALSE) # save for future use\n",
    "\n",
    "save(genotype, clinical, pcs, imputed, target, rules, phenoSub, support, genes,\n",
    "     impCETP, impCETPgeno, imputeOut, GWASout, GWAScomb, CETP, file=working.data.fname(9))"
   ]
  },
  {
   "cell_type": "code",
   "execution_count": 29,
   "metadata": {},
   "outputs": [],
   "source": [
    "# Receives a data.frame of SNPs with Neg_logP, chr, position, and type.\n",
    "# Plots Manhattan plot with significant SNPs highlighted.\n",
    "GWAS_Manhattan <- function(GWAS, col.snps=c(\"black\",\"gray\"),\n",
    "                           col.detected=c(\"black\"), col.imputed=c(\"blue\"), col.text=\"black\",\n",
    "                           title=\"GWAS Tutorial Manhattan Plot\", display.text=TRUE,\n",
    "                           bonferroni.alpha=0.05, bonferroni.adjustment=1000000,\n",
    "                           Lstringent.adjustment=10000) {\n",
    "\n",
    "    bonferroni.thresh <- -log10(bonferroni.alpha / bonferroni.adjustment)\n",
    "    Lstringent.thresh <- -log10(bonferroni.alpha / Lstringent.adjustment)\n",
    "    xscale <- 1000000\n",
    "\n",
    "    manhat <- GWAS[!grepl(\"[A-z]\",GWAS$chr),]\n",
    "\n",
    "    #sort the data by chromosome and then location\n",
    "    manhat.ord <- manhat[order(as.numeric(manhat$chr),manhat$position),]\n",
    "    manhat.ord <- manhat.ord[!is.na(manhat.ord$position),]\n",
    "\n",
    "    ##Finding the maximum position for each chromosome\n",
    "    max.pos <- sapply(1:21, function(i) { max(manhat.ord$position[manhat.ord$chr==i],0) })\n",
    "    max.pos2 <- c(0, cumsum(max.pos))                  \n",
    "\n",
    "    #Add spacing between chromosomes\n",
    "    max.pos2 <- max.pos2 + c(0:21) * xscale * 10\n",
    "\n",
    "    #defining the positions of each snp in the plot\n",
    "    manhat.ord$pos <- manhat.ord$position + max.pos2[as.numeric(manhat.ord$chr)]\n",
    "\n",
    "    # alternate coloring of chromosomes\n",
    "    manhat.ord$col <- col.snps[1 + as.numeric(manhat.ord$chr) %% 2]\n",
    "\n",
    "    # draw the chromosome label roughly in the middle of each chromosome band\n",
    "    text.pos <- sapply(c(1:22), function(i) { mean(manhat.ord$pos[manhat.ord$chr==i]) })\n",
    "\n",
    "    # Plot the data\n",
    "    plot(manhat.ord$pos[manhat.ord$type==\"typed\"]/xscale, manhat.ord$Neg_logP[manhat.ord$type==\"typed\"],\n",
    "         pch=20, cex=.3, col= manhat.ord$col[manhat.ord$type==\"typed\"], xlab=NA,\n",
    "         ylab=\"Negative Log P-value\", axes=F, ylim=c(0,max(manhat$Neg_logP)+1))\n",
    "    #Add x-label so that it is close to axis\n",
    "    mtext(side = 1, \"Chromosome\", line = 1.25)\n",
    "\n",
    "    points(manhat.ord$pos[manhat.ord$type==\"imputed\"]/xscale, manhat.ord$Neg_logP[manhat.ord$type==\"imputed\"],\n",
    "           pch=20, cex=.4, col = col.imputed)\n",
    "\n",
    "    points(manhat.ord$pos[manhat.ord$type==\"typed\"]/xscale, manhat.ord$Neg_logP[manhat.ord$type==\"typed\"],\n",
    "           pch=20, cex=.3, col = manhat.ord$col[manhat.ord$type==\"typed\"])\n",
    "\n",
    "    axis(2)\n",
    "    abline(h=0)\n",
    "\n",
    "    SigNifSNPs <- as.character(GWAS[GWAS$Neg_logP > Lstringent.thresh & GWAS$type==\"typed\", \"SNP\"])\n",
    "\n",
    "    #Add legend\n",
    "    legend(\"topright\",c(\"Bonferroni corrected threshold (p = 5E-8)\", \"Candidate threshold (p = 5E-6)\"),\n",
    "           border=\"black\", col=c(\"gray60\", \"gray60\"), pch=c(0, 0), lwd=c(1,1),\n",
    "           lty=c(1,2), pt.cex=c(0,0), bty=\"o\", cex=0.6)\n",
    "\n",
    "    #Add chromosome number\n",
    "    text(text.pos/xscale, -.3, seq(1,22,by=1), xpd=TRUE, cex=.8)\n",
    "\n",
    "    #Add bonferroni line\n",
    "    abline(h=bonferroni.thresh, untf = FALSE, col = \"gray60\")\n",
    "\n",
    "    #Add \"less stringent\" line\n",
    "    abline(h=Lstringent.thresh, untf = FALSE, col = \"gray60\", lty = 2 )\n",
    "\n",
    "    #Plotting detected genes\n",
    "    #Were any genes detected?\n",
    "    if (length(SigNifSNPs)>0){\n",
    "\n",
    "        sig.snps <- manhat.ord[,'SNP'] %in% SigNifSNPs\n",
    "\n",
    "        points(manhat.ord$pos[sig.snps]/xscale,\n",
    "               manhat.ord$Neg_logP[sig.snps],\n",
    "             pch=20,col=col.detected, bg=col.detected,cex=0.5)\n",
    "\n",
    "      text(manhat.ord$pos[sig.snps]/xscale,\n",
    "           manhat.ord$Neg_logP[sig.snps],\n",
    "           as.character(manhat.ord[sig.snps,1]), col=col.text, offset=1, adj=-.1, cex=.5)\n",
    "    }\n",
    "}"
   ]
  },
  {
   "cell_type": "code",
   "execution_count": 30,
   "metadata": {},
   "outputs": [
    {
     "ename": "ERROR",
     "evalue": "Error in GWAS_Manhattan(GWAScomb): object 'GWAScomb' not found\n",
     "output_type": "error",
     "traceback": [
      "Error in GWAS_Manhattan(GWAScomb): object 'GWAScomb' not found\nTraceback:\n",
      "1. GWAS_Manhattan(GWAScomb)"
     ]
    }
   ],
   "source": [
    "# Create Manhattan Plot\n",
    "GWAS_Manhattan(GWAScomb)"
   ]
  },
  {
   "cell_type": "code",
   "execution_count": 31,
   "metadata": {},
   "outputs": [
    {
     "ename": "ERROR",
     "evalue": "Error in eval(expr, envir, enclos): object 'phenoSub' not found\n",
     "output_type": "error",
     "traceback": [
      "Error in eval(expr, envir, enclos): object 'phenoSub' not found\nTraceback:\n"
     ]
    }
   ],
   "source": [
    "# Rerun the GWAS using unadjusted model\n",
    "phenoSub2 <- phenoSub[,c(\"id\",\"phenotype\")] # remove all extra factors, leave only phenotype\n",
    "\n",
    "GWAA(genodata=genotype, phenodata=phenoSub2, filename=gwaa.unadj.fname)"
   ]
  },
  {
   "cell_type": "code",
   "execution_count": 32,
   "metadata": {},
   "outputs": [
    {
     "name": "stderr",
     "output_type": "stream",
     "text": [
      "Warning message in file(file, \"rt\"):\n",
      "“cannot open file '/home/jupyter-user/notebooks/statgen_tutorial/SIMFiles/GWAStutorialoutUnadj.txt': No such file or directory”\n"
     ]
    },
    {
     "ename": "ERROR",
     "evalue": "Error in file(file, \"rt\"): cannot open the connection\n",
     "output_type": "error",
     "traceback": [
      "Error in file(file, \"rt\"): cannot open the connection\nTraceback:\n",
      "1. read.table(gwaa.unadj.fname, header = TRUE, colClasses = c(\"character\", \n .     rep(\"numeric\", 4)))",
      "2. file(file, \"rt\")"
     ]
    }
   ],
   "source": [
    "GWASoutUnadj <- read.table(gwaa.unadj.fname, header=TRUE, colClasses=c(\"character\", rep(\"numeric\",4)))\n",
    "\n",
    "# Create QQ plots for adjusted and unadjusted model outputs\n",
    "par(mfrow=c(1,2))\n",
    "lambdaAdj <- estlambda(GWASout$t.value^2,plot=TRUE,method=\"median\")\n",
    "lambdaUnadj <- estlambda(GWASoutUnadj$t.value^2,plot=TRUE,method=\"median\")"
   ]
  },
  {
   "cell_type": "code",
   "execution_count": 33,
   "metadata": {},
   "outputs": [
    {
     "ename": "ERROR",
     "evalue": "Error in sprintf(\"Unadjusted lambda: %s\\nAdjusted lambda: %s\\n\", lambdaUnadj$estimate, : object 'lambdaUnadj' not found\n",
     "output_type": "error",
     "traceback": [
      "Error in sprintf(\"Unadjusted lambda: %s\\nAdjusted lambda: %s\\n\", lambdaUnadj$estimate, : object 'lambdaUnadj' not found\nTraceback:\n",
      "1. cat(sprintf(\"Unadjusted lambda: %s\\nAdjusted lambda: %s\\n\", lambdaUnadj$estimate, \n .     lambdaAdj$estimate))",
      "2. sprintf(\"Unadjusted lambda: %s\\nAdjusted lambda: %s\\n\", lambdaUnadj$estimate, \n .     lambdaAdj$estimate)"
     ]
    }
   ],
   "source": [
    "cat(sprintf(\"Unadjusted lambda: %s\\nAdjusted lambda: %s\\n\", lambdaUnadj$estimate, lambdaAdj$estimate))"
   ]
  },
  {
   "cell_type": "code",
   "execution_count": 34,
   "metadata": {},
   "outputs": [
    {
     "ename": "ERROR",
     "evalue": "Error in eval(expr, envir, enclos): object 'lambdaAdj' not found\n",
     "output_type": "error",
     "traceback": [
      "Error in eval(expr, envir, enclos): object 'lambdaAdj' not found\nTraceback:\n"
     ]
    }
   ],
   "source": [
    "# Calculate standardized lambda\n",
    "lambdaAdj_1000<-1+(lambdaAdj$estimate-1)/nrow(phenoSub)*1000\n",
    "lambdaUnadj_1000<-1+(lambdaUnadj$estimate-1)/nrow(phenoSub)*1000\n",
    "cat(sprintf(\"Standardized unadjusted lambda: %s\\nStandardized adjusted lambda: %s\\n\", lambdaUnadj_1000, lambdaAdj_1000))"
   ]
  },
  {
   "cell_type": "code",
   "execution_count": 35,
   "metadata": {},
   "outputs": [
    {
     "ename": "ERROR",
     "evalue": "Error in library(rtracklayer): there is no package called ‘rtracklayer’\n",
     "output_type": "error",
     "traceback": [
      "Error in library(rtracklayer): there is no package called ‘rtracklayer’\nTraceback:\n",
      "1. library(rtracklayer)"
     ]
    }
   ],
   "source": [
    "library(LDheatmap)\n",
    "library(rtracklayer)\n",
    "\n",
    "# Add \"rs247617\" to CETP\n",
    "CETP <- rbind.fill(GWASout[GWASout$SNP == \"rs247617\",], CETP)\n",
    "\n",
    "# Combine genotypes and imputed genotypes for CETP region\n",
    "subgen <- cbind(genotype[,colnames(genotype) %in% CETP$SNP], impCETPgeno)     # CETP subsets from typed and imputed SNPs\n",
    "\n",
    "# Subset SNPs for only certain genotypes\n",
    "certain <- apply(as(subgen, 'numeric'), 2, function(x) { all(x %in% c(0,1,2,NA)) })\n",
    "subgen <- subgen[,certain]\n",
    "\n",
    "# Subset and order CETP SNPs by position\n",
    "CETP <- CETP[CETP$SNP %in% colnames(subgen),]\n",
    "CETP <- arrange(CETP, position)\n",
    "subgen <- subgen[, order(match(colnames(subgen),CETP$SNP)) ]\n",
    "\n",
    "# Create LDheatmap\n",
    "ld <- ld(subgen, subgen, stats=\"R.squared\") # Find LD map of CETP SNPs\n",
    "\n",
    "ll <- LDheatmap(ld, CETP$position, flip=TRUE, name=\"myLDgrob\", title=NULL)\n",
    "\n",
    "# Add genes, recombination\n",
    "llplusgenes <- LDheatmap.addGenes(ll, chr = \"chr16\", genome = \"hg19\", genesLocation = 0.01)\n",
    "\n",
    "# Add plot of -log(p)\n",
    "library(ggplot2)\n",
    "\n",
    "plot.new()\n",
    "llQplot2<-LDheatmap.addGrob(llplusgenes, rectGrob(gp = gpar(col = \"white\")),height = .34)\n",
    "pushViewport(viewport(x = 0.483, y= 0.76, width = .91 ,height = .4))\n",
    "\n",
    "grid.draw(ggplotGrob({\n",
    "  qplot(position, Neg_logP, data = CETP, xlab=\"\", ylab = \"Negative Log P-value\", xlim = range(CETP$position),\n",
    "        asp = 1/10, color = factor(type), colour=c(\"#000000\", \"#D55E00\")) + \n",
    "    theme(axis.text.x = element_blank(),\n",
    "          axis.title.y = element_text(size = rel(0.75)), legend.position = \"none\", \n",
    "          panel.background = element_blank(), \n",
    "          axis.line = element_line(colour = \"black\")) +\n",
    "    scale_color_manual(values = c(\"red\", \"black\"))\n",
    "}))"
   ]
  },
  {
   "cell_type": "code",
   "execution_count": 36,
   "metadata": {},
   "outputs": [
    {
     "name": "stderr",
     "output_type": "stream",
     "text": [
      "Loading required package: data.table\n",
      "\n",
      "Loading required package: biomaRt\n",
      "\n",
      "Loading required package: lattice\n",
      "\n",
      "Loading required package: GenABEL\n",
      "\n",
      "Loading required package: MASS\n",
      "\n",
      "\n",
      "Attaching package: ‘MASS’\n",
      "\n",
      "\n",
      "The following object is masked _by_ ‘.GlobalEnv’:\n",
      "\n",
      "    genotype\n",
      "\n",
      "\n",
      "The following object is masked from ‘package:biomaRt’:\n",
      "\n",
      "    select\n",
      "\n",
      "\n",
      "Loading required package: GenABEL.data\n",
      "\n",
      "Loading required package: igraph\n",
      "\n",
      "\n",
      "Attaching package: ‘igraph’\n",
      "\n",
      "\n",
      "The following objects are masked from ‘package:stats’:\n",
      "\n",
      "    decompose, spectrum\n",
      "\n",
      "\n",
      "The following object is masked from ‘package:base’:\n",
      "\n",
      "    union\n",
      "\n",
      "\n"
     ]
    },
    {
     "ename": "ERROR",
     "evalue": "Error in revalue(names(x), replace, warn_missing = warn_missing): object 'GWAScomb' not found\n",
     "output_type": "error",
     "traceback": [
      "Error in revalue(names(x), replace, warn_missing = warn_missing): object 'GWAScomb' not found\nTraceback:\n",
      "1. rename(GWAScomb, c(p.value = \"P\", chr = \"CHR\", position = \"BP\"))",
      "2. revalue(names(x), replace, warn_missing = warn_missing)"
     ]
    }
   ],
   "source": [
    "# Create regional association plot\n",
    "# Create data.frame of most significant SNP only\n",
    "library(postgwas)\n",
    "\n",
    "snps<-data.frame(SNP=c(\"rs1532625\"))\n",
    "\n",
    "# Change column names necessary to run regionalplot function\n",
    "GWAScomb <- rename(GWAScomb, c(p.value=\"P\", chr=\"CHR\", position=\"BP\"))\n",
    "\n",
    "\n",
    "# Edit biomartConfigs so regionalplot function\n",
    "# pulls from human genome build 37/hg19\n",
    "\n",
    "myconfig <- biomartConfigs$hsapiens\n",
    "myconfig$hsapiens$gene$host <- \"grch37.ensembl.org\"\n",
    "myconfig$hsapiens$gene$mart <- \"ENSEMBL_MART_ENSEMBL\"\n",
    "myconfig$hsapiens$snp$host <- \"grch37.ensembl.org\"\n",
    "myconfig$hsapiens$snp$mart <- \"ENSEMBL_MART_SNP\"\n",
    "\n",
    "\n",
    "# Run regionalplot using HAPMAP data (pop = CEU)\n",
    "regionalplot(snps, GWAScomb, biomart.config = myconfig, window.size = 400000, draw.snpname = data.frame(\n",
    "  snps = c(\"rs1532625\", \"rs247617\"), \n",
    "  text = c(\"rs1532625\", \"rs247617\"),\n",
    "  angle = c(20, 160),\n",
    "  length = c(1, 1), \n",
    "  cex = c(0.8)\n",
    "),\n",
    "ld.options = list(\n",
    "  gts.source = 2, \n",
    "  max.snps.per.window = 2000, \n",
    "  rsquare.min = 0.8, \n",
    "  show.rsquare.text = FALSE\n",
    "),\n",
    "out.format = list(file = NULL, panels.per.page = 2))"
   ]
  },
  {
   "cell_type": "code",
   "execution_count": null,
   "metadata": {},
   "outputs": [],
   "source": []
  }
 ],
 "metadata": {
  "kernelspec": {
   "display_name": "R",
   "language": "R",
   "name": "ir"
  }
 },
 "nbformat": 4,
 "nbformat_minor": 4
}
