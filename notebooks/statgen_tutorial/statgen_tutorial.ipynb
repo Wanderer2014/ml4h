{
 "cells": [
  {
   "cell_type": "markdown",
   "metadata": {},
   "source": [
    "## Download tutorial files into SIMFiles folder"
   ]
  },
  {
   "cell_type": "code",
   "execution_count": 3,
   "metadata": {},
   "outputs": [],
   "source": [
    "data.dir <- '/home/jupyter-user/notebooks/statgen_tutorial/SIMFiles'\n",
    "out.dir <- data.dir                     # may want to write to a separate dir to avoid clutter\n",
    "\n",
    "# Download files\n",
    "urlSupport <- \"https://www.mtholyoke.edu/courses/afoulkes/Data/GWAStutorial/GWASTutorial_Files.zip\"\n",
    "zipSupport.fn <- sprintf(\"%s/GWAStutorial_Files.zip\", data.dir) \n",
    "\n",
    "# Input files\n",
    "gwas.fn <- lapply(c(bed='bed',bim='bim',fam='fam',gds='gds'), function(n) sprintf(\"%s/GWAStutorial.%s\", data.dir, n))\n",
    "clinical.fn <- sprintf(\"%s/GWAStutorial_clinical.csv\", data.dir) \n",
    "onethou.fn <- lapply(c(info='info',ped='ped'), function(n) sprintf(\"%s/chr16_1000g_CEU.%s\", data.dir, n))\n",
    "protein.coding.coords.fname <- sprintf(\"%s/ProCodgene_coords.csv\", data.dir)\n",
    "\n",
    "# Output files\n",
    "gwaa.fname <- sprintf(\"%s/GWAStutorialout.txt\", out.dir)\n",
    "gwaa.unadj.fname <- sprintf(\"%s/GWAStutorialoutUnadj.txt\", out.dir)\n",
    "impute.out.fname <- sprintf(\"%s/GWAStutorial_imputationOut.csv\", out.dir)\n",
    "CETP.fname <- sprintf(\"%s/CETP_GWASout.csv\", out.dir)\n",
    "\n",
    "# Working data saved between each code snippet so each can run independently.\n",
    "# Use save(data, file=working.data.fname(num))\n",
    "working.data.fname <- function(num) { sprintf(\"%s/working.%s.Rdata\", out.dir, num) }"
   ]
  },
  {
   "cell_type": "code",
   "execution_count": 8,
   "metadata": {},
   "outputs": [],
   "source": [
    "# Download and unzip data needed for this tutorial\n",
    "library(downloader)\n",
    "\n",
    "download(urlSupport, zipSupport.fn)\n",
    "unzip(zipSupport.fn, exdir = data.dir)"
   ]
  },
  {
   "cell_type": "markdown",
   "metadata": {},
   "source": [
    "## Data preprocessing"
   ]
  },
  {
   "cell_type": "code",
   "execution_count": 9,
   "metadata": {},
   "outputs": [
    {
     "name": "stderr",
     "output_type": "stream",
     "text": [
      "Loading required package: survival\n",
      "\n",
      "Loading required package: Matrix\n",
      "\n"
     ]
    }
   ],
   "source": [
    "library(snpStats)\n",
    "\n",
    "# Read in PLINK files\n",
    "geno <- read.plink(gwas.fn$bed, gwas.fn$bim, gwas.fn$fam, na.strings = (\"-9\"))"
   ]
  },
  {
   "cell_type": "code",
   "execution_count": 10,
   "metadata": {},
   "outputs": [
    {
     "name": "stdout",
     "output_type": "stream",
     "text": [
      "A SnpMatrix with  1401 rows and  861473 columns\n",
      "Row names:  10002 ... 11596 \n",
      "Col names:  rs10458597 ... rs5970564 \n"
     ]
    }
   ],
   "source": [
    "# Obtain the SnpMatrix object (genotypes) table from geno list\n",
    "# Note: Phenotypes and covariates will be read from the clinical data file, below\n",
    "genotype <- geno$genotype\n",
    "print(genotype)                  # 861473 SNPs read in for 1401 subjects"
   ]
  },
  {
   "cell_type": "code",
   "execution_count": 11,
   "metadata": {},
   "outputs": [
    {
     "name": "stdout",
     "output_type": "stream",
     "text": [
      "           chr        SNP gen.dist position   A1 A2\n",
      "rs10458597   1 rs10458597        0   564621 <NA>  C\n",
      "rs12565286   1 rs12565286        0   721290    G  C\n",
      "rs12082473   1 rs12082473        0   740857    T  C\n",
      "rs3094315    1  rs3094315        0   752566    C  T\n",
      "rs2286139    1  rs2286139        0   761732    C  T\n",
      "rs11240776   1 rs11240776        0   765269    G  A\n"
     ]
    }
   ],
   "source": [
    "#Obtain the SNP information from geno list\n",
    "genoBim <- geno$map\n",
    "colnames(genoBim) <- c(\"chr\", \"SNP\", \"gen.dist\", \"position\", \"A1\", \"A2\")\n",
    "print(head(genoBim))"
   ]
  },
  {
   "cell_type": "code",
   "execution_count": 12,
   "metadata": {},
   "outputs": [],
   "source": [
    "# Remove raw file to free up memory\n",
    "rm(geno)"
   ]
  },
  {
   "cell_type": "code",
   "execution_count": 13,
   "metadata": {},
   "outputs": [
    {
     "name": "stdout",
     "output_type": "stream",
     "text": [
      "      FamID CAD sex age  tg hdl ldl\n",
      "10002 10002   1   1  60  NA  NA  NA\n",
      "10004 10004   1   2  50  55  23  75\n",
      "10005 10005   1   1  55 105  37  69\n",
      "10007 10007   1   1  52 314  54 108\n",
      "10008 10008   1   1  58 161  40  94\n",
      "10009 10009   1   1  59 171  46  92\n"
     ]
    }
   ],
   "source": [
    "# Read in clinical file\n",
    "clinical <- read.csv(clinical.fn,\n",
    "                     colClasses=c(\"character\", \"factor\", \"factor\", rep(\"numeric\", 4)))\n",
    "rownames(clinical) <- clinical$FamID\n",
    "print(head(clinical))"
   ]
  },
  {
   "cell_type": "code",
   "execution_count": 14,
   "metadata": {},
   "outputs": [
    {
     "name": "stdout",
     "output_type": "stream",
     "text": [
      "A SnpMatrix with  1401 rows and  861473 columns\n",
      "Row names:  10002 ... 11596 \n",
      "Col names:  rs10458597 ... rs5970564 \n"
     ]
    }
   ],
   "source": [
    "# Subset genotype for subject data\n",
    "genotype <- genotype[clinical$FamID, ]\n",
    "print(genotype)  # Tutorial: All 1401 subjects contain both clinical and genotype data"
   ]
  },
  {
   "cell_type": "code",
   "execution_count": 15,
   "metadata": {},
   "outputs": [],
   "source": [
    "# Write genotype, genoBim, clinical for future use\n",
    "save(genotype, genoBim, clinical, file = working.data.fname(1))"
   ]
  },
  {
   "cell_type": "code",
   "execution_count": 16,
   "metadata": {},
   "outputs": [
    {
     "name": "stdout",
     "output_type": "stream",
     "text": [
      "           Calls Call.rate Certain.calls       RAF         MAF       P.AA\n",
      "rs10458597  1398 0.9978587             1 1.0000000 0.000000000 0.00000000\n",
      "rs12565286  1384 0.9878658             1 0.9483382 0.051661850 0.00433526\n",
      "rs12082473  1369 0.9771592             1 0.9985391 0.001460920 0.00000000\n",
      "rs3094315   1386 0.9892934             1 0.8217893 0.178210678 0.04761905\n",
      "rs2286139   1364 0.9735903             1 0.8621701 0.137829912 0.02199413\n",
      "rs11240776  1269 0.9057816             1 0.9988180 0.001182033 0.00000000\n",
      "                  P.AB      P.BB       z.HWE\n",
      "rs10458597 0.000000000 1.0000000          NA\n",
      "rs12565286 0.094653179 0.9010116 -1.26529432\n",
      "rs12082473 0.002921841 0.9970782  0.05413314\n",
      "rs3094315  0.261183261 0.6911977 -4.03172248\n",
      "rs2286139  0.231671554 0.7463343 -0.93146122\n",
      "rs11240776 0.002364066 0.9976359  0.04215743\n"
     ]
    }
   ],
   "source": [
    "# Create SNP summary statistics (MAF, call rate, etc.)\n",
    "snpsum.col <- col.summary(genotype)\n",
    "print(head(snpsum.col))"
   ]
  },
  {
   "cell_type": "code",
   "execution_count": 17,
   "metadata": {},
   "outputs": [
    {
     "name": "stdout",
     "output_type": "stream",
     "text": [
      "203287 SNPs will be removed due to low MAF or call rate.\n"
     ]
    }
   ],
   "source": [
    "# Setting thresholds\n",
    "call <- 0.95\n",
    "minor <- 0.01\n",
    "\n",
    "# Filter on MAF and call rate\n",
    "use <- with(snpsum.col, (!is.na(MAF) & MAF > minor) & Call.rate >= call)\n",
    "use[is.na(use)] <- FALSE                # Remove NA's as well\n",
    "\n",
    "cat(ncol(genotype)-sum(use),\"SNPs will be removed due to low MAF or call rate.\\n\") #203287 SNPs will be removed"
   ]
  },
  {
   "cell_type": "code",
   "execution_count": 18,
   "metadata": {},
   "outputs": [
    {
     "name": "stdout",
     "output_type": "stream",
     "text": [
      "A SnpMatrix with  1401 rows and  658186 columns\n",
      "Row names:  10002 ... 11596 \n",
      "Col names:  rs12565286 ... rs5970564 \n"
     ]
    }
   ],
   "source": [
    "# Subset genotype and SNP summary data for SNPs that pass call rate and MAF criteria\n",
    "genotype <- genotype[,use]\n",
    "snpsum.col <- snpsum.col[use,]\n",
    "\n",
    "print(genotype)                           # 658186 SNPs remain"
   ]
  },
  {
   "cell_type": "code",
   "execution_count": 19,
   "metadata": {},
   "outputs": [],
   "source": [
    "# Write subsetted genotype data and derived results for future use\n",
    "save(genotype, snpsum.col, genoBim, clinical, file=working.data.fname(2))"
   ]
  },
  {
   "cell_type": "code",
   "execution_count": 21,
   "metadata": {},
   "outputs": [],
   "source": [
    "# Sample level filtering\n",
    "\n",
    "#source(\"globals.R\")\n",
    "\n",
    "# load data created in previous snippets\n",
    "load(working.data.fname(2))\n",
    "\n",
    "library(snpStats)"
   ]
  },
  {
   "cell_type": "code",
   "execution_count": 22,
   "metadata": {},
   "outputs": [
    {
     "name": "stderr",
     "output_type": "stream",
     "text": [
      "Loading required package: gdsfmt\n",
      "\n",
      "SNPRelate -- supported by Streaming SIMD Extensions 2 (SSE2)\n",
      "\n"
     ]
    },
    {
     "ename": "ERROR",
     "evalue": "Error: cannot allocate vector of size 6.9 Gb\n",
     "output_type": "error",
     "traceback": [
      "Error: cannot allocate vector of size 6.9 Gb\nTraceback:\n",
      "1. is.na(genotype)",
      "2. is.na(genotype)",
      "3. x == 0",
      "4. x == 0",
      "5. callGeneric(if (isS4(e1)) e1@.Data else e1, if (isS4(e2)) e2@.Data else e2)",
      "6. eval(call, parent.frame())",
      "7. eval(call, parent.frame())"
     ]
    }
   ],
   "source": [
    "library(SNPRelate)                      # LD pruning, relatedness, PCA\n",
    "library(plyr)\n",
    "\n",
    "# Create sample statistics (Call rate, Heterozygosity)\n",
    "snpsum.row <- row.summary(genotype)\n",
    "\n",
    "# Add the F stat (inbreeding coefficient) to snpsum.row\n",
    "MAF <- snpsum.col$MAF\n",
    "callmatrix <- !is.na(genotype)\n",
    "hetExp <- callmatrix %*% (2*MAF*(1-MAF))\n",
    "hetObs <- with(snpsum.row, Heterozygosity*(ncol(genotype))*Call.rate)\n",
    "snpsum.row$hetF <- 1-(hetObs/hetExp)\n",
    "\n",
    "head(snpsum.row)"
   ]
  },
  {
   "cell_type": "code",
   "execution_count": null,
   "metadata": {},
   "outputs": [],
   "source": [
    "# Setting thresholds\n",
    "sampcall <- 0.95    # Sample call rate cut-off\n",
    "hetcutoff <- 0.1    # Inbreeding coefficient cut-off\n",
    "\n",
    "sampleuse <- with(snpsum.row, !is.na(Call.rate) & Call.rate > sampcall & abs(hetF) <= hetcutoff)\n",
    "sampleuse[is.na(sampleuse)] <- FALSE    # remove NA's as well\n",
    "cat(nrow(genotype)-sum(sampleuse), \"subjects will be removed due to low sample call rate or inbreeding coefficient.\\n\") #0 subjects removed"
   ]
  },
  {
   "cell_type": "code",
   "execution_count": null,
   "metadata": {},
   "outputs": [],
   "source": [
    "# Subset genotype and clinical data for subjects who pass call rate and heterozygosity crtieria\n",
    "genotype <- genotype[sampleuse,]\n",
    "clinical<- clinical[ rownames(genotype), ]"
   ]
  },
  {
   "cell_type": "code",
   "execution_count": null,
   "metadata": {},
   "outputs": [],
   "source": []
  }
 ],
 "metadata": {
  "kernelspec": {
   "display_name": "R",
   "language": "R",
   "name": "ir"
  },
  "language_info": {
   "codemirror_mode": "r",
   "file_extension": ".r",
   "mimetype": "text/x-r-source",
   "name": "R",
   "pygments_lexer": "r",
   "version": "3.6.3"
  }
 },
 "nbformat": 4,
 "nbformat_minor": 4
}
