{
 "cells": [
  {
   "cell_type": "code",
   "execution_count": null,
   "metadata": {},
   "outputs": [],
   "source": [
    "import os\n",
    "import sys\n",
    "import math\n",
    "import argparse\n",
    "import numpy as np\n",
    "from collections import Counter\n",
    "from scipy import ndimage\n",
    "from biosppy.signals.ecg import ecg\n",
    "\n",
    "# Keras imports\n",
    "from tensorflow.keras.models import Model\n",
    "from tensorflow.keras import backend as K\n",
    "import tensorflow as tf\n",
    "\n",
    "# ML4CVD Imports\n",
    "from ml4cvd.arguments import parse_args\n",
    "from ml4cvd.models import make_multimodal_multitask_model, train_model_from_generators\n",
    "from ml4cvd.tensor_generators import TensorGenerator, big_batch_from_minibatch_generator, test_train_valid_tensor_generators\n",
    "from ml4cvd.recipes import test_multimodal_scalar_tasks\n",
    "\n",
    "# IPython imports\n",
    "from IPython.display import Image\n",
    "%matplotlib inline\n",
    "import matplotlib.pyplot as plt\n",
    "\n",
    "from scipy.stats import linregress"
   ]
  },
  {
   "cell_type": "code",
   "execution_count": null,
   "metadata": {},
   "outputs": [],
   "source": [
    "tf.compat.v1.disable_eager_execution()"
   ]
  },
  {
   "cell_type": "code",
   "execution_count": null,
   "metadata": {},
   "outputs": [],
   "source": [
    "def gradients_from_output(args, model, output_layer, output_index):\n",
    "    K.set_learning_phase(1)\n",
    "    input_tensor = model.input\n",
    "    x = model.get_layer(output_layer).output[:, output_index]\n",
    "    grads = K.gradients(x, input_tensor)[0]\n",
    "    grads /= (K.sqrt(K.mean(K.square(grads))) + 1e-6) # normalization trick: we normalize the gradient\n",
    "    iterate = K.function(input_tensor, [x, grads])\n",
    "    return iterate\n",
    "\n",
    "def saliency_map(input_tensor, model, output_layer, output_index):\n",
    "    get_gradients = gradients_from_output(args, model, output_layer, output_index)\n",
    "    activation, grads = get_gradients(input_tensor)\n",
    "    print('gradient shape:', grads.shape)\n",
    "    return grads\n"
   ]
  },
  {
   "cell_type": "markdown",
   "metadata": {},
   "source": [
    "# Load the training data and model\n",
    "## Requirements\n",
    "* Checkout branch `nd_jen_inference_tmaps`\n",
    "* Download https://console.cloud.google.com/storage/browser/_details/ml4cvd/ndiamant/hrr_pretest_model.h5?project=broad-ml4cvd\n",
    "* Download https://console.cloud.google.com/storage/browser/_details/ml4cvd/ndiamant/ensemble_hrr.csv?project=broad-ml4cvd and edit `TensorMap ecg-bike-hrr-ramp` in `tensor_from_file` so it points to the path of ensemble_hrr.csv\n",
    "* Attach disk `ecg_bike_tensors`"
   ]
  },
  {
   "cell_type": "code",
   "execution_count": null,
   "metadata": {},
   "outputs": [],
   "source": [
    "model_path = '/home/ndiamant/train_runs/hrr_swish_few_covs_ramp_warp_patient_bmi/hrr_swish_few_covs_ramp_warp_patient_bmi.h5'"
   ]
  },
  {
   "cell_type": "code",
   "execution_count": null,
   "metadata": {},
   "outputs": [],
   "source": [
    "sys.argv = ['train', \n",
    "            '--tensors', '/mnt/disks/ecg-bike-tensors/2019-10-10/', \n",
    "            '--input_tensors', 'ecg_bike_shifted_8xdownsampled_10s','genetic_sex','ecg-bike-age','bmi',\n",
    "            '--output_tensors', 'ecg-bike-hrr-ramp',\n",
    "            '--batch_size', '32',\n",
    "            '--epochs', '2',  \n",
    "            '--learning_rate', '0.001',\n",
    "            '--training_steps', '128',\n",
    "            '--validation_steps', '10',\n",
    "            '--test_steps', '1',\n",
    "            '--model_file', model_path,\n",
    "            '--id', 'hrr_saliency',\n",
    "            '--test_csv', '/home/ndiamant/ecg_test_ids',\n",
    "]\n",
    "args = parse_args()\n",
    "model = make_multimodal_multitask_model(**args.__dict__)\n",
    "generate_train, generate_valid, generate_test = test_train_valid_tensor_generators(**args.__dict__)\n",
    "test_data, test_labels, test_paths = big_batch_from_minibatch_generator(generate_test, args.test_steps)\n",
    ";"
   ]
  },
  {
   "cell_type": "markdown",
   "metadata": {},
   "source": [
    "# Get gradients and plot saliency maps of unmodified input"
   ]
  },
  {
   "cell_type": "code",
   "execution_count": null,
   "metadata": {},
   "outputs": [],
   "source": [
    "test_tensor = list(test_data.values())\n",
    "grads = saliency_map(test_tensor, model, 'output_hrr_continuous', 0)"
   ]
  },
  {
   "cell_type": "code",
   "execution_count": null,
   "metadata": {},
   "outputs": [],
   "source": [
    "for i in range(1):\n",
    "    fig, ax = plt.subplots(figsize=(12, 4))\n",
    "    ctf = test_tensor[0][i]   \n",
    "    g = grads[i].T.copy()\n",
    "    g = ndimage.gaussian_filter(g, sigma=3)\n",
    "    a = ax.imshow(g, cmap='plasma', aspect='auto', extent=[0, ctf.shape[0], ctf.min(), ctf.max()])\n",
    "    plt.colorbar(a)\n",
    "    ax.plot(ctf, 'k', lw=3)\n",
    "    ax.set_title('Saliency map of HRR')\n",
    "    plt.show()"
   ]
  },
  {
   "cell_type": "markdown",
   "metadata": {},
   "source": [
    "# Methods to modify and align RR intervals"
   ]
  },
  {
   "cell_type": "code",
   "execution_count": null,
   "metadata": {},
   "outputs": [],
   "source": [
    "def stretch_to_n_bpm(x, return_peaks=False, n=60):\n",
    "    \"\"\"\n",
    "    stretches input ECG to n bpm\n",
    "    \"\"\"\n",
    "    out = ecg(x.copy(), sampling_rate=500 // 4, show=False)\n",
    "    hr = out[-1].mean() / 2\n",
    "    t = np.arange(len(x))\n",
    "    tp = np.arange(len(x)) * n / hr\n",
    "    if return_peaks:\n",
    "        return np.interp(tp, t, x), out[2] * hr / n\n",
    "    return np.interp(tp, t, x)\n",
    "\n",
    "\n",
    "def superimpose_grads(x, g, peaks):\n",
    "    \"\"\"\n",
    "    Return each RR-interval of input ecg x.\n",
    "    xs is each stretched RR interval of ECG\n",
    "    sum_g is stretched gradients averaged over each RR-interval\n",
    "    sum_g is kinda like SELECT SUM(gradients) GROUP BY RR-interval\n",
    "    \"\"\"\n",
    "    xs = []\n",
    "    n = 100\n",
    "    sum_g = np.zeros(n)\n",
    "    for i in range(1, len(peaks) - 1):\n",
    "        j, k = int(peaks[i - 1]), int(peaks[i])\n",
    "        if k > len(x):\n",
    "            continue\n",
    "        stretch = lambda z: np.interp(np.linspace(0, 1, n), np.linspace(0, 1, k - j), z[j: k]) \n",
    "        xs.append(stretch(x))\n",
    "        sum_g += stretch(g)\n",
    "    return xs, sum_g"
   ]
  },
  {
   "cell_type": "code",
   "execution_count": null,
   "metadata": {},
   "outputs": [],
   "source": [
    "# Test of stretching ECG to 40 bpm\n",
    "a = test_tensor[0][1][:,0].copy()\n",
    "plt.plot(a, label='og')\n",
    "plt.plot(stretch_to_n_bpm(a, n=40), label='stretched')\n",
    "plt.legend()\n",
    "plt.show()"
   ]
  },
  {
   "cell_type": "markdown",
   "metadata": {},
   "source": [
    "# Stretch input data and calculate gradients"
   ]
  },
  {
   "cell_type": "code",
   "execution_count": null,
   "metadata": {},
   "outputs": [],
   "source": [
    "test_data_stretched = test_data.copy()\n",
    "peaks = []\n",
    "new_bpm = 50\n",
    "for i in range(len(test_data_stretched['input_full_continuous'])):\n",
    "    test_data_stretched['input_full_continuous'][i, :, 0], p = stretch_to_n_bpm(test_data['input_full_continuous'][i, :, 0].copy(), return_peaks=True, n=new_bpm)\n",
    "    peaks.append(p)"
   ]
  },
  {
   "cell_type": "code",
   "execution_count": null,
   "metadata": {},
   "outputs": [],
   "source": [
    "test_tensor = list(test_data_stretched.values())\n",
    "grads = saliency_map(test_tensor, model, 'output_hrr_continuous', 0)"
   ]
  },
  {
   "cell_type": "markdown",
   "metadata": {},
   "source": [
    "# Plot saliency map of stretched inputs"
   ]
  },
  {
   "cell_type": "code",
   "execution_count": null,
   "metadata": {},
   "outputs": [],
   "source": [
    "for i in range(1):\n",
    "    fig, ax = plt.subplots(figsize=(12, 4))\n",
    "    ctf = test_tensor[0][i]  \n",
    "    g = grads[i].T.copy()\n",
    "    g = ndimage.gaussian_filter(g, sigma=3)\n",
    "    a = ax.imshow(g, cmap='plasma', aspect='auto', extent=[0, ctf.shape[0], ctf.min(), ctf.max()])\n",
    "    plt.colorbar(a)\n",
    "    ax.plot(ctf, 'k', lw=3)\n",
    "    ax.set_title('Saliency map of HRR')\n",
    "    plt.show()"
   ]
  },
  {
   "cell_type": "markdown",
   "metadata": {},
   "source": [
    "# Plot saliency maps aligned to RR-interval"
   ]
  },
  {
   "cell_type": "code",
   "execution_count": null,
   "metadata": {},
   "outputs": [],
   "source": [
    "for i in range(16):\n",
    "    fig, ax = plt.subplots(figsize=(12, 4))\n",
    "    ctf = test_tensor[0][i]\n",
    "    hrr_pred = model.predict([x[i: i + 1] for x in test_tensor])[0, 0]\n",
    "    hrr_pred = hrr_pred * 15 + 25\n",
    "    g = grads[i].T.copy()\n",
    "    xs, sum_g = superimpose_grads(ctf[:, 0], g.T[:, 0], peaks[i]) \n",
    "    g = ndimage.gaussian_filter(sum_g[np.newaxis] / len(xs), sigma=2)\n",
    "    a = ax.imshow(g, cmap='plasma', aspect='auto', extent=[0, xs[0].shape[0], np.min(xs), np.max(xs)])\n",
    "    plt.colorbar(a)\n",
    "    for x in xs:\n",
    "        ax.plot(x, 'k', lw=3, alpha=.5)\n",
    "    ax.set_title(f'Saliency map of HRR, predicted is {hrr_pred:.2f}')\n",
    "    plt.show()"
   ]
  },
  {
   "cell_type": "markdown",
   "metadata": {},
   "source": [
    "# Modify ECG by gradient to increase predicted HRR"
   ]
  },
  {
   "cell_type": "code",
   "execution_count": null,
   "metadata": {},
   "outputs": [],
   "source": [
    "def ma(x, w):\n",
    "    \"\"\"moving average\"\"\"\n",
    "    s = x.shape\n",
    "    return (np.convolve(x.flatten(), np.ones(w), 'same') / w).reshape(s)"
   ]
  },
  {
   "cell_type": "code",
   "execution_count": null,
   "metadata": {},
   "outputs": [],
   "source": [
    "# modify input by grad and see change in predicted hrr\n",
    "idx = 0\n",
    "ctf = test_tensor[0][idx].copy()\n",
    "inp = [x[idx: idx + 1].copy() for x in test_tensor]\n",
    "g = grads[idx].T.copy()\n",
    "delta = 5e-2\n",
    "w = 10\n",
    "fig, ax = plt.subplots(figsize=(16, 8))\n",
    "n = 10\n",
    "for i in range(n): \n",
    "    hrr_pred = model.predict(inp)[0, 0]\n",
    "    hrr_pred = hrr_pred * 15 + 25        \n",
    "    inp[0] += ma(g.T, w) * delta\n",
    "    ctf += ma(g.T, w) * delta\n",
    "    xs, sum_g = superimpose_grads(ctf[:, 0], g.T[:, 0], peaks[idx]) \n",
    "    g2 = ndimage.gaussian_filter(sum_g[np.newaxis] / len(xs), sigma=2)\n",
    "    a = ax.imshow(g2, cmap='plasma', aspect='auto', extent=[0, xs[0].shape[0], np.min(xs), np.max(xs)])\n",
    "    c = i / n, i / n, i / n\n",
    "    ax.plot(np.median(xs, axis=0), c=c, alpha=.9, label=f'hrr is {hrr_pred:.2f}')\n",
    "plt.colorbar(a)\n",
    "plt.legend()\n",
    "plt.show()"
   ]
  },
  {
   "cell_type": "code",
   "execution_count": null,
   "metadata": {},
   "outputs": [],
   "source": []
  }
 ],
 "metadata": {
  "kernelspec": {
   "display_name": "Python 3",
   "language": "python",
   "name": "python3"
  },
  "language_info": {
   "codemirror_mode": {
    "name": "ipython",
    "version": 3
   },
   "file_extension": ".py",
   "mimetype": "text/x-python",
   "name": "python",
   "nbconvert_exporter": "python",
   "pygments_lexer": "ipython3",
   "version": "3.6.9"
  }
 },
 "nbformat": 4,
 "nbformat_minor": 4
}
