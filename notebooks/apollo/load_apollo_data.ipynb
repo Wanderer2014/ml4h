{
 "cells": [
  {
   "cell_type": "code",
   "execution_count": null,
   "metadata": {},
   "outputs": [],
   "source": [
    "import os\n",
    "import numpy as np\n",
    "\n",
    "import matplotlib.pyplot as plt\n",
    "import seaborn as sns\n",
    "\n",
    "\n",
    "# ml4cvd imports\n",
    "from ml4cvd.tensor_generators import test_train_valid_tensor_generators\n",
    "from ml4cvd.tensor_maps_partners_ecg import TMAPS\n",
    "%matplotlib inline"
   ]
  },
  {
   "cell_type": "code",
   "execution_count": null,
   "metadata": {},
   "outputs": [],
   "source": [
    "# Constants\n",
    "DATA_DIR = '/data/apollo/hd5_waveforms/'  # Data directory\n",
    "BATCH_SIZE = 32\n",
    "TRAIN_RATIO = .7  # train valid test split\n",
    "VALID_RATIO = .1\n",
    "TEST_RATIO = .2\n",
    "NUM_WORKERS = 0  # number of multiprocessing workers. Set to 0 for no multiprocessing\n",
    "CACHE_SIZE = 1e9  # size in bytes of cache that keeps data in memory after loading and transforming\n",
    "\n",
    "\n",
    "# These are keys in the TMAPS dictionary. More can be found in ml4cvd.tensor_maps_partners_ecg\n",
    "tensor_maps_in_keys = 'partners_ecg_5000',\n",
    "tensor_maps_out_keys = 'pressure_hr', 'pressure_RA_mean_pressure',\n",
    "\n",
    "tensor_maps_in = [TMAPS[k] for k in tensor_maps_in_keys]\n",
    "tensor_maps_out = [TMAPS[k] for k in tensor_maps_out_keys]\n",
    "for tm in tensor_maps_in:\n",
    "    print(f'TensorMap {tm.name} has shape {tm.shape}')\n",
    "for tm in tensor_maps_out:\n",
    "    print(f'TensorMap {tm.name} has shape {tm.shape}')"
   ]
  },
  {
   "cell_type": "code",
   "execution_count": null,
   "metadata": {},
   "outputs": [],
   "source": [
    "# Make sure the data exists\n",
    "len(os.listdir(DATA_DIR))"
   ]
  },
  {
   "cell_type": "code",
   "execution_count": null,
   "metadata": {},
   "outputs": [],
   "source": [
    "generate_train, generate_valid, generate_test = test_train_valid_tensor_generators(\n",
    "    tensor_maps_in=tensor_maps_in,\n",
    "    tensor_maps_out=tensor_maps_out,\n",
    "    tensors=DATA_DIR,    \n",
    "    batch_size=BATCH_SIZE,\n",
    "    valid_ratio=VALID_RATIO,\n",
    "    test_ratio=TEST_RATIO,\n",
    "    test_modulo=0,  # this adds extra data to the test set. Should be left at 0\n",
    "    num_workers=NUM_WORKERS,\n",
    "    cache_size=CACHE_SIZE,\n",
    "    balance_csvs=[],  # this can be used to resample unbalanced data\n",
    ")"
   ]
  },
  {
   "cell_type": "code",
   "execution_count": null,
   "metadata": {},
   "outputs": [],
   "source": [
    "# get an example batch from generate train\n",
    "input_batch, output_batch, _ = next(generate_train)  # generator yields (input batch, output batch, sample_weights)\n",
    "print(f'Input data has {input_batch.keys()}.')\n",
    "print(f'Output data has {output_batch.keys()}.')\n",
    "print()\n",
    "for k, v in input_batch.items():\n",
    "    print(f'{k} has shape {v.shape}')\n",
    "for k, v in output_batch.items():\n",
    "    print(f'{k} has shape {v.shape}')"
   ]
  },
  {
   "cell_type": "code",
   "execution_count": null,
   "metadata": {
    "scrolled": false
   },
   "outputs": [],
   "source": [
    "# Plot some data\n",
    "def plot_ecg(ecg, title):\n",
    "    rows = ecg.shape[1]\n",
    "    fig, axes = plt.subplots(rows, 1, figsize=(12, 3 * rows))\n",
    "    axes[0].set_title(title)\n",
    "    for i in range(rows):\n",
    "        axes[i].plot(ecg[:, i])\n",
    "    plt.show()\n",
    "\n",
    "\n",
    "for k, v in input_batch.items():\n",
    "    if len(v.shape) == 2:\n",
    "        plt.title(k)\n",
    "        sns.distplot(v)\n",
    "        plt.show()\n",
    "    elif len(v.shape) == 3:\n",
    "        plot_ecg(v[0], k)  # only plot first in batch   \n",
    "\n",
    "for k, v in output_batch.items():\n",
    "    if len(v.shape) == 2:\n",
    "        plt.title(k)\n",
    "        sns.distplot(v)\n",
    "        plt.show()"
   ]
  },
  {
   "cell_type": "code",
   "execution_count": null,
   "metadata": {},
   "outputs": [],
   "source": []
  }
 ],
 "metadata": {
  "kernelspec": {
   "display_name": "Python 3",
   "language": "python",
   "name": "python3"
  },
  "language_info": {
   "codemirror_mode": {
    "name": "ipython",
    "version": 3
   },
   "file_extension": ".py",
   "mimetype": "text/x-python",
   "name": "python",
   "nbconvert_exporter": "python",
   "pygments_lexer": "ipython3",
   "version": "3.6.9"
  }
 },
 "nbformat": 4,
 "nbformat_minor": 4
}
