{
 "cells": [
  {
   "cell_type": "code",
   "execution_count": null,
   "metadata": {},
   "outputs": [],
   "source": [
    "import sys\n",
    "from ml4cvd.recipes import explore_tensor_maps\n",
    "from ml4cvd.arguments import parse_args"
   ]
  },
  {
   "cell_type": "code",
   "execution_count": null,
   "metadata": {},
   "outputs": [],
   "source": [
    "sys.argv = ['train', \n",
    "            '--tensors','/mnt/disks/sax-lax-40k/2019-11-08', \n",
    "            '--input_tensors', 'bmi',\n",
    "            '--output_tensors', 'lv_mass_mosteller_index',\n",
    "            '--batch_size', '64', \n",
    "            '--epochs', '4',\n",
    "            '--training_steps', '750',\n",
    "            '--validation_steps', '150',\n",
    "            '--inspect_model',\n",
    "            '--id', 'exercise_ecg_hrr_for_ecg_rest_inference',\n",
    "            '--learning_rate', '1e-3',\n",
    "            '--patience', '100',\n",
    "            '--optimizer', 'radam',\n",
    "            '--conv_bn',\n",
    "            '--test_steps', '25'\n",
    "           ]\n",
    "args = parse_args()"
   ]
  },
  {
   "cell_type": "code",
   "execution_count": null,
   "metadata": {},
   "outputs": [],
   "source": [
    "dfs = explore_tensor_maps(args)"
   ]
  },
  {
   "cell_type": "code",
   "execution_count": null,
   "metadata": {
    "scrolled": false
   },
   "outputs": [],
   "source": [
    "%matplotlib inline\n",
    "import matplotlib.pyplot as plt\n",
    "plt.hist(dfs[0]['bmi'].dropna(), bins=20)"
   ]
  },
  {
   "cell_type": "code",
   "execution_count": null,
   "metadata": {},
   "outputs": [],
   "source": [
    "dfs[0]['bmi'].values"
   ]
  },
  {
   "cell_type": "code",
   "execution_count": null,
   "metadata": {},
   "outputs": [],
   "source": []
  }
 ],
 "metadata": {
  "kernelspec": {
   "display_name": "Python 3",
   "language": "python",
   "name": "python3"
  },
  "language_info": {
   "codemirror_mode": {
    "name": "ipython",
    "version": 3
   },
   "file_extension": ".py",
   "mimetype": "text/x-python",
   "name": "python",
   "nbconvert_exporter": "python",
   "pygments_lexer": "ipython3",
   "version": "3.6.8"
  }
 },
 "nbformat": 4,
 "nbformat_minor": 2
}
