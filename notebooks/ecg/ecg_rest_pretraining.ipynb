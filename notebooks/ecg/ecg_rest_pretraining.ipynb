{
 "cells": [
  {
   "cell_type": "code",
   "execution_count": 1,
   "metadata": {},
   "outputs": [
    {
     "name": "stderr",
     "output_type": "stream",
     "text": [
      "/usr/local/lib/python3.6/dist-packages/apache_beam/__init__.py:84: UserWarning: Running the Apache Beam SDK on Python 3 is not yet fully supported. You may encounter buggy behavior or missing features.\n",
      "  'Running the Apache Beam SDK on Python 3 is not yet fully supported. '\n",
      "Using TensorFlow backend.\n"
     ]
    }
   ],
   "source": [
    "import sys\n",
    "import os\n",
    "from ml4cvd.arguments import parse_args\n",
    "from ml4cvd.models import make_multimodal_multitask_model, saliency_map\n",
    "from ml4cvd.tensor_generators import test_train_valid_tensor_generators, big_batch_from_minibatch_generator\n",
    "from ml4cvd.recipes import run\n",
    "import h5py\n",
    "import numpy as np\n",
    "import matplotlib\n",
    "# font = {'family' : 'Arial',\n",
    "#         'size'   : 30}\n",
    "# matplotlib.rc('font', **font)\n",
    "import matplotlib.pyplot as plt\n",
    "from typing import List, Dict, Callable\n",
    "from collections import defaultdict\n",
    "import pandas as pd\n",
    "\n",
    "from ml4cvd.arguments import _get_tmap\n",
    "from ml4cvd.TensorMap import TensorMap\n",
    "from ml4cvd.tensor_from_file import TMAPS\n",
    "\n",
    "import numpy as np\n",
    "USER = 'pdiachil'\n",
    "HOME_PATH = '/home/' + USER"
   ]
  },
  {
   "cell_type": "code",
   "execution_count": null,
   "metadata": {},
   "outputs": [],
   "source": [
    "sys.argv = ['train',\n",
    "            '--mode', 'train',\n",
    "            '--output_folder', f'{HOME_PATH}/ukbb_output/',\n",
    "            '--tensors', f'/mnt/disks/ecg-rest-37k-tensors/2019-11-04/',\n",
    "            '--input_tensors', 'ecg_rest',\n",
    "            '--output_tensors', 'qrs-duration', 'p-duration', 'qt-interval', 'pq-interval', 'rr-interval',\n",
    "            '--id', 'ecg_rest_pretraining_intervals',\n",
    "            '--inspect_model',\n",
    "            '--training_steps', '810',\n",
    "            '--validation_steps', '230',\n",
    "            '--test_steps', '115',\n",
    "            '--batch_size', '32',\n",
    "            '--epochs', '3',\n",
    "            '--patience', '12'            \n",
    "           ]\n",
    "args = parse_args()"
   ]
  },
  {
   "cell_type": "code",
   "execution_count": null,
   "metadata": {},
   "outputs": [],
   "source": [
    "run(args)"
   ]
  },
  {
   "cell_type": "code",
   "execution_count": null,
   "metadata": {},
   "outputs": [],
   "source": [
    "sys.argv = ['infer',\n",
    "            '--mode', 'infer',\n",
    "            '--output_folder', f'{HOME_PATH}/ukbb_output/',\n",
    "            '--tensors', f'/mnt/disks/ecg-rest-37k-tensors/2019-11-04/',\n",
    "            '--input_tensors', 'ecg_rest',\n",
    "            '--output_tensors', 'qrs-duration', 'p-duration', 'qt-interval', 'pq-interval', 'rr-interval',\n",
    "            '--id', 'ecg_rest_pretraining_intervals',\n",
    "            '--model_file', f'{HOME_PATH}/ukbb_output/ecg_rest_pretraining_intervals/ecg_rest_pretraining_intervals.hd5',\n",
    "            '--training_steps', '810',\n",
    "            '--validation_steps', '230',\n",
    "            '--test_steps', '115',\n",
    "            '--batch_size', '32',\n",
    "            '--epochs', '1',\n",
    "            '--patience', '12'            \n",
    "           ]\n",
    "args = parse_args()"
   ]
  },
  {
   "cell_type": "code",
   "execution_count": null,
   "metadata": {},
   "outputs": [],
   "source": [
    "import shutil\n",
    "generate_train, generate_valid, generate_test = test_train_valid_tensor_generators(keep_paths=True, **args.__dict__)\n",
    "model = make_multimodal_multitask_model(**args.__dict__)\n",
    "for gen in [generate_train, generate_valid, generate_test]:\n",
    "    data_len = gen.true_epoch_lens[0]\n",
    "    cnt = 0\n",
    "    for (data, labels, paths) in gen: \n",
    "        if cnt >= data_len: break\n",
    "        in_tensor = data[args.tensor_maps_in[0].input_name()]\n",
    "        for tm in args.tensor_maps_out:\n",
    "            for channel in tm.channel_map:\n",
    "                gradients = saliency_map(in_tensor, model, tm.output_name(), tm.channel_map[channel])\n",
    "                for i, path in enumerate(paths):\n",
    "                    fname = os.path.basename(path)\n",
    "                    if not os.path.isfile(os.path.join('/mnt/disks/ecg-rest-37k-tensors-saliency/2020-02-03/', fname)):\n",
    "                        shutil.copy(path, os.path.join('/mnt/disks/ecg-rest-37k-tensors-saliency/2020-02-03/', fname))\n",
    "                    with h5py.File(os.path.join(args.output_folder, fname)) as hd5:\n",
    "                        try:\n",
    "                            hd5.create_dataset(f'{args.tensor_maps_in[0].group}/{tm.group}/{tm.input_name()}_saliency',\n",
    "                                               data = gradients[i, :, :])            \n",
    "                        except RuntimeError as e:\n",
    "                            print(f'{args.tensor_maps_in[0].group}/{tm.group}/{tm.input_name()}_saliency already exists in {fname}')        \n",
    "        cnt += len(paths)"
   ]
  },
  {
   "cell_type": "code",
   "execution_count": null,
   "metadata": {},
   "outputs": [],
   "source": [
    "def plot_saliency(hd5, in_name, out_name):\n",
    "    in_tmap = _get_tmap(in_name)\n",
    "    out_tmap = _get_tmap(out_name)\n",
    "    in_tensor = in_tmap.tensor_from_file(in_tmap, hd5)\n",
    "    print()\n",
    "    out_tensor = np.array(hd5[f'{in_tmap.group}/{out_tmap.group}/{out_tmap.input_name()}_saliency'])\n",
    "    f, ax = plt.subplots()\n",
    "    f.set_size_inches(16, 9)\n",
    "    ax.plot(in_tensor[:, 0])\n",
    "    ax.plot(np.abs(out_tensor[:, 0]))"
   ]
  },
  {
   "cell_type": "code",
   "execution_count": null,
   "metadata": {},
   "outputs": [],
   "source": [
    "%matplotlib inline\n",
    "with h5py.File('/mnt/disks/ecg-rest-37k-tensors-saliency/2020-02-03/1000503.hd5') as hd5:\n",
    "    plot_saliency(hd5, 'ecg_rest', 'pq-interval')"
   ]
  },
  {
   "cell_type": "markdown",
   "metadata": {},
   "source": [
    "# Learn saliency maps"
   ]
  },
  {
   "cell_type": "code",
   "execution_count": null,
   "metadata": {},
   "outputs": [],
   "source": [
    "sys.argv = ['train',\n",
    "            '--mode', 'train',\n",
    "            '--output_folder', f'{HOME_PATH}/ukbb_output/',\n",
    "            '--tensors', f'/mnt/disks/ecg-rest-37k-tensors-saliency/2020-02-03/',\n",
    "            '--input_tensors', 'ecg_rest',\n",
    "            '--output_tensors', 'ecg_rest_saliency',\n",
    "            '--id', 'ecg_rest_pretraining_intervals',\n",
    "            '--model_file', f'{HOME_PATH}/ukbb_output/ecg_rest_pretraining_intervals/ecg_rest_pretraining_intervals.hd5',\n",
    "            '--training_steps', '810',\n",
    "            '--validation_steps', '230',\n",
    "            '--test_steps', '115',\n",
    "            '--batch_size', '32',\n",
    "            '--epochs', '1',\n",
    "            '--patience', '12'            \n",
    "           ]\n",
    "args = parse_args()"
   ]
  },
  {
   "cell_type": "markdown",
   "metadata": {},
   "source": [
    "# Learn under the mask"
   ]
  },
  {
   "cell_type": "code",
   "execution_count": null,
   "metadata": {},
   "outputs": [],
   "source": [
    "sys.argv = ['train',\n",
    "            '--mode', 'train',\n",
    "            '--output_folder', f'{HOME_PATH}/ukbb_output/',\n",
    "            '--tensors', f'/mnt/disks/ecg-rest-37k-tensors/2019-11-04/',\n",
    "            '--input_tensors', 'ecg_rest_masked',\n",
    "            '--output_tensors', 'ecg_rest',\n",
    "            '--u_connect',\n",
    "            '--inspect_model',\n",
    "            '--id', 'ecg_rest_pretraining_mask',\n",
    "            '--training_steps', '810',\n",
    "            '--validation_steps', '230',\n",
    "            '--test_steps', '115',\n",
    "            '--batch_size', '32',\n",
    "            '--epochs', '10',\n",
    "            '--patience', '12'            \n",
    "           ]\n",
    "args = parse_args()"
   ]
  },
  {
   "cell_type": "code",
   "execution_count": null,
   "metadata": {},
   "outputs": [],
   "source": [
    "run(args)"
   ]
  },
  {
   "cell_type": "code",
   "execution_count": 2,
   "metadata": {},
   "outputs": [
    {
     "name": "stdout",
     "output_type": "stream",
     "text": [
      "2020-02-03 10:54:14,183 - logger:25 - INFO - Logging configuration was loaded. Log messages can be found at /home/pdiachil/ukbb_output/ecg_rest_pretraining_mask_infer/log_2020-02-03_10-54_0.log.\n",
      "2020-02-03 10:54:14,184 - arguments:211 - INFO - Command Line was:\n",
      "\n",
      "./scripts/tf.sh infer --mode infer --output_folder /home/pdiachil/ukbb_output/ --tensors /mnt/disks/ecg-rest-37k-tensors/2019-11-04/ --input_tensors ecg_rest_masked --output_tensors ecg_rest --model_file /home/pdiachil/ukbb_output/ecg_rest_pretraining_mask/ecg_rest_pretraining_mask.hd5 --u_connect --id ecg_rest_pretraining_mask_infer --training_steps 810 --validation_steps 230 --test_steps 115 --batch_size 32 --epochs 10 --patience 12\n",
      "\n",
      "\n",
      "\n",
      "2020-02-03 10:54:14,185 - arguments:212 - INFO - Total TensorMaps:399 Arguments are Namespace(activation='relu', aligned_dimension=16, alpha=0.5, anneal_max=1.0, anneal_rate=1.0, anneal_shift=10, app_csv=None, b_slice_force=None, balance_csvs=[], batch_size=32, bigquery_credentials_file='/mnt/ml4cvd/projects/jamesp/bigquery/bigquery-viewer-credentials.json', bigquery_dataset='broad-ml4cvd.ukbb7089_r10data', block_size=3, cache_size=875000000.0, categorical_field_ids=[], continuous_field_ids=[], continuous_file=None, continuous_file_column=None, continuous_file_normalize=False, conv_dilate=False, conv_dropout=0.0, conv_layers=[32], conv_normalize=None, conv_regularize=None, conv_type='conv', conv_width=71, conv_x=3, conv_y=3, conv_z=2, debug=False, dense_blocks=[32, 24, 16], dense_layers=[16, 64], dicom_series='cine_segmented_sax_b6', dicoms='./dicoms/', dropout=0.0, epochs=10, freeze_model_layers=False, hidden_layer='embed', id='ecg_rest_pretraining_mask_infer', imputation_method_for_continuous_fields='random', include_array=False, include_instance=False, include_missing_continuous_channel=False, input_continuous_tensors=[], input_tensors=['ecg_rest_masked'], inspect_model=False, inspect_show_labels=True, label_weights=None, learning_rate=0.0002, logging_level='INFO', max_models=16, max_parameters=9000000, max_patients=999999, max_pools=[], max_sample_id=7000000, max_samples=None, max_slices=999999, min_sample_id=0, min_samples=3, min_values=10, mixup_alpha=0, mlp_concat=False, mode='infer', model_file='/home/pdiachil/ukbb_output/ecg_rest_pretraining_mask/ecg_rest_pretraining_mask.hd5', model_files=[], model_layers=None, mri_field_ids=['20208', '20209'], num_workers=4, optimizer='radam', output_folder='/home/pdiachil/ukbb_output/', output_tensors=['ecg_rest'], padding='same', patience=12, phecode_definitions='/mnt/ml4cvd/projects/jamesp/data/phecode_definitions1.2.csv', phenos_folder='gs://ml4cvd/phenotypes/', pool_type='max', pool_x=2, pool_y=2, pool_z=1, random_seed=12878, res_layers=[], t=48, tensor_maps_in=[<ml4cvd.TensorMap.TensorMap object at 0x7ff350991208>], tensor_maps_out=[<ml4cvd.TensorMap.TensorMap object at 0x7ff350991198>], tensors='/mnt/disks/ecg-rest-37k-tensors/2019-11-04/', test_csv=None, test_modulo=10, test_ratio=0.1, test_steps=115, training_steps=810, u_connect=True, valid_ratio=0.2, validation_steps=230, variational=False, write_pngs=False, x=256, xml_field_ids=['20205', '6025'], xml_folder='/mnt/disks/ecg-rest-xml/', y=256, z=48, zip_folder='/mnt/disks/sax-mri-zip/', zoom_height=96, zoom_width=96, zoom_x=50, zoom_y=35)\n"
     ]
    }
   ],
   "source": [
    "sys.argv = ['infer',\n",
    "            '--mode', 'infer',\n",
    "            '--output_folder', f'{HOME_PATH}/ukbb_output/',\n",
    "            '--tensors', f'/mnt/disks/ecg-rest-37k-tensors/2019-11-04/',\n",
    "            '--input_tensors', 'ecg_rest_masked',\n",
    "            '--output_tensors', 'ecg_rest',\n",
    "            '--model_file', f'{HOME_PATH}/ukbb_output/ecg_rest_pretraining_mask/ecg_rest_pretraining_mask.hd5',\n",
    "            '--u_connect',\n",
    "            '--id', 'ecg_rest_pretraining_mask_infer',\n",
    "            '--training_steps', '810',\n",
    "            '--validation_steps', '230',\n",
    "            '--test_steps', '115',\n",
    "            '--batch_size', '32',\n",
    "            '--epochs', '10',\n",
    "            '--patience', '12'            \n",
    "           ]\n",
    "args = parse_args()"
   ]
  },
  {
   "cell_type": "code",
   "execution_count": 3,
   "metadata": {},
   "outputs": [
    {
     "name": "stdout",
     "output_type": "stream",
     "text": [
      "2020-02-03 10:54:15,632 - tensor_generators:426 - INFO - Found 23852 train, 6654 validation, and 7117 testing tensors at: /mnt/disks/ecg-rest-37k-tensors/2019-11-04/\n",
      "2020-02-03 10:54:15,715 - models:615 - INFO - Attempting to load model file from: /home/pdiachil/ukbb_output/ecg_rest_pretraining_mask/ecg_rest_pretraining_mask.hd5\n",
      "Model: \"model_1\"\n",
      "__________________________________________________________________________________________________\n",
      "Layer (type)                    Output Shape         Param #     Connected to                     \n",
      "==================================================================================================\n",
      "input_masked_strip_ecg_rest (In (None, 5000, 8)      0                                            \n",
      "__________________________________________________________________________________________________\n",
      "conv1d_1 (Conv1D)               (None, 5000, 32)     18208       input_masked_strip_ecg_rest[0][0]\n",
      "__________________________________________________________________________________________________\n",
      "activation_1 (Activation)       (None, 5000, 32)     0           conv1d_1[0][0]                   \n",
      "__________________________________________________________________________________________________\n",
      "conv1d_2 (Conv1D)               (None, 5000, 32)     72736       activation_1[0][0]               \n",
      "__________________________________________________________________________________________________\n",
      "activation_2 (Activation)       (None, 5000, 32)     0           conv1d_2[0][0]                   \n",
      "__________________________________________________________________________________________________\n",
      "max_pooling1d_1 (MaxPooling1D)  (None, 2500, 32)     0           activation_2[0][0]               \n",
      "__________________________________________________________________________________________________\n",
      "conv1d_3 (Conv1D)               (None, 2500, 32)     72736       max_pooling1d_1[0][0]            \n",
      "__________________________________________________________________________________________________\n",
      "activation_3 (Activation)       (None, 2500, 32)     0           conv1d_3[0][0]                   \n",
      "__________________________________________________________________________________________________\n",
      "concatenate_1 (Concatenate)     (None, 2500, 64)     0           max_pooling1d_1[0][0]            \n",
      "                                                                 activation_3[0][0]               \n",
      "__________________________________________________________________________________________________\n",
      "conv1d_4 (Conv1D)               (None, 2500, 32)     145440      concatenate_1[0][0]              \n",
      "__________________________________________________________________________________________________\n",
      "activation_4 (Activation)       (None, 2500, 32)     0           conv1d_4[0][0]                   \n",
      "__________________________________________________________________________________________________\n",
      "concatenate_2 (Concatenate)     (None, 2500, 96)     0           max_pooling1d_1[0][0]            \n",
      "                                                                 activation_3[0][0]               \n",
      "                                                                 activation_4[0][0]               \n",
      "__________________________________________________________________________________________________\n",
      "conv1d_5 (Conv1D)               (None, 2500, 24)     163608      concatenate_2[0][0]              \n",
      "__________________________________________________________________________________________________\n",
      "activation_5 (Activation)       (None, 2500, 24)     0           conv1d_5[0][0]                   \n",
      "__________________________________________________________________________________________________\n",
      "max_pooling1d_2 (MaxPooling1D)  (None, 1250, 24)     0           activation_5[0][0]               \n",
      "__________________________________________________________________________________________________\n",
      "conv1d_6 (Conv1D)               (None, 1250, 24)     40920       max_pooling1d_2[0][0]            \n",
      "__________________________________________________________________________________________________\n",
      "activation_6 (Activation)       (None, 1250, 24)     0           conv1d_6[0][0]                   \n",
      "__________________________________________________________________________________________________\n",
      "concatenate_3 (Concatenate)     (None, 1250, 48)     0           max_pooling1d_2[0][0]            \n",
      "                                                                 activation_6[0][0]               \n",
      "__________________________________________________________________________________________________\n",
      "conv1d_7 (Conv1D)               (None, 1250, 24)     81816       concatenate_3[0][0]              \n",
      "__________________________________________________________________________________________________\n",
      "activation_7 (Activation)       (None, 1250, 24)     0           conv1d_7[0][0]                   \n",
      "__________________________________________________________________________________________________\n",
      "concatenate_4 (Concatenate)     (None, 1250, 72)     0           max_pooling1d_2[0][0]            \n",
      "                                                                 activation_6[0][0]               \n",
      "                                                                 activation_7[0][0]               \n",
      "__________________________________________________________________________________________________\n",
      "conv1d_8 (Conv1D)               (None, 1250, 16)     81808       concatenate_4[0][0]              \n",
      "__________________________________________________________________________________________________\n",
      "activation_8 (Activation)       (None, 1250, 16)     0           conv1d_8[0][0]                   \n",
      "__________________________________________________________________________________________________\n",
      "max_pooling1d_3 (MaxPooling1D)  (None, 625, 16)      0           activation_8[0][0]               \n",
      "__________________________________________________________________________________________________\n",
      "conv1d_9 (Conv1D)               (None, 625, 16)      18192       max_pooling1d_3[0][0]            \n",
      "__________________________________________________________________________________________________\n",
      "activation_9 (Activation)       (None, 625, 16)      0           conv1d_9[0][0]                   \n",
      "__________________________________________________________________________________________________\n",
      "concatenate_5 (Concatenate)     (None, 625, 32)      0           max_pooling1d_3[0][0]            \n",
      "                                                                 activation_9[0][0]               \n",
      "__________________________________________________________________________________________________\n",
      "conv1d_10 (Conv1D)              (None, 625, 16)      36368       concatenate_5[0][0]              \n",
      "__________________________________________________________________________________________________\n",
      "activation_10 (Activation)      (None, 625, 16)      0           conv1d_10[0][0]                  \n",
      "__________________________________________________________________________________________________\n",
      "concatenate_6 (Concatenate)     (None, 625, 48)      0           max_pooling1d_3[0][0]            \n",
      "                                                                 activation_9[0][0]               \n",
      "                                                                 activation_10[0][0]              \n",
      "__________________________________________________________________________________________________\n",
      "up_sampling1d_1 (UpSampling1D)  (None, 1250, 48)     0           concatenate_6[0][0]              \n",
      "__________________________________________________________________________________________________\n",
      "conv1d_11 (Conv1D)              (None, 1250, 16)     54544       up_sampling1d_1[0][0]            \n",
      "__________________________________________________________________________________________________\n",
      "activation_13 (Activation)      (None, 1250, 16)     0           conv1d_11[0][0]                  \n",
      "__________________________________________________________________________________________________\n",
      "concatenate_7 (Concatenate)     (None, 1250, 32)     0           activation_13[0][0]              \n",
      "                                                                 conv1d_8[0][0]                   \n",
      "__________________________________________________________________________________________________\n",
      "up_sampling1d_2 (UpSampling1D)  (None, 2500, 32)     0           concatenate_7[0][0]              \n",
      "__________________________________________________________________________________________________\n",
      "conv1d_12 (Conv1D)              (None, 2500, 24)     54552       up_sampling1d_2[0][0]            \n",
      "__________________________________________________________________________________________________\n",
      "activation_14 (Activation)      (None, 2500, 24)     0           conv1d_12[0][0]                  \n",
      "__________________________________________________________________________________________________\n",
      "concatenate_8 (Concatenate)     (None, 2500, 48)     0           activation_14[0][0]              \n",
      "                                                                 conv1d_5[0][0]                   \n",
      "__________________________________________________________________________________________________\n",
      "up_sampling1d_3 (UpSampling1D)  (None, 5000, 48)     0           concatenate_8[0][0]              \n",
      "__________________________________________________________________________________________________\n",
      "conv1d_13 (Conv1D)              (None, 5000, 32)     109088      up_sampling1d_3[0][0]            \n",
      "__________________________________________________________________________________________________\n",
      "activation_15 (Activation)      (None, 5000, 32)     0           conv1d_13[0][0]                  \n",
      "__________________________________________________________________________________________________\n",
      "concatenate_9 (Concatenate)     (None, 5000, 64)     0           activation_15[0][0]              \n",
      "                                                                 conv1d_2[0][0]                   \n",
      "__________________________________________________________________________________________________\n",
      "conv1d_14 (Conv1D)              (None, 5000, 8)      520         concatenate_9[0][0]              \n",
      "__________________________________________________________________________________________________\n",
      "output_strip_ecg_rest (Activati (None, 5000, 8)      0           conv1d_14[0][0]                  \n",
      "==================================================================================================\n",
      "Total params: 950,536\n",
      "Trainable params: 950,536\n",
      "Non-trainable params: 0\n",
      "__________________________________________________________________________________________________\n",
      "2020-02-03 10:54:33,657 - models:618 - INFO - Loaded model file from: /home/pdiachil/ukbb_output/ecg_rest_pretraining_mask/ecg_rest_pretraining_mask.hd5\n"
     ]
    }
   ],
   "source": [
    "generate_train, generate_valid, generate_test = test_train_valid_tensor_generators(keep_paths=True, **args.__dict__)\n",
    "model = make_multimodal_multitask_model(**args.__dict__)"
   ]
  },
  {
   "cell_type": "code",
   "execution_count": 4,
   "metadata": {},
   "outputs": [
    {
     "name": "stdout",
     "output_type": "stream",
     "text": [
      "2020-02-03 10:54:33,688 - tensor_generators:110 - INFO - Starting train_worker_0.\n",
      "2020-02-03 10:54:33,690 - tensor_generators:234 - INFO - train_worker_0 initialized cache of size 0.875 GB.\n",
      "2020-02-03 10:54:33,715 - tensor_generators:110 - INFO - Starting train_worker_1.\n",
      "2020-02-03 10:54:33,721 - tensor_generators:234 - INFO - train_worker_1 initialized cache of size 0.875 GB.\n",
      "2020-02-03 10:54:33,747 - tensor_generators:110 - INFO - Starting train_worker_2.\n",
      "2020-02-03 10:54:33,752 - tensor_generators:234 - INFO - train_worker_2 initialized cache of size 0.875 GB.\n",
      "2020-02-03 10:54:33,786 - tensor_generators:110 - INFO - Starting train_worker_3.\n",
      "2020-02-03 10:54:33,792 - tensor_generators:234 - INFO - train_worker_3 initialized cache of size 0.875 GB.\n"
     ]
    },
    {
     "data": {
      "image/png": "[encoded data removed]",
      "text/plain": [
       "<Figure size 432x288 with 2 Axes>"
      ]
     },
     "metadata": {
      "needs_background": "light"
     },
     "output_type": "display_data"
    }
   ],
   "source": [
    "%matplotlib inline\n",
    "for gen in [generate_train, generate_valid, generate_test]:\n",
    "    cnt = 0\n",
    "    for (data, labels, paths) in gen: \n",
    "        in_tensor = data[args.tensor_maps_in[0].input_name()]\n",
    "        label_tensor = labels[args.tensor_maps_out[0].output_name()]\n",
    "        f, ax = plt.subplots(2, 1)\n",
    "        ax[0].plot(in_tensor[0, :, 0])\n",
    "        ax[1].plot(label_tensor[0, :, 0])\n",
    "        out_tensor = model.predict(in_tensor)\n",
    "        ax[0].plot(out_tensor[0, :, 0])\n",
    "        break\n",
    "    break"
   ]
  },
  {
   "cell_type": "code",
   "execution_count": null,
   "metadata": {},
   "outputs": [],
   "source": []
  }
 ],
 "metadata": {
  "kernelspec": {
   "display_name": "Python 3",
   "language": "python",
   "name": "python3"
  },
  "language_info": {
   "codemirror_mode": {
    "name": "ipython",
    "version": 3
   },
   "file_extension": ".py",
   "mimetype": "text/x-python",
   "name": "python",
   "nbconvert_exporter": "python",
   "pygments_lexer": "ipython3",
   "version": "3.6.8"
  }
 },
 "nbformat": 4,
 "nbformat_minor": 2
}
