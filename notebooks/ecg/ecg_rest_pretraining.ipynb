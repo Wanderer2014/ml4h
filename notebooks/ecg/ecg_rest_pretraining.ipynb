{
 "cells": [
  {
   "cell_type": "code",
   "execution_count": null,
   "metadata": {},
   "outputs": [],
   "source": [
    "import sys\n",
    "import os\n",
    "from ml4cvd.arguments import parse_args\n",
    "from ml4cvd.models import make_multimodal_multitask_model, saliency_map\n",
    "from ml4cvd.tensor_generators import test_train_valid_tensor_generators, big_batch_from_minibatch_generator\n",
    "from ml4cvd.recipes import run\n",
    "import h5py\n",
    "import numpy as np\n",
    "import matplotlib\n",
    "# font = {'family' : 'Arial',\n",
    "#         'size'   : 30}\n",
    "# matplotlib.rc('font', **font)\n",
    "import matplotlib.pyplot as plt\n",
    "from typing import List, Dict, Callable\n",
    "from collections import defaultdict\n",
    "import pandas as pd\n",
    "\n",
    "from ml4cvd.arguments import _get_tmap\n",
    "from ml4cvd.TensorMap import TensorMap\n",
    "from ml4cvd.tensor_from_file import TMAPS\n",
    "\n",
    "import numpy as np\n",
    "USER = 'pdiachil'\n",
    "HOME_PATH = '/home/' + USER"
   ]
  },
  {
   "cell_type": "code",
   "execution_count": null,
   "metadata": {},
   "outputs": [],
   "source": [
    "sys.argv = ['train',\n",
    "            '--mode', 'train',\n",
    "            '--output_folder', f'{HOME_PATH}/ukbb_output/',\n",
    "            '--tensors', f'/mnt/disks/ecg-rest-37k-tensors/2019-11-04/',\n",
    "            '--input_tensors', 'ecg_rest',\n",
    "            '--output_tensors', 'qrs-duration', 'p-duration', 'qt-interval', 'pq-interval', 'rr-interval',\n",
    "            '--id', 'ecg_rest_pretraining_intervals',\n",
    "            '--inspect_model',\n",
    "            '--training_steps', '810',\n",
    "            '--validation_steps', '230',\n",
    "            '--test_steps', '115',\n",
    "            '--batch_size', '32',\n",
    "            '--epochs', '3',\n",
    "            '--patience', '12'            \n",
    "           ]\n",
    "args = parse_args()"
   ]
  },
  {
   "cell_type": "code",
   "execution_count": null,
   "metadata": {},
   "outputs": [],
   "source": [
    "run(args)"
   ]
  },
  {
   "cell_type": "code",
   "execution_count": null,
   "metadata": {},
   "outputs": [],
   "source": [
    "sys.argv = ['infer',\n",
    "            '--mode', 'infer',\n",
    "            '--output_folder', f'{HOME_PATH}/ukbb_output/',\n",
    "            '--tensors', f'/mnt/disks/ecg-rest-37k-tensors/2019-11-04/',\n",
    "            '--input_tensors', 'ecg_rest',\n",
    "            '--output_tensors', 'qrs-duration', 'p-duration', 'qt-interval', 'pq-interval', 'rr-interval',\n",
    "            '--id', 'ecg_rest_pretraining_intervals',\n",
    "            '--model_file', f'{HOME_PATH}/ukbb_output/ecg_rest_pretraining_intervals/ecg_rest_pretraining_intervals.hd5',\n",
    "            '--training_steps', '810',\n",
    "            '--validation_steps', '230',\n",
    "            '--test_steps', '115',\n",
    "            '--batch_size', '32',\n",
    "            '--epochs', '1',\n",
    "            '--patience', '12'            \n",
    "           ]\n",
    "args = parse_args()"
   ]
  },
  {
   "cell_type": "code",
   "execution_count": null,
   "metadata": {},
   "outputs": [],
   "source": [
    "import shutil\n",
    "generate_train, generate_valid, generate_test = test_train_valid_tensor_generators(keep_paths=True, **args.__dict__)\n",
    "model = make_multimodal_multitask_model(**args.__dict__)\n",
    "for gen in [generate_train, generate_valid, generate_test]:\n",
    "    data_len = gen.true_epoch_lens[0]\n",
    "    cnt = 0\n",
    "    for (data, labels, paths) in gen: \n",
    "        if cnt >= data_len: break\n",
    "        in_tensor = data[args.tensor_maps_in[0].input_name()]\n",
    "        for tm in args.tensor_maps_out:\n",
    "            for channel in tm.channel_map:\n",
    "                gradients = saliency_map(in_tensor, model, tm.output_name(), tm.channel_map[channel])\n",
    "                for i, path in enumerate(paths):\n",
    "                    fname = os.path.basename(path)\n",
    "                    if not os.path.isfile(os.path.join('/mnt/disks/ecg-rest-37k-tensors-saliency/2020-02-03/', fname)):\n",
    "                        shutil.copy(path, os.path.join('/mnt/disks/ecg-rest-37k-tensors-saliency/2020-02-03/', fname))\n",
    "                    with h5py.File(os.path.join(args.output_folder, fname)) as hd5:\n",
    "                        try:\n",
    "                            hd5.create_dataset(f'{args.tensor_maps_in[0].group}/{tm.group}/{tm.input_name()}_saliency',\n",
    "                                               data = gradients[i, :, :])            \n",
    "                        except RuntimeError as e:\n",
    "                            print(f'{args.tensor_maps_in[0].group}/{tm.group}/{tm.input_name()}_saliency already exists in {fname}')        \n",
    "        cnt += len(paths)"
   ]
  },
  {
   "cell_type": "code",
   "execution_count": null,
   "metadata": {},
   "outputs": [],
   "source": [
    "def plot_saliency(hd5, in_name, out_name):\n",
    "    in_tmap = _get_tmap(in_name)\n",
    "    out_tmap = _get_tmap(out_name)\n",
    "    in_tensor = in_tmap.tensor_from_file(in_tmap, hd5)\n",
    "    print()\n",
    "    out_tensor = np.array(hd5[f'{in_tmap.group}/{out_tmap.group}/{out_tmap.input_name()}_saliency'])\n",
    "    f, ax = plt.subplots()\n",
    "    f.set_size_inches(16, 9)\n",
    "    ax.plot(in_tensor[:, 0])\n",
    "    ax.plot(np.abs(out_tensor[:, 0]))"
   ]
  },
  {
   "cell_type": "code",
   "execution_count": null,
   "metadata": {},
   "outputs": [],
   "source": [
    "%matplotlib inline\n",
    "with h5py.File('/mnt/disks/ecg-rest-37k-tensors-saliency/2020-02-03/1000503.hd5') as hd5:\n",
    "    plot_saliency(hd5, 'ecg_rest', 'pq-interval')"
   ]
  },
  {
   "cell_type": "markdown",
   "metadata": {},
   "source": [
    "# Learn saliency maps"
   ]
  },
  {
   "cell_type": "code",
   "execution_count": null,
   "metadata": {},
   "outputs": [],
   "source": [
    "sys.argv = ['train',\n",
    "            '--mode', 'train',\n",
    "            '--output_folder', f'{HOME_PATH}/ukbb_output/',\n",
    "            '--tensors', f'/mnt/disks/ecg-rest-37k-tensors-saliency/2020-02-03/',\n",
    "            '--input_tensors', 'ecg_rest',\n",
    "            '--output_tensors', 'ecg_rest_saliency',\n",
    "            '--id', 'ecg_rest_pretraining_intervals',\n",
    "            '--model_file', f'{HOME_PATH}/ukbb_output/ecg_rest_pretraining_intervals/ecg_rest_pretraining_intervals.hd5',\n",
    "            '--training_steps', '810',\n",
    "            '--validation_steps', '230',\n",
    "            '--test_steps', '115',\n",
    "            '--batch_size', '32',\n",
    "            '--epochs', '1',\n",
    "            '--patience', '12'            \n",
    "           ]\n",
    "args = parse_args()"
   ]
  },
  {
   "cell_type": "markdown",
   "metadata": {},
   "source": [
    "# Learn under the mask"
   ]
  },
  {
   "cell_type": "code",
   "execution_count": null,
   "metadata": {},
   "outputs": [],
   "source": [
    "sys.argv = ['train',\n",
    "            '--mode', 'train',\n",
    "            '--output_folder', f'{HOME_PATH}/ukbb_output/',\n",
    "            '--tensors', f'/mnt/disks/ecg-rest-37k-tensors/2019-11-04/',\n",
    "            '--input_tensors', 'ecg_rest_masked',\n",
    "            '--output_tensors', 'ecg_rest_output',\n",
    "            '--u_connect',\n",
    "            '--inspect_model',\n",
    "            '--id', 'ecg_rest_pretraining_mask',\n",
    "            '--training_steps', '810',\n",
    "            '--validation_steps', '230',\n",
    "            '--test_steps', '115',\n",
    "            '--batch_size', '32',\n",
    "            '--epochs', '1',\n",
    "            '--patience', '12'            \n",
    "           ]\n",
    "args = parse_args()"
   ]
  },
  {
   "cell_type": "code",
   "execution_count": null,
   "metadata": {
    "scrolled": false
   },
   "outputs": [],
   "source": [
    "run(args)"
   ]
  },
  {
   "cell_type": "code",
   "execution_count": null,
   "metadata": {},
   "outputs": [],
   "source": [
    "sys.argv = ['train',\n",
    "            '--mode', 'train',\n",
    "            '--output_folder', f'{HOME_PATH}/ukbb_output/',\n",
    "            '--tensors', f'/mnt/disks/ecg-rest-37k-tensors/2019-11-04/',\n",
    "            '--input_tensors', 'ecg_rest_masked',\n",
    "            '--output_tensors', 'ecg_rest_output',\n",
    "            '--model_file', f'/home/pdiachil/ukbb_output/ecg_rest_pretraining_mask/ecg_rest_pretraining_mask.hd5',\n",
    "            '--u_connect',\n",
    "            '--id', 'ecg_rest_pretraining_mask',\n",
    "            '--training_steps', '810',\n",
    "            '--validation_steps', '230',\n",
    "            '--test_steps', '115',\n",
    "            '--batch_size', '32',\n",
    "            '--epochs', '10',\n",
    "            '--patience', '12'            \n",
    "           ]\n",
    "args = parse_args()"
   ]
  },
  {
   "cell_type": "code",
   "execution_count": null,
   "metadata": {},
   "outputs": [],
   "source": [
    "generate_train, generate_valid, generate_test = test_train_valid_tensor_generators(keep_paths=True, **args.__dict__)\n",
    "model = make_multimodal_multitask_model(**args.__dict__)"
   ]
  },
  {
   "cell_type": "code",
   "execution_count": null,
   "metadata": {},
   "outputs": [],
   "source": [
    "%matplotlib inline\n",
    "for gen in [generate_train, generate_valid, generate_test]:\n",
    "    cnt = 0\n",
    "    for (data, labels, paths) in gen: \n",
    "        in_tensor = data[args.tensor_maps_in[0].input_name()]\n",
    "        label_tensor = labels[args.tensor_maps_out[0].output_name()]\n",
    "        f, ax = plt.subplots(3, 1)\n",
    "        ax[0].plot(in_tensor[0, :, 0])\n",
    "        ax[1].plot(np.argmax(label_tensor[0, :, 0, :], axis=1))\n",
    "        out_tensor = model.predict(in_tensor)\n",
    "        ax[2].plot(np.argmax(out_tensor[0, :, 0, :]))\n",
    "        break\n",
    "    break"
   ]
  },
  {
   "cell_type": "code",
   "execution_count": null,
   "metadata": {},
   "outputs": [],
   "source": [
    "label_tensor[0, :, 0, :].shape"
   ]
  },
  {
   "cell_type": "code",
   "execution_count": null,
   "metadata": {},
   "outputs": [],
   "source": [
    "for layer in model.layers[:-4]:\n",
    "    layer.trainable = False\n",
    "    print(layer)\n",
    "model.save(f'{HOME_PATH}/ukbb_output/ecg_rest_pretraining_mask_transfer/ecg_rest_pretraining_mask_transfer.hd5')"
   ]
  },
  {
   "cell_type": "code",
   "execution_count": null,
   "metadata": {},
   "outputs": [],
   "source": [
    "sys.argv = ['train',\n",
    "            '--mode', 'train',\n",
    "            '--output_folder', f'{HOME_PATH}/ukbb_output/',\n",
    "            '--tensors', f'{HOME_PATH}/ludb_tensors/',\n",
    "            '--input_tensors', 'ecg_rest_ludb',\n",
    "            '--output_tensors', 'ecg_rest_ludb_segmentation_coarse',\n",
    "            '--id', 'ecg_rest_pretraining_mask_transfer',\n",
    "            '--model_file', f'{HOME_PATH}/ukbb_output/ecg_rest_pretraining_mask_transfer/ecg_rest_pretraining_mask_transfer.hd5',\n",
    "            '--u_connect', \n",
    "            '--inspect_model',\n",
    "            '--training_steps', '15',\n",
    "            '--validation_steps', '5',\n",
    "            '--test_steps', '5',\n",
    "            '--batch_size', '8',\n",
    "            '--epochs', '400',\n",
    "            '--patience', '40'            \n",
    "           ]\n",
    "args = parse_args()\n",
    "model = make_multimodal_multitask_model(**args.__dict__)\n",
    "for layer in model.layers:\n",
    "    print(layer.trainable)"
   ]
  },
  {
   "cell_type": "code",
   "execution_count": null,
   "metadata": {},
   "outputs": [],
   "source": [
    "args.tensor_maps_in[0].name = 'masked_strip'\n",
    "args.tensor_maps_in[0].group = 'ecg_rest'"
   ]
  },
  {
   "cell_type": "code",
   "execution_count": null,
   "metadata": {},
   "outputs": [],
   "source": [
    "run(args)"
   ]
  },
  {
   "cell_type": "code",
   "execution_count": null,
   "metadata": {},
   "outputs": [],
   "source": []
  }
 ],
 "metadata": {
  "kernelspec": {
   "display_name": "Python 3",
   "language": "python",
   "name": "python3"
  },
  "language_info": {
   "codemirror_mode": {
    "name": "ipython",
    "version": 3
   },
   "file_extension": ".py",
   "mimetype": "text/x-python",
   "name": "python",
   "nbconvert_exporter": "python",
   "pygments_lexer": "ipython3",
   "version": "3.6.3"
  }
 },
 "nbformat": 4,
 "nbformat_minor": 2
}
