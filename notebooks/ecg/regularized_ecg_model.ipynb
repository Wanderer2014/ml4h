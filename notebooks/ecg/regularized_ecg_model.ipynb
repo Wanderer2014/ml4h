{
 "cells": [
  {
   "cell_type": "code",
   "execution_count": 1,
   "metadata": {},
   "outputs": [],
   "source": [
    "#ecg_wave_model.py\n",
    "import os\n",
    "import sys\n",
    "\n",
    "from tensorflow.keras.layers import Lambda, Input, Dense, LSTM, RepeatVector, concatenate\n",
    "from tensorflow.keras.models import Model\n",
    "from tensorflow.keras.optimizers import Adam, RMSprop\n",
    "from tensorflow.keras.losses import mse, binary_crossentropy, kullback_leibler_divergence\n",
    "from tensorflow.keras.utils import plot_model\n",
    "from tensorflow.keras import backend as K\n",
    "from tensorflow.keras.regularizers import l1, l2, l1_l2\n",
    "import numpy as np\n",
    "from tensorflow.keras.layers import SpatialDropout1D, SpatialDropout2D, SpatialDropout3D, Lambda\n",
    "from tensorflow.keras.layers import Input, Dense, Dropout, BatchNormalization, Activation, Flatten\n",
    "from tensorflow.keras.layers import Conv1D, Conv2D, Conv3D, UpSampling2D, UpSampling3D, MaxPooling1D\n",
    "from tensorflow.keras.layers import MaxPooling2D, MaxPooling3D, AveragePooling1D, AveragePooling2D, AveragePooling3D\n",
    "\n",
    "# IPython imports\n",
    "from IPython.display import Image\n",
    "\n",
    "# ML4CVD Imports\n",
    "from ml4cvd.arguments import parse_args\n",
    "from ml4cvd.tensor_generators import test_train_valid_tensor_generators\n",
    "from ml4cvd.defines import TENSOR_EXT, IMAGE_EXT, MRI_TO_SEGMENT, MRI_SEGMENTED\n",
    "from ml4cvd.recipes import train_multimodal_multitask, test_multimodal_multitask\n",
    "from ml4cvd.models import make_multimodal_multitask_model, train_model_from_generators\n",
    "HD5_FOLDER = '/mnt/disks/ecg-rest-38k-tensors/2020-03-14/'"
   ]
  },
  {
   "cell_type": "code",
   "execution_count": 3,
   "metadata": {},
   "outputs": [
    {
     "name": "stdout",
     "output_type": "stream",
     "text": [
      "2020-06-29 10:22:48,181 - logger:25 - INFO - Logging configuration was loaded. Log messages can be found at ./recipes_output/ecg_regularized/log_2020-06-29_10-22_0.log.\n",
      "2020-06-29 10:22:48,183 - arguments:407 - INFO - Command Line was: \n",
      "./scripts/tf.sh train --tensors /mnt/disks/ecg-rest-38k-tensors/2020-03-14/ --input_tensors ecg_rest --output_tensors bmi_21 --batch_size 32 --epochs 1 --training_steps 30 --id ecg_regularized\n",
      "\n",
      "2020-06-29 10:22:48,184 - arguments:408 - INFO - Total TensorMaps: 591 Arguments are Namespace(activation='relu', aligned_dimension=16, alpha=0.5, anneal_max=2.0, anneal_rate=0.0, anneal_shift=0.0, app_csv=None, b_slice_force=None, balance_csvs=[], batch_size=32, bigquery_credentials_file='/mnt/ml4cvd/projects/jamesp/bigquery/bigquery-viewer-credentials.json', bigquery_dataset='broad-ml4cvd.ukbb7089_r10data', block_size=3, bottleneck_type=<BottleneckType.FlattenRestructure: 1>, cache_size=875000000.0, categorical_field_ids=[], continuous_field_ids=[], continuous_file=None, continuous_file_column=None, continuous_file_discretization_bounds=[], continuous_file_normalize=False, conv_dilate=False, conv_dropout=0.0, conv_layers=[32], conv_normalize=None, conv_regularize=None, conv_type='conv', conv_x=[3], conv_y=[3], conv_z=[2], debug=False, dense_blocks=[32, 24, 16], dense_layers=[16, 64], dicom_series='cine_segmented_sax_b6', dicoms='./dicoms/', dropout=0.0, eager=False, embed_visualization=None, epochs=1, explore_export_errors=False, freeze_model_layers=False, hidden_layer='embed', id='ecg_regularized', imputation_method_for_continuous_fields='random', include_array=False, include_instance=False, include_missing_continuous_channel=False, input_tensors=['ecg_rest'], inspect_model=False, inspect_show_labels=True, join_tensors=['partners_ecg_patientid_clean'], label_weights=None, language_layer='ecg_rest_text', language_prefix=None, learning_rate=0.0002, learning_rate_schedule=None, logging_level='INFO', match_any_window=False, max_models=16, max_parameters=9000000, max_patients=999999, max_pools=[], max_sample_id=7000000, max_samples=None, max_slices=999999, min_sample_id=0, min_samples=3, min_values=10, mixup_alpha=0, mlp_concat=False, mode='mlp', model_file=None, model_files=[], model_layers=None, mri_field_ids=['20208', '20209'], num_workers=4, number_per_window=1, optimizer='radam', order_in_window=None, output_folder='./recipes_output/', output_tensors=['bmi_21'], padding='same', patience=8, phecode_definitions='/mnt/ml4cvd/projects/jamesp/data/phecode_definitions1.2.csv', phenos_folder='gs://ml4cvd/phenotypes/', plot_hist=True, plot_mode='clinical', pool_type='max', pool_x=2, pool_y=2, pool_z=1, protected_tensors=[], random_seed=12878, reference_end_time_tensor=None, reference_join_tensors=None, reference_labels=None, reference_name='Reference', reference_start_time_tensor=None, reference_tensors=None, sample_csv=None, sample_weight=None, t=48, tensor_maps_in=[TensorMap(strip, (5000, 12), continuous)], tensor_maps_out=[TensorMap(21001_Body-mass-index-BMI_0_0, (1,), continuous)], tensor_maps_protected=[], tensors='/mnt/disks/ecg-rest-38k-tensors/2020-03-14/', tensors_name='Tensors', tensors_source=None, test_csv=None, test_ratio=0.1, test_steps=32, time_tensor='partners_ecg_datetime', train_csv=None, training_steps=30, tsv_style='standard', u_connect=defaultdict(<class 'set'>, {}), valid_csv=None, valid_ratio=0.2, validation_steps=18, window_name=None, write_pngs=False, x=256, xml_field_ids=['20205', '6025'], xml_folder='/mnt/disks/ecg-rest-xml/', y=256, z=48, zip_folder='/mnt/disks/sax-mri-zip/')\n",
      "2020-06-29 10:22:50,612 - tensor_generators:653 - INFO - Found 25955 train, 7575 validation, and 3710 testing tensors at: /mnt/disks/ecg-rest-38k-tensors/2020-03-14/\n"
     ]
    }
   ],
   "source": [
    "sys.argv = ['train', \n",
    "            '--tensors', HD5_FOLDER, \n",
    "            '--input_tensors', 'ecg_rest', \n",
    "            '--output_tensors', 'bmi_21', \n",
    "            '--batch_size', '32', \n",
    "            '--epochs', '1',\n",
    "            '--training_steps', '30',\n",
    "            '--id', 'ecg_regularized']\n",
    "args = parse_args()\n",
    "generate_train, generate_valid, generate_test = test_train_valid_tensor_generators(**args.__dict__)"
   ]
  },
  {
   "cell_type": "code",
   "execution_count": 4,
   "metadata": {},
   "outputs": [],
   "source": [
    "l1_weight = 0.0\n",
    "l2_weight = 0.0\n",
    "filters = 32\n",
    "kernel_size = 71"
   ]
  },
  {
   "cell_type": "code",
   "execution_count": 8,
   "metadata": {},
   "outputs": [
    {
     "name": "stdout",
     "output_type": "stream",
     "text": [
      "Model: \"model\"\n",
      "_________________________________________________________________\n",
      "Layer (type)                 Output Shape              Param #   \n",
      "=================================================================\n",
      "input_strip_continuous (Inpu [(None, 5000, 12)]        0         \n",
      "_________________________________________________________________\n",
      "conv1d_5 (Conv1D)            (None, 4930, 32)          27296     \n",
      "_________________________________________________________________\n",
      "conv1d_6 (Conv1D)            (None, 4860, 32)          72736     \n",
      "_________________________________________________________________\n",
      "max_pooling1d_3 (MaxPooling1 (None, 2430, 32)          0         \n",
      "_________________________________________________________________\n",
      "conv1d_7 (Conv1D)            (None, 2360, 32)          72736     \n",
      "_________________________________________________________________\n",
      "max_pooling1d_4 (MaxPooling1 (None, 1180, 32)          0         \n",
      "_________________________________________________________________\n",
      "conv1d_8 (Conv1D)            (None, 1110, 32)          72736     \n",
      "_________________________________________________________________\n",
      "max_pooling1d_5 (MaxPooling1 (None, 555, 32)           0         \n",
      "_________________________________________________________________\n",
      "conv1d_9 (Conv1D)            (None, 485, 32)           72736     \n",
      "_________________________________________________________________\n",
      "flatten_1 (Flatten)          (None, 15520)             0         \n",
      "_________________________________________________________________\n",
      "dense_1 (Dense)              (None, 32)                496672    \n",
      "_________________________________________________________________\n",
      "output_21001_Body-mass-index (None, 1)                 33        \n",
      "=================================================================\n",
      "Total params: 814,945\n",
      "Trainable params: 814,945\n",
      "Non-trainable params: 0\n",
      "_________________________________________________________________\n"
     ]
    }
   ],
   "source": [
    "input_x = Input(shape=(5000, 12), name=args.tensor_maps_in[0].input_name())\n",
    "x = Conv1D(filters=filters, kernel_size=kernel_size, activation='relu',\n",
    "           kernel_regularizer=l1_l2(l1=l1_weight, l2=l2_weight),\n",
    "           bias_regularizer=l1_l2(l1=l1_weight, l2=l2_weight),\n",
    "          )(input_x)\n",
    "x = Conv1D(filters=filters, kernel_size=kernel_size, activation='relu',\n",
    "           kernel_regularizer=l1_l2(l1=l1_weight, l2=l2_weight),\n",
    "           bias_regularizer=l1_l2(l1=l1_weight, l2=l2_weight),\n",
    "          )(x)\n",
    "x = MaxPooling1D(pool_size=2)(x)\n",
    "x = Conv1D(filters=filters, kernel_size=kernel_size, activation='relu',\n",
    "           kernel_regularizer=l1_l2(l1=l1_weight, l2=l2_weight),\n",
    "           bias_regularizer=l1_l2(l1=l1_weight, l2=l2_weight),\n",
    "          )(x)\n",
    "x = MaxPooling1D(pool_size=2)(x)\n",
    "x = Conv1D(filters=filters, kernel_size=kernel_size, activation='relu',\n",
    "           kernel_regularizer=l1_l2(l1=l1_weight, l2=l2_weight),\n",
    "           bias_regularizer=l1_l2(l1=l1_weight, l2=l2_weight),\n",
    "          )(x)\n",
    "x = MaxPooling1D(pool_size=2)(x)\n",
    "x = Conv1D(filters=filters, kernel_size=kernel_size, activation='relu',\n",
    "           kernel_regularizer=l1_l2(l1=l1_weight, l2=l2_weight),\n",
    "           bias_regularizer=l1_l2(l1=l1_weight, l2=l2_weight),\n",
    "          )(x)\n",
    "x = Flatten()(x)\n",
    "x = Dense(filters, activation='relu')(x)\n",
    "output_y = Dense(1, activation='linear', name=args.tensor_maps_out[0].output_name())(x)\n",
    "\n",
    "m = Model(inputs=[input_x], outputs=[output_y])\n",
    "m.summary()\n",
    "opt = Adam(lr=0.0001, beta_1=0.9, beta_2=0.999, epsilon=1e-08, clipnorm=1.0)\n",
    "m.compile(optimizer=opt, loss='logcosh')"
   ]
  },
  {
   "cell_type": "code",
   "execution_count": 9,
   "metadata": {},
   "outputs": [
    {
     "name": "stdout",
     "output_type": "stream",
     "text": [
      "2020-06-29 10:27:14,190 - tensor_generators:151 - INFO - Started 2 train workers with cache size 0.875 GB.\n",
      "2020-06-29 10:27:15,905 - tensor_generators:151 - INFO - Started 1 validation workers with cache size 0.875 GB.\n",
      "Train for 30 steps, validate for 18 steps\n",
      "29/30 [============================>.] - ETA: 0s - loss: 0.3110\n",
      "Epoch 00001: val_loss improved from inf to 0.30896, saving model to ./recipes_output/ecg_regularized/ecg_regularized.h5\n",
      "30/30 [==============================] - 22s 724ms/step - loss: 0.3078 - val_loss: 0.3090\n",
      "2020-06-29 10:27:40,219 - tensor_generators:238 - INFO - Stopped 2 workers. \n",
      "2020-06-29 10:27:40,221 - tensor_generators:238 - INFO - Stopped 1 workers. \n",
      "2020-06-29 10:27:40,223 - models:1126 - INFO - Model weights saved at: ./recipes_output/ecg_regularized/ecg_regularized.h5\n",
      "2020-06-29 10:27:41,298 - plots:215 - INFO - Saved learning curves at:./recipes_output/ecg_regularized/metric_history_ecg_regularized.png\n"
     ]
    }
   ],
   "source": [
    "m = train_model_from_generators(m, generate_train, generate_valid, args.training_steps,\n",
    "                                        args.validation_steps, args.batch_size, args.epochs, args.patience,\n",
    "                                        args.output_folder, args.id, args.inspect_model, args.inspect_show_labels)"
   ]
  }
 ],
 "metadata": {
  "kernelspec": {
   "display_name": "Python 3",
   "language": "python",
   "name": "python3"
  },
  "language_info": {
   "codemirror_mode": {
    "name": "ipython",
    "version": 3
   },
   "file_extension": ".py",
   "mimetype": "text/x-python",
   "name": "python",
   "nbconvert_exporter": "python",
   "pygments_lexer": "ipython3",
   "version": "3.6.9"
  }
 },
 "nbformat": 4,
 "nbformat_minor": 2
}
