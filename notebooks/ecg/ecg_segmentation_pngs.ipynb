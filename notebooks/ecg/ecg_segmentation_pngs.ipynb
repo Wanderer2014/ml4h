{
 "cells": [
  {
   "cell_type": "markdown",
   "metadata": {},
   "source": [
    "Notebook that plots raw 12-lead ECG waveformas into a format more familiar to physicians. Update data_directory and file_id. \n",
    "\n",
    "Requires biosppy library for now -- but not really using anything critical from that package except for band-pass filter which can be easily subbed."
   ]
  },
  {
   "cell_type": "code",
   "execution_count": null,
   "metadata": {},
   "outputs": [],
   "source": [
    "from collections import defaultdict\n",
    "import h5py\n",
    "import numpy as np\n",
    "import os\n",
    "\n",
    "import matplotlib\n",
    "import matplotlib.pyplot as plt \n",
    "import matplotlib.gridspec as gridspec\n",
    "from matplotlib.ticker import (AutoMinorLocator, MultipleLocator)\n",
    "\n",
    "from biosppy.signals import ecg\n",
    "\n",
    "# IPython imports\n",
    "from IPython.display import Image"
   ]
  },
  {
   "cell_type": "code",
   "execution_count": null,
   "metadata": {},
   "outputs": [],
   "source": [
    "def _translate(val, cur_min, cur_max, new_min, new_max):\n",
    "    val -= cur_min\n",
    "    val /= (cur_max - cur_min)\n",
    "    val *= (new_max - new_min)\n",
    "    val += new_min\n",
    "    return val"
   ]
  },
  {
   "cell_type": "code",
   "execution_count": null,
   "metadata": {},
   "outputs": [],
   "source": [
    "def png_from_ecg_hd5(file_id, hd5, my_dpi = 72, y_pixels = 800, folder='./ecg_pngs/'):\n",
    "    fig, ax = plt.subplots(nrows=2, ncols=1, sharey='row', figsize=(2500/my_dpi, y_pixels/my_dpi), dpi=my_dpi, tight_layout=True)\n",
    "    plt.subplots_adjust(0,0,1,1,0,0)\n",
    "    xplot = list(np.arange(0, 10, 10/5000))\n",
    "    lead_names = ['strip_I','strip_aVR', 'strip_V1', 'strip_V4','strip_II','strip_aVL', 'strip_V2', 'strip_V5',\n",
    "                  'strip_III','strip_aVF', 'strip_V3', 'strip_V6']\n",
    "    for lead_name in lead_names:\n",
    "        voltages = list(hd5['ecg_rest'][lead_name])\n",
    "        rand_second = np.random.uniform(7.5)\n",
    "        ax[0].set_xlim(rand_second, rand_second+2.5)\n",
    "        ax[1].set_xlim(rand_second, rand_second+2.5)\n",
    "\n",
    "        ax[0].xaxis.set_major_locator(plt.NullLocator()) # major grids at every .2sec = 5 * 0.04 sec\n",
    "        ax[0].yaxis.set_major_locator(plt.NullLocator()) # major grids at every .5mV \n",
    "        ax[0].yaxis.set_minor_locator(AutoMinorLocator(5))\n",
    "        ax[0].axis('off')\n",
    "        ax[0].margins(0,0)\n",
    "\n",
    "        ax[1].xaxis.set_major_locator(plt.NullLocator()) # major grids at every .2sec = 5 * 0.04 sec\n",
    "        ax[1].yaxis.set_major_locator(plt.NullLocator()) # major grids at every .5mV \n",
    "        ax[1].yaxis.set_minor_locator(AutoMinorLocator(5))\n",
    "        ax[1].axis('off')\n",
    "        ax[1].margins(0,0)\n",
    "\n",
    "        ymax = np.max(voltages)\n",
    "        ymin = np.min(voltages)\n",
    "        std = offset+np.std(voltages)\n",
    "        ax[0].plot(xplot, [_translate(elem_, ymin, ymax, -y_pixels/2, y_pixels/2) for elem_ in voltages], label=lead_name, alpha=0.5)\n",
    "        ax[0].set_title(f'{file_id} Offset in seconds:{rand_second:0.3f}')\n",
    "        ax[0].legend(loc='upper left')\n",
    "\n",
    "        mu = np.mean(voltages)\n",
    "        std = np.std(voltages)\n",
    "        ax[1].plot(xplot, [(elem_-mu)/(1e-6+std) for elem_ in voltages], label=lead_name, alpha=0.5)\n",
    "        ax[1].legend(loc='upper left')\n",
    "    fig.savefig(f'{folder}/{file_id}_{rand_second:0.8f}.png', bbox_inches='tight', pad_inches=0.0, dpi=my_dpi)"
   ]
  },
  {
   "cell_type": "code",
   "execution_count": null,
   "metadata": {},
   "outputs": [],
   "source": [
    "with h5py.File(os.path.join(DATA_DIRECTORY, file_id)) as hd5:\n",
    "    png_from_ecg_hd5(file_id, hd5)\n",
    "    "
   ]
  },
  {
   "cell_type": "code",
   "execution_count": null,
   "metadata": {},
   "outputs": [],
   "source": [
    "DATA_DIRECTORY = '/mnt/disks/ecg-rest-36k-tensors/2019-10-22/'\n",
    "for f in os.listdir(DATA_DIRECTORY):\n",
    "    with h5py.File(os.path.join(DATA_DIRECTORY, f)) as hd5:\n",
    "        png_from_ecg_hd5(f, hd5)"
   ]
  },
  {
   "cell_type": "code",
   "execution_count": null,
   "metadata": {},
   "outputs": [],
   "source": []
  }
 ],
 "metadata": {
  "kernelspec": {
   "display_name": "Python 3",
   "language": "python",
   "name": "python3"
  },
  "language_info": {
   "codemirror_mode": {
    "name": "ipython",
    "version": 3
   },
   "file_extension": ".py",
   "mimetype": "text/x-python",
   "name": "python",
   "nbconvert_exporter": "python",
   "pygments_lexer": "ipython3",
   "version": "3.6.8"
  }
 },
 "nbformat": 4,
 "nbformat_minor": 2
}
