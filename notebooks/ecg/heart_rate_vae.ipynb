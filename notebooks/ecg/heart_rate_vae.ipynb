{
 "cells": [
  {
   "cell_type": "code",
   "execution_count": null,
   "metadata": {},
   "outputs": [],
   "source": [
    "import numpy as np\n",
    "import sys\n",
    "import os\n",
    "from keras.models import Model\n",
    "from keras import backend as K\n",
    "from keras.regularizers import l1\n",
    "from keras.utils import plot_model\n",
    "from keras.datasets import mnist, cifar10\n",
    "from keras.layers import Lambda, Input, Dense, Flatten, Reshape, Dropout, BatchNormalization\n",
    "from keras.losses import mse, binary_crossentropy, kullback_leibler_divergence\n",
    "from keras.layers.convolutional import Conv1D, Conv2DTranspose, UpSampling1D, MaxPooling1D\n",
    "import h5py\n",
    "from ml4cvd.arguments import parse_args\n",
    "\n",
    "from mpl_toolkits.mplot3d import Axes3D  # noqa: F401 unused import\n",
    "import keras.optimizers as optimizers\n",
    "from ml4cvd.tensor_generators import test_train_valid_tensor_generators\n",
    "\n",
    "%matplotlib inline\n",
    "import matplotlib.pyplot as plt"
   ]
  },
  {
   "cell_type": "code",
   "execution_count": null,
   "metadata": {},
   "outputs": [],
   "source": [
    "def sampling(args):\n",
    "    \"\"\"Reparameterization trick by sampling from an isotropic unit Gaussian.\n",
    "    # Arguments\n",
    "        args (tensor): mean and log of variance of Q(z|X)\n",
    "    # Returns\n",
    "        z (tensor): sampled latent vector\n",
    "    \"\"\"\n",
    "    z_mean, z_log_var = args\n",
    "    epsilon = K.random_normal(shape=(K.shape(z_mean)))\n",
    "    return z_mean + K.exp(0.5 * z_log_var) * epsilon"
   ]
  },
  {
   "cell_type": "code",
   "execution_count": null,
   "metadata": {},
   "outputs": [],
   "source": [
    "# network parameters\n",
    "input_shape = (64, 1)\n",
    "dropout_rate = 0.1\n",
    "latent_dim = 8"
   ]
  },
  {
   "cell_type": "code",
   "execution_count": null,
   "metadata": {},
   "outputs": [],
   "source": [
    "# VAE model = encoder + decoder\n",
    "# build encoder model\n",
    "\n",
    "inputs = Input(shape=input_shape, name='input_trend_heartrate_ecg_bike')\n",
    "x = Conv1D(256, 3, strides=2, activation='relu', padding='same')(inputs)\n",
    "x = Dropout(dropout_rate)(x)\n",
    "x = Conv1D(128, 3, strides=2, activation='relu', padding='same')(x)\n",
    "x = Dropout(dropout_rate)(x)\n",
    "x = Conv1D(96, 3, activation='relu', padding='same')(x)\n",
    "x = Dropout(dropout_rate)(x)\n",
    "x = Flatten()(x)\n",
    "x = Dense(latent_dim)(x)\n",
    "\n",
    "z_mean = Dense(latent_dim, name='z_mean')(x)\n",
    "z_log_var = Dense(latent_dim, name='z_log_var')(x)\n",
    "\n",
    "# use reparameterization trick to push the sampling out as input\n",
    "# note that \"output_shape\" isn't necessary with the TensorFlow backend\n",
    "z = Lambda(sampling, name='z')([z_mean, z_log_var])\n",
    "\n",
    "# instantiate encoder model\n",
    "encoder = Model(inputs, [z_mean, z_log_var, z], name='encoder')\n",
    "encoder.summary()\n",
    "\n",
    "# build decoder model\n",
    "inner_shape = (latent_dim,)\n",
    "latent_inputs = Input(shape=inner_shape, name='z')\n",
    "x = Dense(1536)(latent_inputs)\n",
    "x = Reshape((16, 96))(x)\n",
    "x = Conv1D(96, 3, strides=1, activation='relu', padding='same')(x)\n",
    "x = UpSampling1D()(x)\n",
    "x = Conv1D(128, 3, strides=1, activation='relu', padding='same')(x)\n",
    "x = UpSampling1D()(x)\n",
    "x = Conv1D(160, 3, activation='relu', padding='same')(x)\n",
    "outputs = Conv1D(1, 1, activation='linear')(x)\n",
    "\n",
    "# instantiate decoder model\n",
    "decoder = Model(latent_inputs, outputs, name='output_trend_heartrate_ecg_bike')\n",
    "decoder.summary()"
   ]
  },
  {
   "cell_type": "code",
   "execution_count": null,
   "metadata": {},
   "outputs": [],
   "source": [
    "epochs = 10\n",
    "batch_size = 128\n",
    "sys.argv = ['train', \n",
    "            '--tensors','/mnt/disks/ecg-bike-tensors/2019-10-10/', \n",
    "            '--input_tensors', 'ecg-bike-interp-hrs',\n",
    "            '--output_tensors', 'ecg-bike-interp-hrs',\n",
    "            '--batch_size', str(batch_size), \n",
    "            '--epochs', str(epochs),\n",
    "           ]\n",
    "args = parse_args()\n",
    "generate_train, generate_valid, generate_test = test_train_valid_tensor_generators(args.tensor_maps_in,  args.tensor_maps_out,  args.tensors, args.batch_size,   args.valid_ratio, args.test_ratio, args.test_modulo, args.balance_csvs)"
   ]
  },
  {
   "cell_type": "code",
   "execution_count": null,
   "metadata": {},
   "outputs": [],
   "source": [
    "a = generate_train.__next__()"
   ]
  },
  {
   "cell_type": "code",
   "execution_count": null,
   "metadata": {},
   "outputs": [],
   "source": [
    "a[0].keys(), a[1].keys()"
   ]
  },
  {
   "cell_type": "code",
   "execution_count": null,
   "metadata": {},
   "outputs": [],
   "source": [
    "outputs = decoder(encoder(inputs)[2])  # 2 is the sampled z\n",
    "vae = Model(inputs, outputs, name='vae_cnn')\n",
    "vae.summary()\n",
    "\n",
    "# Compute VAE loss\n",
    "def vae_loss(y_true, y_pred):\n",
    "    reconstruction_loss = mse(y_true, y_pred)\n",
    "    kl_loss = - 0.5 * K.mean(1 + z_log_var - K.square(z_mean) - K.exp(z_log_var), axis=-1)\n",
    "    vae_loss = K.mean(10 * K.mean(reconstruction_loss) + kl_loss)\n",
    "    return vae_loss\n",
    "\n",
    "\n",
    "vae.compile(optimizer=optimizers.Adam(1e-3), loss=vae_loss)\n",
    "vae.summary()\n",
    "vae.fit_generator(generate_train, epochs=epochs, steps_per_epoch=128, validation_steps=32, validation_data=generate_valid)"
   ]
  },
  {
   "cell_type": "code",
   "execution_count": null,
   "metadata": {},
   "outputs": [],
   "source": [
    "x_test_encoded = encoder.predict_generator(generate_test, steps=10)\n",
    "plt.figure(figsize=(6, 6))\n",
    "plt.scatter(x_test_encoded[2][:, 0], x_test_encoded[2][:, 1], cmap='jet')\n",
    "plt.show()"
   ]
  },
  {
   "cell_type": "code",
   "execution_count": null,
   "metadata": {},
   "outputs": [],
   "source": [
    "x_test = generate_test.__next__()\n",
    "x_test = x_test[0]['input_trend_heartrate_ecg_bike']"
   ]
  },
  {
   "cell_type": "code",
   "execution_count": null,
   "metadata": {},
   "outputs": [],
   "source": [
    "for i in np.random.randint(0, len(x_test), 5):\n",
    "    plt.figure(figsize=(10, 5))\n",
    "    recon = vae.predict(x_test[i: i+1])\n",
    "    plt.plot(recon[0], c='r', label='Reconstruction')\n",
    "    plt.plot(x_test[i], c='k', linestyle='--', label='Actual')\n",
    "    plt.show()"
   ]
  },
  {
   "cell_type": "code",
   "execution_count": null,
   "metadata": {},
   "outputs": [],
   "source": [
    "plt.figure(figsize=(15, 8))\n",
    "low, hi = -3, 3\n",
    "for m in np.linspace(low, hi, 50):\n",
    "    inp = np.zeros((1, latent_dim))\n",
    "    c = (m - low) / (hi - low)\n",
    "    lw = (1-c) * 1 + 1\n",
    "    c = (c, .2, .5)\n",
    "    inp[0, 0] = m\n",
    "    \n",
    "    recon = decoder.predict(inp)\n",
    "    plt.plot(recon[0], label=f'{m:.2f}', c=c, linewidth=lw)\n",
    "plt.show()\n",
    "plt.figure(figsize=(15, 8))\n",
    "low, hi = -1, 1\n",
    "for m in np.linspace(low, hi, 50):\n",
    "    inp = np.zeros((1, latent_dim))\n",
    "    c = (m - low) / (hi - low)\n",
    "    lw = (1-c) * 1 + 1\n",
    "    c = (c, .2, .5)\n",
    "    inp[0, 1] = m\n",
    "    \n",
    "    recon = decoder.predict(inp)\n",
    "    plt.plot(recon[0], label=f'{m:.2f}', c=c, linewidth=lw)"
   ]
  },
  {
   "cell_type": "code",
   "execution_count": null,
   "metadata": {},
   "outputs": [],
   "source": [
    "plt.figure(figsize=(15, 8))\n",
    "\n",
    "low, hi = 0, 5\n",
    "raw = x_test[0:1]\n",
    "\n",
    "inp = encoder.predict(raw)[0]\n",
    "\n",
    "r = decoder.predict(inp)\n",
    "for m in np.linspace(low, hi, 50):\n",
    "    c = (m - low) / (hi - low)\n",
    "    lw = (1-c) * 1 + 1\n",
    "    c = (c, .2, .5)\n",
    "    inp = encoder.predict(raw)[0]\n",
    "    inp[0, 7] += m \n",
    "    recon = decoder.predict(inp)\n",
    "    plt.plot(recon[0] - r[0], label=f'{m:.2f}', c=c, linewidth=lw)\n",
    "plt.plot(r[0], c='k', linestyle='--')"
   ]
  },
  {
   "cell_type": "code",
   "execution_count": null,
   "metadata": {},
   "outputs": [],
   "source": []
  }
 ],
 "metadata": {
  "kernelspec": {
   "display_name": "Python 3",
   "language": "python",
   "name": "python3"
  },
  "language_info": {
   "codemirror_mode": {
    "name": "ipython",
    "version": 3
   },
   "file_extension": ".py",
   "mimetype": "text/x-python",
   "name": "python",
   "nbconvert_exporter": "python",
   "pygments_lexer": "ipython3",
   "version": "3.6.8"
  }
 },
 "nbformat": 4,
 "nbformat_minor": 2
}
