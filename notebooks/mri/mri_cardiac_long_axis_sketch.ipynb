{
 "cells": [
  {
   "cell_type": "code",
   "execution_count": 1,
   "metadata": {},
   "outputs": [],
   "source": [
    "import os\n",
    "import sys\n",
    "from collections import defaultdict\n",
    "\n",
    "import pydicom\n",
    "import numpy as np\n",
    "%matplotlib inline\n",
    "import matplotlib.pyplot as plt"
   ]
  },
  {
   "cell_type": "markdown",
   "metadata": {},
   "source": [
    "# Get the raw data from the zip file and "
   ]
  },
  {
   "cell_type": "code",
   "execution_count": 2,
   "metadata": {},
   "outputs": [
    {
     "name": "stdout",
     "output_type": "stream",
     "text": [
      "mkdir: cannot create directory ‘./dcm_scratch’: File exists\n",
      "Archive:  ./dcm_scratch/1000387_20208_2_0.zip\n",
      "  inflating: ./dcm_scratch/1.3.12.2.1107.5.2.18.141243.2018011217473313221477960.dcm  \n",
      "  inflating: ./dcm_scratch/1.3.12.2.1107.5.2.18.141243.2018011217473316091377964.dcm  \n",
      "  inflating: ./dcm_scratch/1.3.12.2.1107.5.2.18.141243.2018011217473326134877981.dcm  \n",
      "  inflating: ./dcm_scratch/1.3.12.2.1107.5.2.18.141243.2018011217473338403377994.dcm  \n",
      "  inflating: ./dcm_scratch/1.3.12.2.1107.5.2.18.141243.2018011217473310163377956.dcm  \n",
      "  inflating: ./dcm_scratch/1.3.12.2.1107.5.2.18.141243.2018011217473298724177935.dcm  \n",
      "  inflating: ./dcm_scratch/1.3.12.2.1107.5.2.18.141243.2018011217473318919377968.dcm  \n",
      "  inflating: ./dcm_scratch/1.3.12.2.1107.5.2.18.141243.2018011217473322683277973.dcm  \n",
      "  inflating: ./dcm_scratch/1.3.12.2.1107.5.2.18.141243.2018011217473345825278003.dcm  \n",
      "  inflating: ./dcm_scratch/1.3.12.2.1107.5.2.18.141243.2018011217473299587677937.dcm  \n",
      "  inflating: ./dcm_scratch/1.3.12.2.1107.5.2.18.141243.2018011217473312556977959.dcm  \n",
      "  inflating: ./dcm_scratch/1.3.12.2.1107.5.2.18.141243.2018011217473326987877983.dcm  \n",
      "  inflating: ./dcm_scratch/1.3.12.2.1107.5.2.18.141243.201801121747338307577953.dcm  \n",
      "  inflating: ./dcm_scratch/1.3.12.2.1107.5.2.18.141243.2018011217473314676577962.dcm  \n",
      "  inflating: ./dcm_scratch/1.3.12.2.1107.5.2.18.141243.2018011217473320336977970.dcm  \n",
      "  inflating: ./dcm_scratch/1.3.12.2.1107.5.2.18.141243.201801121747333748377944.dcm  \n",
      "  inflating: ./dcm_scratch/1.3.12.2.1107.5.2.18.141243.2018011217473344823078001.dcm  \n",
      "  inflating: ./dcm_scratch/1.3.12.2.1107.5.2.18.141243.2018011217473346340178004.dcm  \n",
      "  inflating: ./dcm_scratch/1.3.12.2.1107.5.2.18.141243.2018011217473321043677971.dcm  \n",
      "  inflating: ./dcm_scratch/1.3.12.2.1107.5.2.18.141243.201801121747332847677941.dcm  \n",
      "  inflating: ./dcm_scratch/1.3.12.2.1107.5.2.18.141243.2018011217473328767377985.dcm  \n",
      "  inflating: ./dcm_scratch/1.3.12.2.1107.5.2.18.141243.2018011217473345457178002.dcm  \n",
      "  inflating: ./dcm_scratch/1.3.12.2.1107.5.2.18.141243.2018011217473315384177963.dcm  \n",
      "  inflating: ./dcm_scratch/1.3.12.2.1107.5.2.18.141243.2018011217473337728777992.dcm  \n",
      "  inflating: ./dcm_scratch/1.3.12.2.1107.5.2.18.141243.2018011217473338066177993.dcm  \n",
      "  inflating: ./dcm_scratch/1.3.12.2.1107.5.2.18.141243.2018011217473310995477957.dcm  \n",
      "  inflating: ./dcm_scratch/1.3.12.2.1107.5.2.18.141243.2018011217473325277277980.dcm  \n",
      "  inflating: ./dcm_scratch/1.3.12.2.1107.5.2.18.141243.201801121747336497477950.dcm  \n",
      "  inflating: ./dcm_scratch/1.3.12.2.1107.5.2.18.141243.2018011217473318212777967.dcm  \n",
      "  inflating: ./dcm_scratch/1.3.12.2.1107.5.2.18.141243.2018011217473336681877989.dcm  \n",
      "  inflating: ./dcm_scratch/1.3.12.2.1107.5.2.18.141243.2018011217473338744577995.dcm  \n",
      "  inflating: ./dcm_scratch/1.3.12.2.1107.5.2.18.141243.201801121747335525177948.dcm  \n",
      "  inflating: ./dcm_scratch/1.3.12.2.1107.5.2.18.141243.2018011217473317505277966.dcm  \n",
      "  inflating: ./dcm_scratch/1.3.12.2.1107.5.2.18.141243.2018011217473324346377978.dcm  \n",
      "  inflating: ./dcm_scratch/1.3.12.2.1107.5.2.18.141243.20180112174733294877938.dcm  \n",
      "  inflating: ./dcm_scratch/1.3.12.2.1107.5.2.18.141243.2018011217473337049677990.dcm  \n",
      "  inflating: ./dcm_scratch/1.3.12.2.1107.5.2.18.141243.201801121747334657377947.dcm  \n",
      "  inflating: ./dcm_scratch/1.3.12.2.1107.5.2.18.141243.201801121747332020977940.dcm  \n",
      "  inflating: ./dcm_scratch/1.3.12.2.1107.5.2.18.141243.2018011217473323507677975.dcm  \n",
      "  inflating: ./dcm_scratch/1.3.12.2.1107.5.2.18.141243.2018011217473321858777972.dcm  \n",
      "  inflating: ./dcm_scratch/1.3.12.2.1107.5.2.18.141243.201801121747331109577939.dcm  \n",
      "  inflating: ./dcm_scratch/1.3.12.2.1107.5.2.18.141243.201801121747339320777954.dcm  \n",
      "  inflating: ./dcm_scratch/1.3.12.2.1107.5.2.18.141243.2018011217473311789577958.dcm  \n",
      "  inflating: ./dcm_scratch/1.3.12.2.1107.5.2.18.141243.2018011217473339081277996.dcm  \n",
      "  inflating: ./dcm_scratch/1.3.12.2.1107.5.2.18.141243.2018011217473319628377969.dcm  \n",
      "  inflating: ./dcm_scratch/1.3.12.2.1107.5.2.18.141243.2018011217473327931277984.dcm  \n",
      "  inflating: ./dcm_scratch/1.3.12.2.1107.5.2.18.141243.2018011217473337388377991.dcm  \n",
      "  inflating: ./dcm_scratch/1.3.12.2.1107.5.2.18.141243.201801121747337393177951.dcm  \n",
      "  inflating: ./dcm_scratch/1.3.12.2.1107.5.2.18.141243.2018011217473313990077961.dcm  \n",
      "  inflating: ./dcm_scratch/1.3.12.2.1107.5.2.18.141243.2018011217473316798777965.dcm  \n",
      "  inflating: ./dcm_scratch/1.3.12.2.1107.5.2.18.141243.2018011217471116147977549.dcm  \n",
      "  inflating: ./dcm_scratch/1.3.12.2.1107.5.2.18.141243.2018011217471125992777554.dcm  \n",
      "  inflating: ./dcm_scratch/1.3.12.2.1107.5.2.18.141243.201801121747115909077528.dcm  \n",
      "  inflating: ./dcm_scratch/1.3.12.2.1107.5.2.18.141243.201801121747121241977601.dcm  \n",
      "  inflating: ./dcm_scratch/1.3.12.2.1107.5.2.18.141243.2018011217471168036277580.dcm  \n",
      "  inflating: ./dcm_scratch/1.3.12.2.1107.5.2.18.141243.2018011217471173838777584.dcm  \n",
      "  inflating: ./dcm_scratch/1.3.12.2.1107.5.2.18.141243.201801121747117996777534.dcm  \n",
      "  inflating: ./dcm_scratch/1.3.12.2.1107.5.2.18.141243.2018011217471133193777559.dcm  \n",
      "  inflating: ./dcm_scratch/1.3.12.2.1107.5.2.18.141243.201801121747115506477527.dcm  \n",
      "  inflating: ./dcm_scratch/1.3.12.2.1107.5.2.18.141243.2018011217471125569477553.dcm  \n",
      "  inflating: ./dcm_scratch/1.3.12.2.1107.5.2.18.141243.2018011217471156999277574.dcm  \n",
      "  inflating: ./dcm_scratch/1.3.12.2.1107.5.2.18.141243.201801121747114693277525.dcm  \n",
      "  inflating: ./dcm_scratch/1.3.12.2.1107.5.2.18.141243.201801121747117094477532.dcm  \n",
      "  inflating: ./dcm_scratch/1.3.12.2.1107.5.2.18.141243.2018011217471186908277592.dcm  \n",
      "  inflating: ./dcm_scratch/1.3.12.2.1107.5.2.18.141243.2018011217471110470477541.dcm  \n",
      "  inflating: ./dcm_scratch/1.3.12.2.1107.5.2.18.141243.201801121747117597277533.dcm  \n",
      "  inflating: ./dcm_scratch/1.3.12.2.1107.5.2.18.141243.201801121747115112177526.dcm  \n",
      "  inflating: ./dcm_scratch/1.3.12.2.1107.5.2.18.141243.2018011217471188301477594.dcm  \n",
      "  inflating: ./dcm_scratch/1.3.12.2.1107.5.2.18.141243.2018011217471136559677561.dcm  \n",
      "  inflating: ./dcm_scratch/1.3.12.2.1107.5.2.18.141243.201801121747121750977602.dcm  \n",
      "  inflating: ./dcm_scratch/1.3.12.2.1107.5.2.18.141243.2018011217471110868077542.dcm  \n",
      "  inflating: ./dcm_scratch/1.3.12.2.1107.5.2.18.141243.2018011217471155172777571.dcm  \n",
      "  inflating: ./dcm_scratch/1.3.12.2.1107.5.2.18.141243.2018011217471177127677587.dcm  \n",
      "  inflating: ./dcm_scratch/1.3.12.2.1107.5.2.18.141243.2018011217471154414377569.dcm  \n",
      "  inflating: ./dcm_scratch/1.3.12.2.1107.5.2.18.141243.2018011217471155950277572.dcm  \n",
      "  inflating: ./dcm_scratch/1.3.12.2.1107.5.2.18.141243.2018011217471158097377575.dcm  \n",
      "  inflating: ./dcm_scratch/1.3.12.2.1107.5.2.18.141243.2018011217471153997677568.dcm  \n",
      "  inflating: ./dcm_scratch/1.3.12.2.1107.5.2.18.141243.201801121747118794677536.dcm  \n",
      "  inflating: ./dcm_scratch/1.3.12.2.1107.5.2.18.141243.2018011217471111656077544.dcm  \n",
      "  inflating: ./dcm_scratch/1.3.12.2.1107.5.2.18.141243.2018011217471111256777543.dcm  \n",
      "  inflating: ./dcm_scratch/1.3.12.2.1107.5.2.18.141243.201801121747119650677538.dcm  \n",
      "  inflating: ./dcm_scratch/1.3.12.2.1107.5.2.18.141243.2018011217471158509477576.dcm  \n",
      "  inflating: ./dcm_scratch/1.3.12.2.1107.5.2.18.141243.2018011217471177548077588.dcm  \n",
      "  inflating: ./dcm_scratch/1.3.12.2.1107.5.2.18.141243.201801121747118403277535.dcm  \n",
      "  inflating: ./dcm_scratch/1.3.12.2.1107.5.2.18.141243.201801121747119205177537.dcm  \n",
      "  inflating: ./dcm_scratch/1.3.12.2.1107.5.2.18.141243.201801121747122201277603.dcm  \n",
      "  inflating: ./dcm_scratch/1.3.12.2.1107.5.2.18.141243.2018011217471110078877540.dcm  \n",
      "  inflating: ./dcm_scratch/1.3.12.2.1107.5.2.18.141243.2018011217471113812877548.dcm  \n",
      "  inflating: ./dcm_scratch/1.3.12.2.1107.5.2.18.141243.2018011217471126389977555.dcm  \n",
      "  inflating: ./dcm_scratch/1.3.12.2.1107.5.2.18.141243.2018011217471187290677593.dcm  \n",
      "  inflating: ./dcm_scratch/1.3.12.2.1107.5.2.18.141243.201801121747122620077604.dcm  \n",
      "  inflating: ./dcm_scratch/1.3.12.2.1107.5.2.18.141243.2018011217471132775077558.dcm  \n",
      "  inflating: ./dcm_scratch/1.3.12.2.1107.5.2.18.141243.2018011217471154788077570.dcm  \n",
      "  inflating: ./dcm_scratch/1.3.12.2.1107.5.2.18.141243.2018011217471186495077591.dcm  \n",
      "  inflating: ./dcm_scratch/1.3.12.2.1107.5.2.18.141243.2018011217471193953577597.dcm  \n",
      "  inflating: ./dcm_scratch/1.3.12.2.1107.5.2.18.141243.201801121747114216877524.dcm  \n",
      "  inflating: ./dcm_scratch/1.3.12.2.1107.5.2.18.141243.2018011217471162643777578.dcm  \n",
      "  inflating: ./dcm_scratch/1.3.12.2.1107.5.2.18.141243.201801121747116305877529.dcm  \n",
      "  inflating: ./dcm_scratch/1.3.12.2.1107.5.2.18.141243.2018011217471113372077546.dcm  \n",
      "  inflating: ./dcm_scratch/1.3.12.2.1107.5.2.18.141243.201801121747116700977531.dcm  \n",
      "  inflating: ./dcm_scratch/1.3.12.2.1107.5.2.18.141243.2018011217471637467677752.dcm  \n",
      "  inflating: ./dcm_scratch/1.3.12.2.1107.5.2.18.141243.2018011217471651745777771.dcm  \n",
      "  inflating: ./dcm_scratch/1.3.12.2.1107.5.2.18.141243.2018011217471631262877736.dcm  \n",
      "  inflating: ./dcm_scratch/1.3.12.2.1107.5.2.18.141243.2018011217471638495477753.dcm  \n",
      "  inflating: ./dcm_scratch/1.3.12.2.1107.5.2.18.141243.2018011217471632542277740.dcm  \n",
      "  inflating: ./dcm_scratch/1.3.12.2.1107.5.2.18.141243.2018011217471640400677756.dcm  \n",
      "  inflating: ./dcm_scratch/1.3.12.2.1107.5.2.18.141243.2018011217471642960877759.dcm  \n",
      "  inflating: ./dcm_scratch/1.3.12.2.1107.5.2.18.141243.2018011217471650981077770.dcm  \n",
      "  inflating: ./dcm_scratch/1.3.12.2.1107.5.2.18.141243.2018011217471653163877774.dcm  \n",
      "  inflating: ./dcm_scratch/1.3.12.2.1107.5.2.18.141243.2018011217471639489177755.dcm  \n",
      "  inflating: ./dcm_scratch/1.3.12.2.1107.5.2.18.141243.2018011217471673994377798.dcm  \n",
      "  inflating: ./dcm_scratch/1.3.12.2.1107.5.2.18.141243.2018011217471632952677741.dcm  \n",
      "  inflating: ./dcm_scratch/1.3.12.2.1107.5.2.18.141243.2018011217471635264877745.dcm  \n",
      "  inflating: ./dcm_scratch/1.3.12.2.1107.5.2.18.141243.2018011217471646828177764.dcm  \n",
      "  inflating: ./dcm_scratch/1.3.12.2.1107.5.2.18.141243.2018011217471650331377769.dcm  \n",
      "  inflating: ./dcm_scratch/1.3.12.2.1107.5.2.18.141243.2018011217471662914677792.dcm  \n"
     ]
    },
    {
     "name": "stdout",
     "output_type": "stream",
     "text": [
      "  inflating: ./dcm_scratch/1.3.12.2.1107.5.2.18.141243.2018011217471666798877794.dcm  \n",
      "  inflating: ./dcm_scratch/1.3.12.2.1107.5.2.18.141243.2018011217471641319177757.dcm  \n",
      "  inflating: ./dcm_scratch/1.3.12.2.1107.5.2.18.141243.2018011217471636693577751.dcm  \n",
      "  inflating: ./dcm_scratch/1.3.12.2.1107.5.2.18.141243.2018011217471644576377761.dcm  \n",
      "  inflating: ./dcm_scratch/1.3.12.2.1107.5.2.18.141243.2018011217471632108777738.dcm  \n",
      "  inflating: ./dcm_scratch/1.3.12.2.1107.5.2.18.141243.2018011217471652404077773.dcm  \n",
      "  inflating: ./dcm_scratch/1.3.12.2.1107.5.2.18.141243.2018011217471678290977803.dcm  \n",
      "  inflating: ./dcm_scratch/1.3.12.2.1107.5.2.18.141243.2018011217471631672877737.dcm  \n",
      "  inflating: ./dcm_scratch/1.3.12.2.1107.5.2.18.141243.2018011217471636210377749.dcm  \n",
      "  inflating: ./dcm_scratch/1.3.12.2.1107.5.2.18.141243.2018011217471653844977775.dcm  \n",
      "  inflating: ./dcm_scratch/1.3.12.2.1107.5.2.18.141243.2018011217471660697277789.dcm  \n",
      "  inflating: ./dcm_scratch/1.3.12.2.1107.5.2.18.141243.2018011217471662129177790.dcm  \n",
      "  inflating: ./dcm_scratch/1.3.12.2.1107.5.2.18.141243.2018011217471635739677747.dcm  \n",
      "  inflating: ./dcm_scratch/1.3.12.2.1107.5.2.18.141243.2018011217471659797177787.dcm  \n",
      "  inflating: ./dcm_scratch/1.3.12.2.1107.5.2.18.141243.2018011217471628778577735.dcm  \n",
      "  inflating: ./dcm_scratch/1.3.12.2.1107.5.2.18.141243.2018011217471643782277760.dcm  \n",
      "  inflating: ./dcm_scratch/1.3.12.2.1107.5.2.18.141243.2018011217471655638077778.dcm  \n",
      "  inflating: ./dcm_scratch/1.3.12.2.1107.5.2.18.141243.2018011217471647499377765.dcm  \n",
      "  inflating: ./dcm_scratch/1.3.12.2.1107.5.2.18.141243.2018011217471649622877768.dcm  \n",
      "  inflating: ./dcm_scratch/1.3.12.2.1107.5.2.18.141243.2018011217471676457077800.dcm  \n",
      "  inflating: ./dcm_scratch/1.3.12.2.1107.5.2.18.141243.2018011217471679551877804.dcm  \n",
      "  inflating: ./dcm_scratch/1.3.12.2.1107.5.2.18.141243.2018011217471648207577766.dcm  \n",
      "  inflating: ./dcm_scratch/1.3.12.2.1107.5.2.18.141243.2018011217471662512277791.dcm  \n",
      "  inflating: ./dcm_scratch/1.3.12.2.1107.5.2.18.141243.2018011217471642150377758.dcm  \n",
      "  inflating: ./dcm_scratch/1.3.12.2.1107.5.2.18.141243.2018011217471646055277763.dcm  \n",
      "  inflating: ./dcm_scratch/1.3.12.2.1107.5.2.18.141243.2018011217471667158677795.dcm  \n",
      "  inflating: ./dcm_scratch/1.3.12.2.1107.5.2.18.141243.2018011217471645383177762.dcm  \n",
      "  inflating: ./dcm_scratch/1.3.12.2.1107.5.2.18.141243.2018011217471648914677767.dcm  \n",
      "  inflating: ./dcm_scratch/1.3.12.2.1107.5.2.18.141243.2018011217471657288177781.dcm  \n",
      "  inflating: ./dcm_scratch/1.3.12.2.1107.5.2.18.141243.2018011217471658977677785.dcm  \n",
      "  inflating: ./dcm_scratch/1.3.12.2.1107.5.2.18.141243.2018011217471656466977779.dcm  \n",
      "  inflating: ./dcm_scratch/1.3.12.2.1107.5.2.18.141243.2018011217471658099777784.dcm  \n",
      "  inflating: ./dcm_scratch/1.3.12.2.1107.5.2.18.141243.2018011217471654726377776.dcm  \n",
      "  inflating: ./dcm_scratch/1.3.12.2.1107.5.2.18.141243.2018011217471667491277796.dcm  \n",
      "  inflating: ./dcm_scratch/manifest.cvs  \n"
     ]
    }
   ],
   "source": [
    "!mkdir ./dcm_scratch\n",
    "!rm ./dcm_scratch/*\n",
    "!cp /mnt/ml4cvd/projects/bulk/cardiac_mri/1000387_20208_2_0.zip ./dcm_scratch/\n",
    "!unzip ./dcm_scratch/1000387_20208_2_0.zip -d ./dcm_scratch/"
   ]
  },
  {
   "cell_type": "markdown",
   "metadata": {},
   "source": [
    "Now separate the 3 views of the long axis.  There should a 2 chamber view (cine_segmented_lax_2ch), a 3 chamber view (cine_segmented_lax_3ch) and a 4 chamber view (cine_segmented_lax_4ch).  Each view has 50 instances covering the cardiac cycle from that perspective."
   ]
  },
  {
   "cell_type": "code",
   "execution_count": 3,
   "metadata": {},
   "outputs": [
    {
     "name": "stdout",
     "output_type": "stream",
     "text": [
      "Long axis series cine_segmented_lax_4ch has 50 instances\n",
      "Long axis series cine_segmented_lax_3ch has 50 instances\n",
      "Long axis series cine_segmented_lax_2ch has 50 instances\n"
     ]
    }
   ],
   "source": [
    "dcm_dir = './dcm_scratch/'\n",
    "series = defaultdict(list)\n",
    "for dcm_file in os.listdir(dcm_dir):\n",
    "    if not dcm_file.endswith('.dcm'):\n",
    "        continue\n",
    "    dcm = pydicom.read_file(dcm_dir + dcm_file)\n",
    "    if 'cine_segmented_lax' in dcm.SeriesDescription.lower():\n",
    "        series[dcm.SeriesDescription.lower()].append(dcm)\n",
    "for k in series:\n",
    "    print(f'Long axis series {k} has {len(series[k])} instances')"
   ]
  },
  {
   "cell_type": "code",
   "execution_count": 10,
   "metadata": {},
   "outputs": [],
   "source": [
    "def plot_lax(series, transpose=False, size=18):\n",
    "    cols = 2\n",
    "    rows = 25\n",
    "    _, axes = plt.subplots(rows, cols, figsize=(size, size))\n",
    "    for dcm in series:\n",
    "        col = (dcm.InstanceNumber-1)%cols\n",
    "        row = (dcm.InstanceNumber-1)//cols\n",
    "        if transpose:\n",
    "            axes[row, col].imshow(dcm.pixel_array.T)\n",
    "        else:\n",
    "            axes[row, col].imshow(dcm.pixel_array, cmap='gray')\n",
    "        axes[row, col].set_yticklabels([])\n",
    "        axes[row, col].set_xticklabels([])"
   ]
  },
  {
   "cell_type": "code",
   "execution_count": 11,
   "metadata": {},
   "outputs": [
    {
     "data": {
      "image/png": "[encoded data removed]",
      "text/plain": [
       "<Figure size 432x288 with 50 Axes>"
      ]
     },
     "metadata": {
      "needs_background": "light"
     },
     "output_type": "display_data"
    }
   ],
   "source": [
    "plot_lax(series['cine_segmented_lax_4ch'])"
   ]
  },
  {
   "cell_type": "code",
   "execution_count": null,
   "metadata": {},
   "outputs": [],
   "source": [
    "plot_lax(series['cine_segmented_lax_3ch'], transpose=True)"
   ]
  },
  {
   "cell_type": "code",
   "execution_count": null,
   "metadata": {},
   "outputs": [],
   "source": [
    "plot_lax(series['cine_segmented_lax_2ch'], transpose=True)"
   ]
  },
  {
   "cell_type": "code",
   "execution_count": null,
   "metadata": {},
   "outputs": [],
   "source": []
  }
 ],
 "metadata": {
  "kernelspec": {
   "display_name": "Python 3",
   "language": "python",
   "name": "python3"
  },
  "language_info": {
   "codemirror_mode": {
    "name": "ipython",
    "version": 3
   },
   "file_extension": ".py",
   "mimetype": "text/x-python",
   "name": "python",
   "nbconvert_exporter": "python",
   "pygments_lexer": "ipython3",
   "version": "3.6.9"
  }
 },
 "nbformat": 4,
 "nbformat_minor": 2
}
