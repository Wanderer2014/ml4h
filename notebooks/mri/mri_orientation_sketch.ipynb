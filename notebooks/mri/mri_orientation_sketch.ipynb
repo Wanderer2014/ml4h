{
 "cells": [
  {
   "cell_type": "code",
   "execution_count": null,
   "metadata": {},
   "outputs": [],
   "source": [
    "from ml4cvd.arguments import _get_tmap\n",
    "import h5py\n",
    "import numpy as np\n",
    "from ml4cvd.tensor_from_file import _mri_hd5_to_structured_grids\n",
    "import h5py\n",
    "import time\n",
    "import matplotlib.pyplot as plt\n",
    "import os\n",
    "import sys"
   ]
  },
  {
   "cell_type": "code",
   "execution_count": null,
   "metadata": {},
   "outputs": [],
   "source": [
    "USER = 'pdiachil'\n",
    "HOME_PATH = '/home/'+USER"
   ]
  },
  {
   "cell_type": "markdown",
   "metadata": {},
   "source": [
    "# Add position, orientation, width, height, and thickness tensors to HD5\n",
    "HD5 tensors are saved in {HOME_PATH}"
   ]
  },
  {
   "cell_type": "code",
   "execution_count": null,
   "metadata": {
    "scrolled": false
   },
   "outputs": [],
   "source": [
    "from ml4cvd.arguments import parse_args\n",
    "from ml4cvd.recipes import run\n",
    "sys.argv = ['tensorize',\n",
    "            '--mode', 'tensorize',\n",
    "            '--zip_folder', '/mnt/disks/sax-and-lax-zip-2019-09-30/',\n",
    "            '--xml_folder', '/mnt/disks/ecg-rest-xml-36k/',\n",
    "            '--output_folder', f'{HOME_PATH}/mri_tensors/',\n",
    "            '--tensors', f'{HOME_PATH}/mri_tensors/',\n",
    "            '--mri_field_ids', '20208', '20209', \n",
    "            '--xml_field_ids', \n",
    "            '--min_sample_id', '2000000', \n",
    "            '--max_sample_id', '2000200'\n",
    "           ]\n",
    "args = parse_args()\n",
    "run(args)"
   ]
  },
  {
   "cell_type": "code",
   "execution_count": null,
   "metadata": {},
   "outputs": [],
   "source": [
    "%matplotlib inline\n",
    "import matplotlib.pyplot as plt\n",
    "ff = h5py.File('/home/pdiachil/mri_tensors/2000119.hd5', 'r')\n",
    "f, ax = plt.subplots(1, 2)\n",
    "ax[0].imshow(ff['cine_segmented_lax_inlinevf/401'][()])\n",
    "ax[1].imshow(ff['cine_segmented_lax_inlinevf_segmented/401'][()])\n",
    "print(ff['cine_segmented_lax_inlinevf_segmented/549'][()].max())"
   ]
  },
  {
   "cell_type": "markdown",
   "metadata": {},
   "source": [
    "# Extract cine_segmented tensors from HD5 for SAX and LAX"
   ]
  },
  {
   "cell_type": "code",
   "execution_count": null,
   "metadata": {},
   "outputs": [],
   "source": [
    "with h5py.File(f'{HOME_PATH}/mri_tensors/2000119.hd5', 'r') as hd5:\n",
    "    nslices = int(len(hd5['cine_segmented_sax_inlinevf'])/50)\n",
    "    t = 0\n",
    "    s = 0    \n",
    "    cine_arr = np.zeros((256, 256, 50, nslices))\n",
    "    cine_arr_segmented = np.zeros((256, 256, 50, nslices))\n",
    "    \n",
    "    for k in sorted(hd5['cine_segmented_sax_inlinevf'], key=int):\n",
    "        cine_arr[:, :, t, s] = hd5['cine_segmented_sax_inlinevf'][k][()].T\n",
    "        cine_arr_segmented[:, :, t, s] = hd5['cine_segmented_sax_inlinevf_segmented'][k][()].T\n",
    "        t += 1\n",
    "        if t == 50:\n",
    "            s += 1\n",
    "            t = 0\n",
    "    cine_arr_position = hd5['mri_patient_position_cine_segmented_sax_inlinevf'][k][()]\n",
    "    cine_arr_orientation = hd5['mri_patient_orientation_cine_segmented_sax_inlinevf_segmented'][k][()]\n",
    "    cine_arr_width = hd5['mri_pixel_width_cine_segmented_sax_inlinevf'][()]\n",
    "    cine_arr_height = hd5['mri_pixel_height_cine_segmented_sax_inlinevf'][()]\n",
    "    cine_arr_thickness = hd5['mri_slice_thickness_cine_segmented_sax_inlinevf'][()]"
   ]
  },
  {
   "cell_type": "code",
   "execution_count": null,
   "metadata": {},
   "outputs": [],
   "source": [
    "with h5py.File(f'{HOME_PATH}/mri_tensors/2000119.hd5', 'r') as hd5:\n",
    "    nslices = int(len(hd5['cine_segmented_lax_inlinevf'])/50)\n",
    "    t = 0\n",
    "    s = 0    \n",
    "    cine_arr_lax = np.zeros((256, 256, 50, nslices))\n",
    "    cine_arr_lax_segmented = np.zeros((256, 256, 50, nslices))\n",
    "    cine_arr_lax_positions = np.zeros((3, nslices))\n",
    "    cine_arr_lax_orientations = np.zeros((6, nslices))\n",
    "    for k in sorted(hd5['cine_segmented_lax_inlinevf'], key=int):\n",
    "        cine_arr[:, :, t, s] = hd5['cine_segmented_lax_inlinevf'][k][()].T\n",
    "        cine_arr_segmented[:, :, t, s] = hd5['cine_segmented_lax_inlinevf_segmented'][k][()].T\n",
    "        t += 1\n",
    "        if t == 50:\n",
    "            s += 1\n",
    "            t = 0\n",
    "            cine_arr_lax_positions[:, s-1] = hd5['mri_patient_position_cine_segmented_lax_inlinevf'][k][()]\n",
    "            cine_arr_lax_orientations[:, s-1] = hd5['mri_patient_orientation_cine_segmented_lax_inlinevf'][k][()]\n",
    "    cine_arr_width = hd5['mri_pixel_width_cine_segmented_lax_inlinevf'][()]\n",
    "    cine_arr_height = hd5['mri_pixel_height_cine_segmented_lax_inlinevf'][()]\n",
    "    cine_arr_thickness = hd5['mri_slice_thickness_cine_segmented_lax_inlinevf'][()]"
   ]
  },
  {
   "cell_type": "code",
   "execution_count": null,
   "metadata": {},
   "outputs": [],
   "source": [
    "lax_names = ['lax_2ch', 'lax_3ch', 'lax_4ch']\n",
    "lax_arrs = []\n",
    "lax_positions = []\n",
    "lax_orientations = []\n",
    "lax_widths = []\n",
    "lax_heights = []\n",
    "lax_thicknesses = []\n",
    "with h5py.File(f'{HOME_PATH}/mri_tensors/2000119.hd5', 'r') as hd5:\n",
    "    for lax_name in lax_names:\n",
    "        lax_arrs.append(np.zeros((256, 256, 50)))\n",
    "        for t in range(50):\n",
    "            lax_arrs[-1][:, :, t] = hd5[f'cine_segmented_{lax_name}'][()][:, :, t].T\n",
    "        lax_positions.append(hd5[f'mri_patient_position_cine_segmented_{lax_name}'][()])\n",
    "        lax_orientations.append(hd5[f'mri_patient_orientation_cine_segmented_{lax_name}'][()])\n",
    "        lax_widths.append(hd5[f'mri_pixel_width_cine_segmented_{lax_name}'][()])\n",
    "        lax_heights.append(hd5[f'mri_pixel_height_cine_segmented_{lax_name}'][()])\n",
    "        lax_thicknesses.append(hd5[f'mri_slice_thickness_cine_segmented_{lax_name}'][()])"
   ]
  },
  {
   "cell_type": "markdown",
   "metadata": {},
   "source": [
    "# Use orientation and position DICOM tags to move all cine views in the same reference system\n",
    "\n",
    "VTK structured grid files (\\*.vts) prior to transformation (image_\\*) and after transformation (structured_grid_\\*) are saved in {HOME_PATH}/mri_tensors\n",
    "- short axis\n"
   ]
  },
  {
   "cell_type": "code",
   "execution_count": null,
   "metadata": {},
   "outputs": [],
   "source": [
    "import vtk\n",
    "from vtk.util import numpy_support as ns\n",
    "\n",
    "images = []\n",
    "images_transformed = []\n",
    "images_segmented = []\n",
    "images_segmented_transformed = []\n",
    "\n",
    "transforms = []\n",
    "cine_arr_vtk = []\n",
    "cine_arr_segmented_vtk = []\n",
    "\n",
    "Xcoors = np.arange(256)\n",
    "Ycoors = np.arange(256)\n",
    "Zcoors = np.arange(nslices)\n",
    "XYZ = np.meshgrid(Xcoors, Ycoors, Zcoors)\n",
    "XYZ_arr = np.zeros((256*256*nslices, 3))\n",
    "XYZ_arr[:, 0] = XYZ[0].ravel(order='F')\n",
    "XYZ_arr[:, 1] = XYZ[1].ravel(order='F')\n",
    "XYZ_arr[:, 2] = XYZ[2].ravel(order='F')\n",
    "XYZ_arr_vtk = ns.numpy_to_vtk(XYZ_arr)\n",
    "\n",
    "pts = vtk.vtkPoints()\n",
    "pts.SetData(XYZ_arr_vtk)\n",
    "\n",
    "\n",
    "grid_writer = vtk.vtkXMLStructuredGridWriter()\n",
    "for t in range(50):\n",
    "    images.append(vtk.vtkStructuredGrid())\n",
    "    images_segmented.append(vtk.vtkStructuredGrid()) \n",
    "    images_transformed.append(vtk.vtkStructuredGrid())\n",
    "    images_segmented_transformed.append(vtk.vtkStructuredGrid())\n",
    "    cine_arr_vtk.append(ns.numpy_to_vtk(cine_arr[:, :, t, :].ravel(order='F'), deep=True))\n",
    "    cine_arr_segmented_vtk.append(ns.numpy_to_vtk(cine_arr_segmented[:, :, t, :].ravel(order='F'), deep=True, array_type=vtk.VTK_UNSIGNED_CHAR))\n",
    "    images[-1].SetDimensions(256, 256, nslices)\n",
    "    images[-1].SetPoints(pts)\n",
    "    images[-1].SetExtent(0, 255, 0, 255, 0, nslices-1)    \n",
    "    images[-1].GetPointData().SetScalars(cine_arr_vtk[-1])\n",
    "    images_segmented[-1].SetDimensions(256, 256, nslices)\n",
    "    images_segmented[-1].SetPoints(pts)\n",
    "    images_segmented[-1].SetExtent(0, 255, 0, 255, 0, nslices-1) \n",
    "    images_segmented[-1].GetPointData().SetScalars(cine_arr_segmented_vtk[-1])\n",
    "    transform = vtk.vtkTransform()\n",
    "    n_orientation = np.cross(cine_arr_orientation[[3, 4, 5]], cine_arr_orientation[[0, 1, 2]])\n",
    "    k_orientation = n_orientation*cine_arr_thickness\n",
    "    transform.SetMatrix([cine_arr_orientation[3]*cine_arr_height, cine_arr_orientation[0]*cine_arr_width, k_orientation[0], cine_arr_position[0],\n",
    "                         cine_arr_orientation[4]*cine_arr_height, cine_arr_orientation[1]*cine_arr_width, k_orientation[1], cine_arr_position[1], \n",
    "                         cine_arr_orientation[5]*cine_arr_height, cine_arr_orientation[2]*cine_arr_width, k_orientation[2], cine_arr_position[2],\n",
    "                         0, 0, 0, 1])\n",
    "    transform_filter = vtk.vtkTransformFilter()\n",
    "    transform_filter.SetInputData(images[-1])\n",
    "    transform_filter.SetTransform(transform)\n",
    "    transform_filter.Update()\n",
    "    images_transformed[-1].DeepCopy(transform_filter.GetOutput())\n",
    "    \n",
    "    transform_filter = vtk.vtkTransformFilter()\n",
    "    transform_filter.SetInputData(images_segmented[-1])\n",
    "    transform_filter.SetTransform(transform)\n",
    "    transform_filter.Update()\n",
    "    images_segmented_transformed[-1].DeepCopy(transform_filter.GetOutput())\n",
    "    #images[-1].SetSpacing(1.0, 1.0, 1.0)\n",
    "    #images[-1].SetOrigin(0.0, 0.0, 0.0)\n",
    "    grid_writer.SetFileName(f'{HOME_PATH}/mri_tensors/image_{t}.vts')\n",
    "    grid_writer.SetInputData(images[-1])\n",
    "    grid_writer.Update()\n",
    "    grid_writer.SetFileName(f'{HOME_PATH}/mri_tensors/image_segmented_{t}.vts')\n",
    "    grid_writer.SetInputData(images_segmented[-1])\n",
    "    grid_writer.Update()\n",
    "    grid_writer.SetFileName(f'{HOME_PATH}/mri_tensors/structured_grid_{t}.vts')\n",
    "    grid_writer.SetInputData(images_transformed[-1])\n",
    "    grid_writer.Update()    \n",
    "    grid_writer.SetFileName(f'{HOME_PATH}/mri_tensors/structured_grid_segmented_{t}.vts')\n",
    "    grid_writer.SetInputData(images_segmented_transformed[-1])\n",
    "    grid_writer.Update()"
   ]
  },
  {
   "cell_type": "markdown",
   "metadata": {},
   "source": [
    "- long axis (2ch, 3ch, and 4ch)"
   ]
  },
  {
   "cell_type": "code",
   "execution_count": null,
   "metadata": {},
   "outputs": [],
   "source": [
    "images_lax = []\n",
    "images_lax_transformed = []\n",
    "lax_arr_vtk = []\n",
    "XYZ_lax = np.meshgrid(Xcoors, Ycoors, [0.0])\n",
    "XYZ_lax_arr = np.zeros((256*256, 3))\n",
    "XYZ_lax_arr[:, 0] = XYZ_lax[0].ravel(order='F')\n",
    "XYZ_lax_arr[:, 1] = XYZ_lax[1].ravel(order='F')\n",
    "XYZ_lax_arr[:, 2] = XYZ_lax[2].ravel(order='F')\n",
    "XYZ_lax_arr_vtk = ns.numpy_to_vtk(XYZ_lax_arr)\n",
    "pts_lax = vtk.vtkPoints()\n",
    "pts_lax.SetData(XYZ_lax_arr_vtk)\n",
    "\n",
    "for i, lax_name in enumerate(lax_names):\n",
    "    images_lax.append([])\n",
    "    images_lax_transformed.append([])\n",
    "    lax_arr_vtk.append([])\n",
    "    for t in range(50):        \n",
    "        images_lax[-1].append(vtk.vtkStructuredGrid())\n",
    "        images_lax_transformed[-1].append(vtk.vtkStructuredGrid())\n",
    "        lax_arr_vtk[-1].append(ns.numpy_to_vtk(lax_arrs[i][:, :, t].ravel(order='F'), deep=True, array_type=vtk.VTK_UNSIGNED_CHAR))\n",
    "        images_lax[-1][-1].SetDimensions(256, 256, 1)\n",
    "        images_lax[-1][-1].SetPoints(pts_lax)\n",
    "        images_lax[-1][-1].SetExtent(0, 255, 0, 255, 0, 0)\n",
    "        images_lax[-1][-1].GetPointData().SetScalars(lax_arr_vtk[-1][-1])\n",
    "    \n",
    "        \n",
    "        n_orientation = np.cross(lax_orientations[i][[3, 4, 5]], lax_orientations[i][[0, 1, 2]])\n",
    "        k_orientation = n_orientation*lax_thicknesses[i]\n",
    "        transform.SetMatrix([lax_orientations[i][3]*lax_heights[i], lax_orientations[i][0]*lax_widths[i], k_orientation[0], lax_positions[i][0],\n",
    "                             lax_orientations[i][4]*lax_heights[i], lax_orientations[i][1]*lax_widths[i], k_orientation[1], lax_positions[i][1], \n",
    "                             lax_orientations[i][5]*lax_heights[i], lax_orientations[i][2]*lax_widths[i], k_orientation[2], lax_positions[i][2],\n",
    "                             0, 0, 0, 1])\n",
    "        transform_filter.SetInputData(images_lax[-1][-1])\n",
    "        transform_filter.SetTransform(transform)\n",
    "        transform_filter.Update()\n",
    "        images_lax_transformed[-1][-1].DeepCopy(transform_filter.GetOutput())\n",
    "        grid_writer.SetFileName(f'{HOME_PATH}/mri_tensors/image_{lax_name}_{t}.vts')\n",
    "        grid_writer.SetInputData(images_lax[-1][-1])\n",
    "        grid_writer.Update()\n",
    "        grid_writer.SetFileName(f'{HOME_PATH}/mri_tensors/structured_grid_{lax_name}_{t}.vts')\n",
    "        grid_writer.SetInputData(images_lax_transformed[-1][-1])\n",
    "        grid_writer.Update()\n"
   ]
  },
  {
   "cell_type": "markdown",
   "metadata": {},
   "source": [
    "# Test new TMAPs and functions in tensor_from_file\n",
    "Save aligned SAX and LAX VTK structured grids in {HOME_PATH}/mri_tensors/grid*"
   ]
  },
  {
   "cell_type": "code",
   "execution_count": null,
   "metadata": {},
   "outputs": [],
   "source": [
    "orientations = _mri_tensor_2d(ff, 'mri_patient_orientation_cine_segmented_lax_inlinevf_segmented')"
   ]
  },
  {
   "cell_type": "code",
   "execution_count": null,
   "metadata": {},
   "outputs": [],
   "source": [
    "orientations.shape"
   ]
  },
  {
   "cell_type": "code",
   "execution_count": null,
   "metadata": {},
   "outputs": [],
   "source": [
    "_, dataset_indices, dataset_inverse, dataset_counts = np.unique(orientations, axis=1, return_index=True, return_inverse=True, return_counts=True)"
   ]
  },
  {
   "cell_type": "code",
   "execution_count": null,
   "metadata": {},
   "outputs": [],
   "source": [
    "dataset_indices"
   ]
  },
  {
   "cell_type": "code",
   "execution_count": null,
   "metadata": {},
   "outputs": [],
   "source": [
    "np.unique(orientations, axis=3, return_index=True, return_inverse=True, return_counts=True)"
   ]
  },
  {
   "cell_type": "code",
   "execution_count": null,
   "metadata": {},
   "outputs": [],
   "source": [
    "list(ff.keys())"
   ]
  },
  {
   "cell_type": "code",
   "execution_count": null,
   "metadata": {},
   "outputs": [],
   "source": [
    "from ml4cvd.tensor_from_file import _mri_tensor_2d\n",
    "_mri_tensor_2d(ff, 'mri_patient_position_cine_segmented_lax_inlinevf')"
   ]
  },
  {
   "cell_type": "code",
   "execution_count": null,
   "metadata": {},
   "outputs": [],
   "source": [
    "with h5py.File(f'{HOME_PATH}/mri_tensors/2000119.hd5', 'r') as hd5:\n",
    "    cine_sax= _mri_hd5_to_structured_grids(hd5, 'cine_segmented_sax_inlinevf_segmented', save_path=f'{HOME_PATH}/mri_tensors')\n",
    "    cine_lax= _mri_hd5_to_structured_grids(hd5, 'cine_segmented_lax_inlinevf_segmented', save_path=f'{HOME_PATH}/mri_tensors')\n",
    "    lax_2ch = _mri_hd5_to_structured_grids(hd5, 'cine_segmented_lax_2ch', save_path=f'{HOME_PATH}/mri_tensors')\n",
    "    lax_3ch = _mri_hd5_to_structured_grids(hd5, 'cine_segmented_lax_3ch', save_path=f'{HOME_PATH}/mri_tensors')\n",
    "    lax_4ch = _mri_hd5_to_structured_grids(hd5, 'cine_segmented_lax_4ch', save_path=f'{HOME_PATH}/mri_tensors')"
   ]
  },
  {
   "cell_type": "markdown",
   "metadata": {},
   "source": [
    "Test new TMAPs for projecting SAX segmentation to LAX (note: this takes ~2 mins per LAX series)"
   ]
  },
  {
   "cell_type": "code",
   "execution_count": null,
   "metadata": {},
   "outputs": [],
   "source": [
    "%matplotlib inline\n",
    "for series in ['2ch', '3ch', '4ch']:\n",
    "    tm = _get_tmap(f'cine_segmented_lax_{series}')\n",
    "    tm_segmented = _get_tmap(f'cine_segmented_lax_{series}_proj_from_sax')\n",
    "    with h5py.File(f'{HOME_PATH}/mri_tensors/2000119.hd5', 'r') as hd5:\n",
    "        slices = tm.tensor_from_file(tm, hd5)\n",
    "        slices_segmented = tm_segmented.tensor_from_file(tm_segmented, hd5)\n",
    "    f, ax = plt.subplots(1, 2)\n",
    "    ax[0].imshow(slices[:, :, 0])\n",
    "    ax[1].imshow(slices_segmented[:, :, 0])"
   ]
  },
  {
   "cell_type": "code",
   "execution_count": null,
   "metadata": {},
   "outputs": [],
   "source": [
    "from ml4cvd.tensor_from_file import _mri_tensor_4d\n",
    "tm_segmented = _get_tmap(f'cine_segmented_sax_inlinevf_proj_from_lax')\n",
    "with h5py.File(f'{HOME_PATH}/mri_tensors/2000119.hd5', 'r') as hd5:\n",
    "    slices = _mri_tensor_4d(hd5, 'cine_segmented_sax_inlinevf')\n",
    "    slices_segmented = tm_segmented.tensor_from_file(tm_segmented, hd5)\n"
   ]
  },
  {
   "cell_type": "code",
   "execution_count": null,
   "metadata": {},
   "outputs": [],
   "source": [
    "slices_segmented.max()"
   ]
  },
  {
   "cell_type": "code",
   "execution_count": null,
   "metadata": {
    "scrolled": false
   },
   "outputs": [],
   "source": [
    "for i in range(50):\n",
    "    f, ax = plt.subplots(1, 2)\n",
    "    f.set_size_inches(20, 16)\n",
    "    ax[0].imshow(slices[:, :, 0, i])\n",
    "    ax[1].imshow(slices_segmented[:, :, 0, i])"
   ]
  },
  {
   "cell_type": "markdown",
   "metadata": {},
   "source": [
    "# Test orientation and position TMAPS"
   ]
  },
  {
   "cell_type": "code",
   "execution_count": null,
   "metadata": {},
   "outputs": [],
   "source": [
    "for series in ['lax_2ch', 'lax_3ch', 'lax_4ch', 'sax_b1', 'sax_inlinevf']:\n",
    "    tm_orientation = _get_tmap(f'mri_patient_orientation_cine_segmented_{series}')\n",
    "    tm_position = _get_tmap(f'mri_patient_position_cine_segmented_{series}')\n",
    "    with h5py.File(f'{HOME_PATH}/mri_tensors/2000119.hd5', 'r') as hd5:\n",
    "        orientation = tm_orientation.tensor_from_file(tm_orientation, hd5)\n",
    "        position = tm_position.tensor_from_file(tm_position, hd5)\n",
    "    print(f'{series}:\\n{orientation}, \\n {position}')"
   ]
  },
  {
   "cell_type": "code",
   "execution_count": null,
   "metadata": {},
   "outputs": [],
   "source": []
  },
  {
   "cell_type": "code",
   "execution_count": null,
   "metadata": {},
   "outputs": [],
   "source": []
  }
 ],
 "metadata": {
  "kernelspec": {
   "display_name": "Python 3",
   "language": "python",
   "name": "python3"
  },
  "language_info": {
   "codemirror_mode": {
    "name": "ipython",
    "version": 3
   },
   "file_extension": ".py",
   "mimetype": "text/x-python",
   "name": "python",
   "nbconvert_exporter": "python",
   "pygments_lexer": "ipython3",
   "version": "3.6.8"
  }
 },
 "nbformat": 4,
 "nbformat_minor": 2
}
