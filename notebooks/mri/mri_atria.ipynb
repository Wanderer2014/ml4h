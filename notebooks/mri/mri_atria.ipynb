{
 "cells": [
  {
   "cell_type": "code",
   "execution_count": 1,
   "metadata": {},
   "outputs": [],
   "source": [
    "import h5py\n",
    "import glob\n",
    "import seaborn as sns\n",
    "from ml4cvd.tensor_from_file import _mri_tensor_4d, _mri_hd5_to_structured_grids\n",
    "from ml4cvd.defines import MRI_LAX_4CH_SEGMENTED_CHANNEL_MAP, MRI_LAX_3CH_SEGMENTED_CHANNEL_MAP, MRI_FRAMES\n",
    "from ml4cvd.tensor_from_file import _mri_project_grids\n",
    "from vtk.util import numpy_support as ns\n",
    "import vtk\n",
    "import numpy as np\n",
    "import pandas as pd\n",
    "from pypoisson import poisson_reconstruction\n",
    "import os\n",
    "import imageio"
   ]
  },
  {
   "cell_type": "code",
   "execution_count": 2,
   "metadata": {},
   "outputs": [],
   "source": [
    "MRI_LAX_2CH_SEGMENTED_CHANNEL_MAP = {'left_atrium': 11}"
   ]
  },
  {
   "cell_type": "code",
   "execution_count": 3,
   "metadata": {},
   "outputs": [],
   "source": [
    "cli_idxs = [int(idx) for idx in ['2']]"
   ]
  },
  {
   "cell_type": "code",
   "execution_count": 4,
   "metadata": {},
   "outputs": [],
   "source": [
    "petersen = pd.read_csv('/mnt/ml4cvd/jamesp/lvmass/returned_lv_mass.tsv', sep='\\t')\n",
    "petersen_idxs = petersen['sample_id'].values"
   ]
  },
  {
   "cell_type": "code",
   "execution_count": 5,
   "metadata": {},
   "outputs": [
    {
     "output_type": "execute_result",
     "data": {
      "text/plain": "3317888"
     },
     "metadata": {},
     "execution_count": 5
    }
   ],
   "source": [
    "petersen_idxs[2]"
   ]
  },
  {
   "cell_type": "code",
   "execution_count": null,
   "metadata": {},
   "outputs": [],
   "source": [
    "# hd5s = glob.glob('/mnt/disks/sax-lax-40k-lvm/2020-01-29/*.hd5')\n",
    "# results = {f'dice_{d}': [] for d in range(MRI_FRAMES)}\n",
    "# results['patientid'] = []\n",
    "\n",
    "# for i, hd5 in enumerate(hd5s):\n",
    "#     if i % 100 == 0 : print(i)\n",
    "#     with h5py.File(hd5, 'r') as ff:\n",
    "#         if 'ukb_cardiac_mri' not in ff:\n",
    "#             continue\n",
    "#         try:\n",
    "#             ds_3ch = _mri_hd5_to_structured_grids(ff, 'cine_segmented_lax_3ch_annotated_', view_name='cine_segmented_lax_3ch', concatenate=True, save_path=None, order='F')\n",
    "#             ds_4ch = _mri_hd5_to_structured_grids(ff, 'cine_segmented_lax_4ch_annotated_', view_name='cine_segmented_lax_4ch', concatenate=True, save_path=None, order='F')\n",
    "#             ds_4ch_3ch = _mri_project_grids(ds_3ch, ds_4ch, 'cine_segmented_lax_3ch_annotated_')\n",
    "#             ds_3ch_4ch = _mri_project_grids(ds_4ch, ds_3ch, 'cine_segmented_lax_4ch_annotated_')\n",
    "#         except:\n",
    "#             continue       \n",
    "        \n",
    "#         results['patientid'].append(hd5.split('/')[-1].replace('.hd5', ''))\n",
    "#         for t in range(MRI_FRAMES):\n",
    "#             arr_4onto3 = ns.vtk_to_numpy(ds_3ch_4ch[0].GetCellData().GetArray(f'cine_segmented_lax_4ch_annotated__projected_{t}'))\n",
    "#             arr_3 = ns.vtk_to_numpy(ds_3ch_4ch[0].GetCellData().GetArray(f'cine_segmented_lax_3ch_annotated__{t}'))\n",
    "#             arr_3onto4 = ns.vtk_to_numpy(ds_4ch_3ch[0].GetCellData().GetArray(f'cine_segmented_lax_3ch_annotated__projected_{t}'))\n",
    "#             arr_4 = ns.vtk_to_numpy(ds_4ch_3ch[0].GetCellData().GetArray(f'cine_segmented_lax_4ch_annotated__{t}'))\n",
    "#             cond1 = arr_4onto3 > 0\n",
    "#             inters1 = np.sum(((arr_4onto3==MRI_LAX_4CH_SEGMENTED_CHANNEL_MAP['LA_cavity']) & cond1) & \\\n",
    "#                              ((arr_3==MRI_LAX_3CH_SEGMENTED_CHANNEL_MAP['left_atrium']) & cond1))\n",
    "#             union1 = np.sum(((arr_4onto3==MRI_LAX_4CH_SEGMENTED_CHANNEL_MAP['LA_cavity']) & cond1) | \\\n",
    "#                             ((arr_3==MRI_LAX_3CH_SEGMENTED_CHANNEL_MAP['left_atrium']) & cond1))\n",
    "#             cond2 = arr_3onto4 > 0\n",
    "#             inters2 = np.sum(((arr_3onto4==MRI_LAX_3CH_SEGMENTED_CHANNEL_MAP['left_atrium']) & cond2) & \\\n",
    "#                              ((arr_4==MRI_LAX_4CH_SEGMENTED_CHANNEL_MAP['LA_cavity']) & cond2))\n",
    "#             union2 = np.sum(((arr_3onto4==MRI_LAX_3CH_SEGMENTED_CHANNEL_MAP['left_atrium']) & cond2) | \\\n",
    "#                             ((arr_4==MRI_LAX_4CH_SEGMENTED_CHANNEL_MAP['LA_cavity']) & cond2))\n",
    "#             results[f'dice_{t}'].append(np.mean([inters1/union1, inters2/union2]))"
   ]
  },
  {
   "cell_type": "code",
   "execution_count": null,
   "metadata": {},
   "outputs": [],
   "source": [
    "results_df = pd.concat([pd.read_csv(f'/home/pdiachil/intersected_mri_{i}.csv') for i in range(256) \\\n",
    "                        if os.path.isfile(f'/home/pdiachil/intersected_mri_{i}.csv')]).dropna()\n",
    "results_df"
   ]
  },
  {
   "cell_type": "code",
   "execution_count": null,
   "metadata": {
    "scrolled": false
   },
   "outputs": [],
   "source": [
    "%matplotlib inline\n",
    "import matplotlib.pyplot as plt\n",
    "results_df['dice_median'] = np.median(results_df.values[:, :-1], axis=1)\n",
    "f, ax = plt.subplots()\n",
    "f.set_size_inches(3, 2)\n",
    "sns.distplot(results_df['dice_median'], kde=False, ax=ax)\n",
    "ax.set_xlabel('Median Dice over cardiac cycle',)\n",
    "ax.set_ylabel('Counts')\n",
    "plt.tight_layout()\n",
    "f.savefig('dice_distribution.png', dpi=500)"
   ]
  },
  {
   "cell_type": "code",
   "execution_count": null,
   "metadata": {
    "scrolled": true
   },
   "outputs": [],
   "source": [
    "import matplotlib.animation as anim\n",
    "import imageio\n",
    "from IPython.display import HTML, Image\n",
    "idxs = []\n",
    "for i, idx in enumerate(results_df.sort_values(by='dice_median').patientid):\n",
    "    idxs.append(idx)\n",
    "    with h5py.File(f'/mnt/disks/sax-lax-40k-lvm/2020-01-29/{idx}.hd5') as ff:\n",
    "        arr_3ch = _mri_tensor_4d(ff, 'cine_segmented_lax_3ch', dest_shape=[256, 256], concatenate=False)\n",
    "        arr_4ch = _mri_tensor_4d(ff, 'cine_segmented_lax_4ch', dest_shape=[256, 256], concatenate=False)\n",
    "        arr_annot_3ch = _mri_tensor_4d(ff, 'cine_segmented_lax_3ch_annotated_', concatenate=True)\n",
    "        arr_annot_4ch = _mri_tensor_4d(ff, 'cine_segmented_lax_4ch_annotated_', concatenate=True)\n",
    "        arr_annot_3ch_ma = np.ma.masked_array(data=arr_annot_3ch, \n",
    "                                              mask=(arr_annot_3ch != MRI_LAX_3CH_SEGMENTED_CHANNEL_MAP['left_atrium'])) \n",
    "        arr_annot_4ch_ma = np.ma.masked_array(data=arr_annot_4ch, \n",
    "                                              mask=(arr_annot_4ch != MRI_LAX_4CH_SEGMENTED_CHANNEL_MAP['LA_cavity']))\n",
    "        f, ax = plt.subplots(1, 2)\n",
    "        f.set_size_inches(16, 9)\n",
    "        with imageio.get_writer(f'{idx}.gif', mode='I') as writer:\n",
    "            for t in range(MRI_FRAMES):\n",
    "                ax[0].imshow(arr_3ch[:, :, 0, t], cmap='gray')\n",
    "                ax[0].imshow(arr_annot_3ch_ma[:, :, 0, t], alpha=0.5)\n",
    "                ax[1].imshow(arr_4ch[:, :, 0, t], cmap='gray')\n",
    "                ax[1].imshow(arr_annot_4ch_ma[:, :, 0, t], alpha=0.5)                \n",
    "                f.suptitle(f\"Patient: {idx}, Dice = {results_df.sort_values(by='dice_0')[f'dice_{t}'].values[i]}\")\n",
    "                f.savefig(f'tmp_{t}.png', dpi=50)\n",
    "                image = imageio.imread(f'tmp_{t}.png')\n",
    "                writer.append_data(image)                \n",
    "        if i==10: break"
   ]
  },
  {
   "cell_type": "code",
   "execution_count": null,
   "metadata": {},
   "outputs": [],
   "source": [
    "results_df.sort_values(by='dice_median').to_csv('dice_sores_3ch_4ch.tsv', sep='\\t', index=False)"
   ]
  },
  {
   "cell_type": "code",
   "execution_count": null,
   "metadata": {
    "scrolled": false
   },
   "outputs": [],
   "source": [
    "from IPython.display import Image\n",
    "movies = []\n",
    "for idx in idxs:\n",
    "    movies.append(Image(filename=f\"{idx}.gif\"))\n",
    "display(*movies)"
   ]
  },
  {
   "cell_type": "code",
   "execution_count": null,
   "metadata": {},
   "outputs": [],
   "source": [
    "idxs = []\n",
    "for i, idx in enumerate(results_df.sort_values(by='dice_median', ascending=True).patientid):\n",
    "    if i % (len(results_df)//10000) == 0:\n",
    "        idxs.append(idx)\n",
    "    if i > (len(results_df)//10): break"
   ]
  },
  {
   "cell_type": "code",
   "execution_count": null,
   "metadata": {},
   "outputs": [],
   "source": [
    "len(idxs)"
   ]
  },
  {
   "cell_type": "code",
   "execution_count": null,
   "metadata": {
    "scrolled": true
   },
   "outputs": [],
   "source": [
    "for idx in idxs:\n",
    "    with h5py.File(f'/mnt/disks/sax-lax-40k-lvm/2020-01-29/{idx}.hd5', 'r') as ff:\n",
    "        arr_3ch = _mri_tensor_4d(ff, 'cine_segmented_lax_3ch', dest_shape=[256, 256], concatenate=False)\n",
    "        arr_4ch = _mri_tensor_4d(ff, 'cine_segmented_lax_4ch', dest_shape=[256, 256], concatenate=False)\n",
    "        arr_annot_3ch = _mri_tensor_4d(ff, 'cine_segmented_lax_3ch_annotated_', concatenate=True)\n",
    "        arr_annot_4ch = _mri_tensor_4d(ff, 'cine_segmented_lax_4ch_annotated_', concatenate=True)\n",
    "        arr_annot_3ch_ma = np.ma.masked_array(data=arr_annot_3ch, \n",
    "                                              mask=(arr_annot_3ch != MRI_LAX_3CH_SEGMENTED_CHANNEL_MAP['left_atrium'])) \n",
    "        arr_annot_4ch_ma = np.ma.masked_array(data=arr_annot_4ch, \n",
    "                                              mask=(arr_annot_4ch != MRI_LAX_4CH_SEGMENTED_CHANNEL_MAP['LA_cavity']))\n",
    "        ds_3ch = _mri_hd5_to_structured_grids(ff, 'cine_segmented_lax_3ch_annotated_', view_name='cine_segmented_lax_3ch', concatenate=True, save_path=None, order='F')\n",
    "        ds_4ch = _mri_hd5_to_structured_grids(ff, 'cine_segmented_lax_4ch_annotated_', view_name='cine_segmented_lax_4ch', concatenate=True, save_path=None, order='F')\n",
    "        ds_3ch_4ch = _mri_project_grids(ds_3ch, ds_4ch, 'cine_segmented_lax_3ch_annotated_')\n",
    "        ds_4ch_3ch = _mri_project_grids(ds_4ch, ds_3ch, 'cine_segmented_lax_4ch_annotated_')\n",
    "        writer = vtk.vtkXMLStructuredGridWriter()\n",
    "        writer.SetInputData(ds_3ch_4ch[0])\n",
    "        writer.SetFileName(f'{idx}_3ch_4ch.vts')\n",
    "        writer.Update()\n",
    "        writer.SetInputData(ds_4ch_3ch[0])\n",
    "        writer.SetFileName(f'{idx}_4ch_3ch.vts')\n",
    "        writer.Update()\n",
    "        f, ax = plt.subplots(1, 2)\n",
    "        f.set_size_inches(8, 8)\n",
    "        with imageio.get_writer(f\"overlap_dice_{results_df[results_df['patientid']==idx][f'dice_median'].values[0]}_{idx}.gif\", mode='I') as writer:\n",
    "            for t in range(0, MRI_FRAMES, 10):\n",
    "                arr_3_4 = ns.vtk_to_numpy(ds_3ch_4ch[0].GetCellData().GetArray(f'cine_segmented_lax_3ch_annotated__projected_{t}'))\n",
    "                arr_3_4_ma = np.ma.masked_array(data=arr_3_4,\n",
    "                                                mask=(arr_3_4 != MRI_LAX_3CH_SEGMENTED_CHANNEL_MAP['left_atrium']))\n",
    "                arr_4_3 = ns.vtk_to_numpy(ds_4ch_3ch[0].GetCellData().GetArray(f'cine_segmented_lax_4ch_annotated__projected_{t}'))\n",
    "                arr_4_3_ma = np.ma.masked_array(data=arr_4_3,\n",
    "                                                mask=(arr_4_3 != MRI_LAX_4CH_SEGMENTED_CHANNEL_MAP['LA_cavity']))\n",
    "                ax[0].imshow(arr_4ch[:, :, 0, t], cmap='gray')\n",
    "                ax[0].imshow(arr_annot_4ch_ma[:, :, 0, t], alpha=0.5)\n",
    "                ax[0].imshow(arr_3_4_ma.reshape(arr_annot_4ch_ma.shape[:2], order='F'), alpha=0.5, cmap='Reds') \n",
    "                ax[1].imshow(arr_3ch[:, :, 0, t], cmap='gray')\n",
    "                ax[1].imshow(arr_annot_3ch_ma[:, :, 0, t], alpha=0.5)\n",
    "                ax[1].imshow(arr_4_3_ma.reshape(arr_annot_3ch_ma.shape[:2], order='F'), alpha=0.5, cmap='Reds') \n",
    "                ax[0].set_title(f\"Patient: {idx}\")\n",
    "                ax[1].set_title(f\"Dice = {results_df[results_df['patientid']==idx][f'dice_{t}'].values}\")\n",
    "                f.savefig(f'overlap_{idx}_{t}.png', dpi=100)\n",
    "                image = imageio.imread(f\"overlap_{idx}_{t}.png\")\n",
    "                writer.append_data(image)       "
   ]
  },
  {
   "cell_type": "code",
   "execution_count": null,
   "metadata": {
    "scrolled": true
   },
   "outputs": [],
   "source": [
    "from IPython.display import Image\n",
    "movies = []\n",
    "for i, idx in enumerate(idxs[:50]):\n",
    "    movies.append(Image(filename=f\"overlap_{idx}.gif\", width=1600, height=800))\n",
    "display(*movies)"
   ]
  },
  {
   "cell_type": "code",
   "execution_count": null,
   "metadata": {},
   "outputs": [],
   "source": [
    "def project_3dpts_plane(pts):\n",
    "    N = np.cross(pts[10] - pts[0], pts[200] - pts[0])\n",
    "    U = (pts[10] - pts[0])/np.linalg.norm(pts[10] - pts[0])\n",
    "    uN = N / np.linalg.norm(N)\n",
    "    u = pts[0] + U  \n",
    "    V = np.cross(U, uN)\n",
    "    v = pts[0] + V\n",
    "    n = pts[0] + uN\n",
    "    S = np.ones((4, 4))\n",
    "    S[:-1, 0] = pts[0]\n",
    "    S[:-1, 1] = u\n",
    "    S[:-1, 2] = v\n",
    "    S[:-1, 3] = n\n",
    "    Sinv = np.linalg.inv(S)\n",
    "    D = np.zeros((4, 4))\n",
    "    D[-1] = 1\n",
    "    D[0, 1] = 1\n",
    "    D[1, 2] = 1\n",
    "    D[2, 3] = 1\n",
    "    M = np.dot(D, Sinv)\n",
    "#     f, ax = plt.subplots()\n",
    "#     ax = f.add_subplot(111, projection='3d')\n",
    "#     ax.scatter(*pts[0])\n",
    "#     ax.scatter(*v)\n",
    "#     ax.scatter(*n)\n",
    "#     ax.scatter(*u)\n",
    "    pts_tmp = np.zeros((4, len(pts)))\n",
    "    pts_tmp[:-1, :] = pts.T\n",
    "    pts_tmp[-1] = 1\n",
    "    return np.dot(M, pts_tmp)[:-1].T\n",
    "    "
   ]
  },
  {
   "cell_type": "code",
   "execution_count": null,
   "metadata": {},
   "outputs": [],
   "source": [
    "# petersen_idxs = []\n",
    "# hd5s = glob.glob(f'/mnt/disks/sax-and-lax-zip-2019-09-30/unzip-sax-and-lax-44k-2020-06-05/*.hd5')\n",
    "# for hd5 in hd5s:\n",
    "#     with h5py.File(hd5, 'r') as ff:\n",
    "#         try:\n",
    "#             for k in ff['continuous'].keys():\n",
    "#                 if 'LA_' in k: \n",
    "#                     petersen_idxs.append(hd5)\n",
    "#         except:\n",
    "#             pass"
   ]
  },
  {
   "cell_type": "code",
   "execution_count": null,
   "metadata": {},
   "outputs": [],
   "source": [
    "petersen = pd.read_csv('returned_lv_mass.tsv', sep='\\t')\n",
    "petersen_idxs = petersen['sample_id'].values\n",
    "for t in range(MRI_FRAMES):\n",
    "    petersen[f'LA_poisson_{t}'] = 0.0"
   ]
  },
  {
   "cell_type": "code",
   "execution_count": null,
   "metadata": {},
   "outputs": [],
   "source": [
    "from scipy.spatial import ConvexHull\n",
    "volumes = []\n",
    "for i, idx in enumerate(petersen_idxs):\n",
    "    if (i % 10) == 0: \n",
    "        print(f'{i} out of {len(petersen_idxs)}')\n",
    "    if i == 1:\n",
    "        break\n",
    "    try:\n",
    "        with h5py.File(f'/mnt/disks/sax-and-lax-zip-2019-09-30/unzip-sax-and-lax-44k-2020-06-05/{idx}.hd5', 'r') as ff:\n",
    "            ds_2ch = _mri_hd5_to_structured_grids(ff, 'cine_segmented_lax_2ch_annotated_', view_name='cine_segmented_lax_2ch', concatenate=True, save_path=None, order='F')\n",
    "            ds_3ch = _mri_hd5_to_structured_grids(ff, 'cine_segmented_lax_3ch_annotated_', view_name='cine_segmented_lax_3ch', concatenate=True, save_path=None, order='F')\n",
    "            ds_4ch = _mri_hd5_to_structured_grids(ff, 'cine_segmented_lax_4ch_annotated_', view_name='cine_segmented_lax_4ch', concatenate=True, save_path=None, order='F')\n",
    "        \n",
    "            centers_2ch = vtk.vtkCellCenters()\n",
    "            centers_2ch.SetInputData(ds_2ch[0])\n",
    "            centers_2ch.Update()\n",
    "            centers_3ch = vtk.vtkCellCenters()\n",
    "            centers_3ch.SetInputData(ds_3ch[0])\n",
    "            centers_3ch.Update()\n",
    "            centers_4ch = vtk.vtkCellCenters()\n",
    "            centers_4ch.SetInputData(ds_4ch[0])\n",
    "            centers_4ch.Update()\n",
    "            for t in range(MRI_FRAMES):\n",
    "                arr_annot_2ch = ns.vtk_to_numpy(ds_2ch[0].GetCellData().GetArray(f'cine_segmented_lax_2ch_annotated__{t}'))\n",
    "                arr_annot_3ch = ns.vtk_to_numpy(ds_3ch[0].GetCellData().GetArray(f'cine_segmented_lax_3ch_annotated__{t}'))\n",
    "                arr_annot_4ch = ns.vtk_to_numpy(ds_4ch[0].GetCellData().GetArray(f'cine_segmented_lax_4ch_annotated__{t}'))\n",
    "                idx_2ch = np.where(arr_annot_2ch == MRI_LAX_2CH_SEGMENTED_CHANNEL_MAP['left_atrium'])\n",
    "                idx_3ch = np.where(arr_annot_3ch == MRI_LAX_3CH_SEGMENTED_CHANNEL_MAP['left_atrium'])\n",
    "                idx_4ch = np.where(arr_annot_4ch == MRI_LAX_4CH_SEGMENTED_CHANNEL_MAP['LA_cavity'])\n",
    "                pts_2ch = ns.vtk_to_numpy(centers_2ch.GetOutput().GetPoints().GetData())[idx_2ch]\n",
    "                pts_2ch_2d = project_3dpts_plane(pts_2ch)\n",
    "                n_2ch = np.cross(pts_2ch[10] - pts_2ch[0], pts_2ch[200] - pts_2ch[0])\n",
    "                n_2ch /= np.linalg.norm(n_2ch)\n",
    "                pts_3ch = ns.vtk_to_numpy(centers_3ch.GetOutput().GetPoints().GetData())[idx_3ch]\n",
    "                pts_3ch_2d = project_3dpts_plane(pts_3ch)\n",
    "                n_3ch = np.cross(pts_3ch[10] - pts_3ch[0], pts_3ch[200] - pts_3ch[0])\n",
    "                n_3ch /= np.linalg.norm(n_3ch)\n",
    "                pts_4ch = ns.vtk_to_numpy(centers_4ch.GetOutput().GetPoints().GetData())[idx_4ch]\n",
    "                pts_4ch_2d = project_3dpts_plane(pts_4ch)\n",
    "                n_4ch = np.cross(pts_4ch[10] - pts_4ch[0], pts_4ch[200] - pts_4ch[0])\n",
    "                n_4ch /= np.linalg.norm(n_4ch)\n",
    "                hull_2ch = ConvexHull(pts_2ch_2d[:, :-1])\n",
    "                hull_3ch = ConvexHull(pts_3ch_2d[:, :-1])\n",
    "                hull_4ch = ConvexHull(pts_4ch_2d[:, :-1])\n",
    "                pts_hull_2ch = pts_2ch[hull_2ch.vertices]\n",
    "                pts_hull_3ch = pts_3ch[hull_3ch.vertices]\n",
    "                pts_hull_4ch = pts_4ch[hull_4ch.vertices]\n",
    "                pts1_hull_2ch = np.zeros_like(pts_hull_2ch)\n",
    "                pts1_hull_3ch = np.zeros_like(pts_hull_3ch)\n",
    "                pts1_hull_4ch = np.zeros_like(pts_hull_4ch)\n",
    "                pts1_hull_2ch[:-1] = pts_hull_2ch[1:]\n",
    "                pts1_hull_2ch[-1] = pts_hull_2ch[0]\n",
    "                pts1_hull_3ch[:-1] = pts_hull_3ch[1:]\n",
    "                pts1_hull_3ch[-1] = pts_hull_3ch[0]\n",
    "                pts1_hull_4ch[:-1] = pts_hull_4ch[1:]\n",
    "                pts1_hull_4ch[-1] = pts_hull_4ch[0]\n",
    "                n_hull_2ch = np.cross(pts1_hull_2ch-pts_hull_2ch, n_2ch)\n",
    "                n_hull_2ch /= np.linalg.norm(n_hull_2ch, axis=1).reshape(-1, 1)\n",
    "                n_hull_3ch = np.cross(pts1_hull_3ch-pts_hull_3ch, n_3ch)\n",
    "                n_hull_3ch /= np.linalg.norm(n_hull_3ch, axis=1).reshape(-1, 1)\n",
    "                n_hull_4ch = np.cross(pts1_hull_4ch-pts_hull_4ch, n_4ch)\n",
    "                n_hull_4ch /= np.linalg.norm(n_hull_4ch, axis=1).reshape(-1, 1)\n",
    "                n1_hull_2ch = np.zeros_like(n_hull_2ch)\n",
    "                n1_hull_2ch[1:] = n_hull_2ch[:-1]\n",
    "                n1_hull_2ch[0] = n_hull_2ch[-1]\n",
    "                n_hull_2ch = -0.5*(n_hull_2ch + n1_hull_2ch)\n",
    "                n1_hull_3ch = np.zeros_like(n_hull_3ch)\n",
    "                n1_hull_3ch[1:] = n_hull_3ch[:-1]\n",
    "                n1_hull_3ch[0] = n_hull_3ch[-1]\n",
    "                n_hull_3ch = -0.5*(n_hull_3ch + n1_hull_3ch)\n",
    "                n1_hull_4ch = np.zeros_like(n_hull_4ch)\n",
    "                n1_hull_4ch[1:] = n_hull_4ch[:-1]\n",
    "                n1_hull_4ch[0] = n_hull_4ch[-1]\n",
    "                n_hull_4ch = -0.5*(n_hull_4ch + n1_hull_4ch)       \n",
    "                pts = np.vstack([pts_hull_2ch, pts_hull_3ch, pts_hull_4ch])\n",
    "                normals = np.vstack([n_hull_2ch, n_hull_3ch, n_hull_4ch])\n",
    "                faces, vertices = poisson_reconstruction(pts, normals, depth=16)\n",
    "                faces_tmp = np.zeros((len(faces), 4), dtype=np.int64)\n",
    "                faces_tmp[:, 0] = 3\n",
    "                faces_tmp[:, 1:] = faces \n",
    "                polydata_points = vtk.vtkPoints()\n",
    "                polydata_points.SetData(ns.numpy_to_vtk(vertices))\n",
    "                polydata_cells = vtk.vtkCellArray()\n",
    "                polydata_cells.SetNumberOfCells(len(faces))\n",
    "                polydata_cells.SetCells(len(faces), ns.numpy_to_vtkIdTypeArray(faces_tmp.ravel()))\n",
    "\n",
    "                polydata = vtk.vtkPolyData()\n",
    "                polydata.SetPoints(polydata_points)\n",
    "                polydata.SetPolys(polydata_cells)\n",
    "            \n",
    "                boundary_edges = vtk.vtkFeatureEdges()\n",
    "                boundary_edges.SetInputData(polydata)\n",
    "                boundary_edges.BoundaryEdgesOn()\n",
    "                boundary_edges.FeatureEdgesOff()\n",
    "                boundary_edges.NonManifoldEdgesOff()\n",
    "                boundary_edges.ManifoldEdgesOff()    \n",
    "            \n",
    "                boundary_strips = vtk.vtkStripper()\n",
    "                boundary_strips.SetInputConnection(boundary_edges.GetOutputPort())\n",
    "                boundary_strips.Update()\n",
    "            \n",
    "                boundary_poly = vtk.vtkPolyData()\n",
    "                boundary_poly.SetPoints(boundary_strips.GetOutput().GetPoints())\n",
    "                boundary_poly.SetPolys(boundary_strips.GetOutput().GetLines())\n",
    "            \n",
    "                append = vtk.vtkAppendPolyData()\n",
    "                append.UserManagedInputsOn()\n",
    "                append.SetNumberOfInputs(2)\n",
    "                append.SetInputDataByNumber(0, polydata)\n",
    "                append.SetInputDataByNumber(1, boundary_poly)\n",
    "                append.Update()\n",
    "            \n",
    "                clean = vtk.vtkCleanPolyData()\n",
    "                clean.ConvertLinesToPointsOff()\n",
    "                clean.ConvertPolysToLinesOff()\n",
    "                clean.ConvertStripsToPolysOff()\n",
    "                clean.PointMergingOn()\n",
    "                clean.SetInputConnection(append.GetOutputPort())\n",
    "                clean.Update()\n",
    "\n",
    "                triangle_filter = vtk.vtkTriangleFilter()\n",
    "                triangle_filter.SetInputConnection(clean.GetOutputPort())\n",
    "                triangle_filter.Update()\n",
    "            \n",
    "                mass = vtk.vtkMassProperties()\n",
    "                mass.SetInputConnection(triangle_filter.GetOutputPort())\n",
    "                mass.Update()\n",
    "                petersen.loc[i, f'LA_poisson_{t}'] = mass.GetVolume()\n",
    "                if t==10:\n",
    "                    break\n",
    "                \n",
    "                writer = vtk.vtkXMLPolyDataWriter()\n",
    "                writer.SetInputConnection(clean.GetOutputPort())\n",
    "                writer.SetFileName(f'atrium_{t}.vtp')\n",
    "                writer.Update()\n",
    "    except:\n",
    "        pass"
   ]
  },
  {
   "cell_type": "code",
   "execution_count": null,
   "metadata": {},
   "outputs": [],
   "source": [
    "petersen = pd.concat([pd.read_csv(f'/home/pdiachil/atria_poisson_output/petersen_{t}.csv', sep='\\t') for t in range(32)])\n",
    "petersen = petersen.reset_index(drop=True)"
   ]
  },
  {
   "cell_type": "code",
   "execution_count": null,
   "metadata": {},
   "outputs": [],
   "source": [
    "petersen"
   ]
  },
  {
   "cell_type": "code",
   "execution_count": null,
   "metadata": {
    "scrolled": false
   },
   "outputs": [],
   "source": [
    "list_la = [f'LA_poisson_{t}' for t in range(MRI_FRAMES)]\n",
    "import matplotlib.pyplot as plt\n",
    "%matplotlib inline\n",
    "for i in range(32):\n",
    "    f, ax = plt.subplots()\n",
    "    ax.plot(petersen.loc[i, list_la]/1000.0)\n",
    "    ax.plot([0.0, 50.0], [petersen.loc[i, 'LA_Biplan_vol_min'], petersen.loc[i, 'LA_Biplan_vol_min']])\n",
    "    ax.plot([0.0, 50.0], [petersen.loc[i, 'LA_Biplan_vol_max'], petersen.loc[i, 'LA_Biplan_vol_max']])"
   ]
  },
  {
   "cell_type": "code",
   "execution_count": null,
   "metadata": {},
   "outputs": [],
   "source": [
    "%matplotlib inline\n",
    "import matplotlib.pyplot as plt\n",
    "f, ax = plt.subplots(1, 2)\n",
    "ax[0].imshow(arr_annot_2ch.reshape(-1, 256))\n",
    "ax[1].imshow(arr_annot_2ch.reshape(-1, 256) == 11)"
   ]
  },
  {
   "cell_type": "code",
   "execution_count": null,
   "metadata": {},
   "outputs": [],
   "source": [
    "for t in range(MRI_FRAMES):\n",
    "    arr = ds_2ch[0].GetCellData().GetArray(f'cine_segmented_lax_2ch_annotated__{t}')\n",
    "    if ds_2ch[0].GetCellData().GetArray('cine_segmented_lax_2ch_annotated') is not None:\n",
    "        ds_2ch[0].GetCellData().RemoveArray('cine_segmented_lax_2ch_annotated')\n",
    "    arr.SetName('cine_segmented_lax_2ch_annotated')\n",
    "    ds_2ch[0].GetCellData().AddArray(arr)\n",
    "    writer = vtk.vtkXMLStructuredGridWriter()\n",
    "    writer.SetInputData(ds_2ch[0])\n",
    "    writer.SetFileName(f'2ch_{t}.vts')\n",
    "    writer.Update()\n",
    "    \n",
    "    arr = ds_3ch[0].GetCellData().GetArray(f'cine_segmented_lax_3ch_annotated__{t}')\n",
    "    if ds_3ch[0].GetCellData().GetArray('cine_segmented_lax_3ch_annotated') is not None:\n",
    "        ds_3ch[0].GetCellData().RemoveArray('cine_segmented_lax_3ch_annotated')\n",
    "    arr.SetName('cine_segmented_lax_3ch_annotated')\n",
    "    ds_3ch[0].GetCellData().AddArray(arr)\n",
    "    writer = vtk.vtkXMLStructuredGridWriter()\n",
    "    writer.SetInputData(ds_3ch[0])\n",
    "    writer.SetFileName(f'3ch_{t}.vts')\n",
    "    writer.Update()\n",
    "    \n",
    "    arr = ds_4ch[0].GetCellData().GetArray(f'cine_segmented_lax_4ch_annotated__{t}')\n",
    "    if ds_4ch[0].GetCellData().GetArray('cine_segmented_lax_4ch_annotated') is not None:\n",
    "        ds_4ch[0].GetCellData().RemoveArray('cine_segmented_lax_4ch_annotated')\n",
    "    arr.SetName('cine_segmented_lax_4ch_annotated')\n",
    "    ds_4ch[0].GetCellData().AddArray(arr)\n",
    "    writer = vtk.vtkXMLStructuredGridWriter()\n",
    "    writer.SetInputData(ds_4ch[0])\n",
    "    writer.SetFileName(f'4ch_{t}.vts')\n",
    "    writer.Update()\n",
    "    "
   ]
  },
  {
   "cell_type": "code",
   "execution_count": null,
   "metadata": {},
   "outputs": [],
   "source": [
    "print(ds_3ch[0].GetCellData())"
   ]
  },
  {
   "cell_type": "code",
   "execution_count": null,
   "metadata": {},
   "outputs": [],
   "source": [
    "%matplotlib inline\n",
    "f, ax = plt.subplots()\n",
    "ax = f.add_subplot(111, projection='3d')\n",
    "ax.plot(pts_hull_4ch[:, 0], pts_hull_4ch[:, 1], pts_hull_4ch[:, 2])\n",
    "#ax.plot(pts_hull_4ch[:, 0], pts_hull_4ch[:, 1], pts_hull_4ch[:, 2])\n",
    "for pt, n  in zip(pts_hull_4ch, n_hull_4ch):\n",
    "    ax.plot([pt[0], pt[0]+n[0]], \n",
    "            [pt[1], pt[1]+n[1]], \n",
    "            [pt[2], pt[2]+n[2]])"
   ]
  },
  {
   "cell_type": "code",
   "execution_count": null,
   "metadata": {},
   "outputs": [],
   "source": [
    "from pypoisson import poisson_reconstruction\n",
    "from mpl_toolkits.mplot3d import Axes3D\n",
    "\n",
    "faces, vertices = poisson_reconstruction(pts, normals, depth=16)\n",
    "\n",
    "faces_tmp = np.zeros((len(faces), 4), dtype=np.int64)\n",
    "faces_tmp[:, 0] = 3\n",
    "faces_tmp[:, 1:] = faces \n",
    "polydata_points = vtk.vtkPoints()\n",
    "polydata_points.SetData(ns.numpy_to_vtk(vertices))\n",
    "polydata_cells = vtk.vtkCellArray()\n",
    "polydata_cells.SetNumberOfCells(len(faces))\n",
    "polydata_cells.SetCells(len(faces), ns.numpy_to_vtkIdTypeArray(faces_tmp.ravel()))\n",
    "\n",
    "polydata = vtk.vtkPolyData()\n",
    "polydata.SetPoints(polydata_points)\n",
    "polydata.SetPolys(polydata_cells)\n",
    "\n",
    "f, ax = plt.subplots()\n",
    "ax = f.add_subplot(111, projection='3d')\n",
    "ax.scatter(vertices[:, 0], vertices[:, 1], vertices[:, 2])\n",
    "ax.plot(pts_hull_3ch[:, 0], pts_hull_3ch[:, 1], pts_hull_3ch[:, 2])\n",
    "ax.plot(pts_hull_4ch[:, 0], pts_hull_4ch[:, 1], pts_hull_4ch[:, 2])"
   ]
  },
  {
   "cell_type": "code",
   "execution_count": null,
   "metadata": {},
   "outputs": [],
   "source": [
    "writer = vtk.vtkXMLPolyDataWriter()\n",
    "writer.SetInputData(polydata)\n",
    "writer.SetFileName('atrium.vtp')\n",
    "writer.Update()\n",
    "\n",
    "writer = vtk.vtkXMLStructuredGridWriter()\n",
    "writer.SetInputData(ds_4ch[0])\n",
    "writer.SetFileName('4ch.vts')\n",
    "writer.Update()\n",
    "writer.SetInputData(ds_3ch[0])\n",
    "writer.SetFileName('3ch.vts')\n",
    "writer.Update()\n"
   ]
  },
  {
   "cell_type": "code",
   "execution_count": null,
   "metadata": {
    "scrolled": false
   },
   "outputs": [],
   "source": [
    "%matplotlib inline\n",
    "from mpl_toolkits.mplot3d import Axes3D\n",
    "f, ax = plt.subplots()\n",
    "ax = f.add_subplot(111, projection='3d')\n",
    "ax.scatter(pts_hull[:, 0], pts_hull[:, 1], pts_hull[:, 2])\n"
   ]
  },
  {
   "cell_type": "code",
   "execution_count": null,
   "metadata": {},
   "outputs": [],
   "source": [
    "n = len(pts_hull)\n",
    "\n",
    "D = np.zeros((10, n))\n",
    "D[0, :] = pts_hull[:, 0]**2.0\n",
    "D[1, :] = pts_hull[:, 1]**2.0\n",
    "D[2, :] = pts_hull[:, 2]**2.0\n",
    "D[3, :] = np.sqrt(2)*pts_hull[:, 0]*pts_hull[:, 1]\n",
    "D[4, :] = np.sqrt(2)*pts_hull[:, 0]*pts_hull[:, 2]\n",
    "D[5, :] = np.sqrt(2)*pts_hull[:, 1]*pts_hull[:, 2]\n",
    "D[6, :] = pts_hull[:, 0]\n",
    "D[7, :] = pts_hull[:, 1]\n",
    "D[8, :] = pts_hull[:, 2]\n",
    "D[9, :] = 1;\n",
    "\n",
    "K = np.matmul(D, D.T)\n",
    "\n",
    "## The objective is now to solve min <q,Kq>, ||q||=1\n",
    "_, _, V1 = np.linalg.svd(K)\n",
    "q = V1[:, 9]\n",
    "q = q / np.sum(q[0:2]);\n",
    "if q[0] < 0:\n",
    "    q = -q\n",
    "\n",
    "A = np.array([[q[0], q[3]/np.sqrt(2), q[4]/np.sqrt(2)],\n",
    "              [q[3]/np.sqrt(2), q[2], q[5]/np.sqrt(2)],\n",
    "              [q[4]/np.sqrt(2), q[5]/np.sqrt(2), q[2]]])\n",
    "\n",
    "if np.min(np.linalg.eig(A)[0]) <= 0: \n",
    "    print('Beware, the LLS solution is not an ellipse')\n",
    "\n",
    "b = [q[6], q[7], q[8]]\n",
    "c = q[9]"
   ]
  },
  {
   "cell_type": "code",
   "execution_count": null,
   "metadata": {},
   "outputs": [],
   "source": [
    "X, Y, Z = np.meshgrid(np.linspace(np.min(pts_hull[:, 0])-10, np.max(pts_hull[:, 0])+10, 200),\n",
    "                      np.linspace(np.min(pts_hull[:, 1])-10, np.max(pts_hull[:, 1])+10, 200),\n",
    "                      np.linspace(np.min(pts_hull[:, 2])-10, np.max(pts_hull[:, 2])+10, 200))\n",
    "\n",
    "V = q[0]*X**2 + q[1]*Y**2 + q[2]*Z**2 + np.sqrt(2)*q[3]*X*Y + np.sqrt(2)*q[4]*X*Z + np.sqrt(2)*q[5]*Y*Z+\\\n",
    "    q[6]*X + q[7]*Y + q[8]*Z + q[9]\n",
    "\n"
   ]
  },
  {
   "cell_type": "code",
   "execution_count": null,
   "metadata": {},
   "outputs": [],
   "source": [
    "from skimage import measure\n",
    "verts, faces, _, _ = measure.marching_cubes_lewiner(V, 0, spacing=(2.0, 2.0, 2.0))"
   ]
  },
  {
   "cell_type": "code",
   "execution_count": null,
   "metadata": {},
   "outputs": [],
   "source": [
    "faces.shape"
   ]
  },
  {
   "cell_type": "code",
   "execution_count": null,
   "metadata": {},
   "outputs": [],
   "source": [
    "fig = plt.figure()\n",
    "ax = fig.add_subplot(111, projection='3d')\n",
    "ax.plot_trisurf(verts[:, 0], verts[:,1], faces, verts[:, 2],\n",
    "                cmap='Spectral', lw=1)\n",
    "ax.scatter(pts_hull[:, 0], pts_hull[:, 1], pts_hull[:, 2])"
   ]
  },
  {
   "cell_type": "code",
   "execution_count": null,
   "metadata": {},
   "outputs": [],
   "source": [
    "\n",
    "#arr_3ch = _mri_tensor_4d(ff, 'cine_segmented_lax_3ch')\n",
    "\n",
    "#arr_4ch = _mri_tensor_4d(ff, 'cine_segmented_lax_4ch')"
   ]
  },
  {
   "cell_type": "code",
   "execution_count": null,
   "metadata": {},
   "outputs": [],
   "source": [
    "ds_3ch = _mri_hd5_to_structured_grids(ff, 'cine_segmented_lax_3ch_annotated_', view_name='cine_segmented_lax_3ch', concatenate=True, save_path=None, order='F')\n",
    "ds_4ch = _mri_hd5_to_structured_grids(ff, 'cine_segmented_lax_4ch_annotated_', view_name='cine_segmented_lax_4ch', concatenate=True, save_path=None, order='F')"
   ]
  },
  {
   "cell_type": "code",
   "execution_count": null,
   "metadata": {},
   "outputs": [],
   "source": [
    "from ml4cvd.tensor_from_file import _mri_project_grids\n",
    "ds_4ch_3ch = _mri_project_grids(ds_3ch, ds_4ch, 'cine_segmented_lax_3ch_annotated_')\n",
    "ds_3ch_4ch = _mri_project_grids(ds_4ch, ds_3ch, 'cine_segmented_lax_4ch_annotated_')"
   ]
  },
  {
   "cell_type": "code",
   "execution_count": null,
   "metadata": {},
   "outputs": [],
   "source": [
    "%matplotlib inline\n",
    "import matplotlib.pyplot as plt\n",
    "f, ax = plt.subplots(1, 2)\n",
    "ax[0].imshow(arr_annot_3ch[:, :, 0, 0]==2)\n",
    "ax[1].imshow(arr_annot_4ch[:, :, 0, 0]==10)"
   ]
  },
  {
   "cell_type": "code",
   "execution_count": null,
   "metadata": {},
   "outputs": [],
   "source": [
    "import vtk\n",
    "from vtk.util import numpy_support as ns\n",
    "writer = vtk.vtkXMLStructuredGridWriter()\n",
    "writer.SetInputData(ds_4ch_3ch[0])\n",
    "writer.SetFileName('3ch_to_4ch.vts')\n",
    "writer.Update()\n",
    "writer.SetInputData(ds_3ch_4ch[0])\n",
    "writer.SetFileName('4ch_to_3ch.vts')\n",
    "writer.Update()"
   ]
  },
  {
   "cell_type": "code",
   "execution_count": null,
   "metadata": {},
   "outputs": [],
   "source": [
    "writer.SetInputData(ds_3ch[0])\n",
    "writer.SetFileName('3ch.vts')\n",
    "writer.Update()"
   ]
  },
  {
   "cell_type": "code",
   "execution_count": null,
   "metadata": {},
   "outputs": [],
   "source": [
    "import numpy as np\n",
    "for t in range(MRI_FRAMES):\n",
    "    arr_4onto3 = ns.vtk_to_numpy(ds_3ch_4ch[0].GetCellData().GetArray(f'cine_segmented_lax_4ch_annotated__projected_{t}'))\n",
    "    arr_3 = ns.vtk_to_numpy(ds_3ch_4ch[0].GetCellData().GetArray(f'cine_segmented_lax_3ch_annotated__{t}'))\n",
    "    arr_3onto4 = ns.vtk_to_numpy(ds_4ch_3ch[0].GetCellData().GetArray(f'cine_segmented_lax_3ch_annotated__projected_{t}'))\n",
    "    arr_4 = ns.vtk_to_numpy(ds_4ch_3ch[0].GetCellData().GetArray(f'cine_segmented_lax_4ch_annotated__{t}'))\n",
    "    cond1 = arr_4onto3 > 0\n",
    "    inters1 = np.sum(((arr_4onto3==MRI_LAX_4CH_SEGMENTED_CHANNEL_MAP['LA_cavity']) & cond1) & \\\n",
    "                     ((arr_3==MRI_LAX_3CH_SEGMENTED_CHANNEL_MAP['left_atrium']) & cond1))\n",
    "    union1 = np.sum(((arr_4onto3==MRI_LAX_4CH_SEGMENTED_CHANNEL_MAP['LA_cavity']) & cond1) | \\\n",
    "                    ((arr_3==MRI_LAX_3CH_SEGMENTED_CHANNEL_MAP['left_atrium']) & cond1))\n",
    "    cond2 = arr_3onto4 > 0\n",
    "    inters2 = np.sum(((arr_3onto4==MRI_LAX_3CH_SEGMENTED_CHANNEL_MAP['left_atrium']) & cond2) & \\\n",
    "                     ((arr_4==MRI_LAX_4CH_SEGMENTED_CHANNEL_MAP['LA_cavity']) & cond2))\n",
    "    union2 = np.sum(((arr_3onto4==MRI_LAX_3CH_SEGMENTED_CHANNEL_MAP['left_atrium']) & cond2) | \\\n",
    "                    ((arr_4==MRI_LAX_4CH_SEGMENTED_CHANNEL_MAP['LA_cavity']) & cond2))\n",
    "    print(inters1/union1, inters2/union2)"
   ]
  },
  {
   "cell_type": "code",
   "execution_count": null,
   "metadata": {},
   "outputs": [],
   "source": [
    "import numpy as np\n",
    "cond1 = arr_4onto3 > 0\n",
    "inters1 = np.sum(((arr_4onto3==MRI_LAX_4CH_SEGMENTED_CHANNEL_MAP['LA_cavity']) & cond1) & \\\n",
    "                 ((arr_3==MRI_LAX_3CH_SEGMENTED_CHANNEL_MAP['left_atrium']) & cond1))\n",
    "union1 = np.sum(((arr_4onto3==MRI_LAX_4CH_SEGMENTED_CHANNEL_MAP['LA_cavity']) & cond1) | \\\n",
    "                ((arr_3==MRI_LAX_3CH_SEGMENTED_CHANNEL_MAP['left_atrium']) & cond1))"
   ]
  },
  {
   "cell_type": "code",
   "execution_count": null,
   "metadata": {},
   "outputs": [],
   "source": [
    "cond2 = arr_3onto4 > 0\n",
    "inters2 = np.sum(((arr_3onto4==MRI_LAX_3CH_SEGMENTED_CHANNEL_MAP['left_atrium']) & cond2) & \\\n",
    "                 ((arr_4==MRI_LAX_4CH_SEGMENTED_CHANNEL_MAP['LA_cavity']) & cond2))\n",
    "union2 = np.sum(((arr_3onto4==MRI_LAX_3CH_SEGMENTED_CHANNEL_MAP['left_atrium']) & cond2) | \\\n",
    "                ((arr_4==MRI_LAX_4CH_SEGMENTED_CHANNEL_MAP['LA_cavity']) & cond2))"
   ]
  },
  {
   "cell_type": "code",
   "execution_count": null,
   "metadata": {},
   "outputs": [],
   "source": [
    "print(inters1/union1, inters2/union2)"
   ]
  },
  {
   "cell_type": "code",
   "execution_count": null,
   "metadata": {},
   "outputs": [],
   "source": [
    "arr_3onto3 = ns.vtk_to_numpy(ds_3ch_4ch[0].GetCellData().GetArray('cine_segmented_lax_4ch_annotated__projected_0'))\n",
    "arr_3 = ns.vtk_to_numpy(ds_3ch_4ch[0].GetCellData().GetArray('cine_segmented_lax_3ch_annotated__0'))\n",
    "arr_3onto4 = ns.vtk_to_numpy(ds_4ch_3ch[0].GetCellData().GetArray('cine_segmented_lax_3ch_annotated__projected_0'))\n",
    "arr_4 = ns.vtk_to_numpy(ds_4ch_3ch[0].GetCellData().GetArray('cine_segmented_lax_4ch_annotated__0'))"
   ]
  }
 ],
 "metadata": {
  "kernelspec": {
   "display_name": "Python 3",
   "language": "python",
   "name": "python3"
  },
  "language_info": {
   "codemirror_mode": {
    "name": "ipython",
    "version": 3
   },
   "file_extension": ".py",
   "mimetype": "text/x-python",
   "name": "python",
   "nbconvert_exporter": "python",
   "pygments_lexer": "ipython3",
   "version": "3.6.9-final"
  }
 },
 "nbformat": 4,
 "nbformat_minor": 4
}