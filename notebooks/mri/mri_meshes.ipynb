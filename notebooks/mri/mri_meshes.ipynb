{
 "cells": [
  {
   "cell_type": "code",
   "execution_count": null,
   "metadata": {},
   "outputs": [],
   "source": [
    "from ml4cvd.arguments import _get_tmap\n",
    "import h5py\n",
    "import numpy as np\n",
    "from ml4cvd.tensor_from_file import _mri_hd5_to_structured_grids\n",
    "import h5py\n",
    "import time\n",
    "import matplotlib.pyplot as plt\n",
    "import os\n",
    "import sys"
   ]
  },
  {
   "cell_type": "code",
   "execution_count": null,
   "metadata": {},
   "outputs": [],
   "source": [
    "USER = 'pdiachil'\n",
    "HOME_PATH = '/home/'+USER"
   ]
  },
  {
   "cell_type": "markdown",
   "metadata": {},
   "source": [
    "# Add position, orientation, width, height, and thickness tensors to HD5\n",
    "HD5 tensors are saved in {HOME_PATH}"
   ]
  },
  {
   "cell_type": "code",
   "execution_count": null,
   "metadata": {},
   "outputs": [],
   "source": [
    "from ml4cvd.arguments import parse_args\n",
    "from ml4cvd.recipes import run\n",
    "sys.argv = ['tensorize',\n",
    "            '--mode', 'tensorize',\n",
    "            '--zip_folder', '/mnt/disks/sax-and-lax-zip-2019-09-30/',\n",
    "            '--xml_folder', '/mnt/disks/ecg-rest-xml-36k/',\n",
    "            '--output_folder', f'{HOME_PATH}/mri_tensors/',\n",
    "            '--tensors', f'{HOME_PATH}/mri_tensors/',\n",
    "            '--mri_field_ids', '20208', '20209', \n",
    "            '--xml_field_ids', \n",
    "            '--min_sample_id', '2000000', \n",
    "            '--max_sample_id', '2000200'\n",
    "           ]\n",
    "args = parse_args()\n",
    "run(args)"
   ]
  },
  {
   "cell_type": "markdown",
   "metadata": {},
   "source": [
    "# Extract centers of gravity of myocardium at each slice"
   ]
  },
  {
   "cell_type": "code",
   "execution_count": null,
   "metadata": {},
   "outputs": [],
   "source": [
    "import vtk\n",
    "from ml4cvd.defines import EPS, MRI_SEGMENTED_CHANNEL_MAP, MRI_FRAMES\n",
    "\n",
    "with h5py.File(f'{HOME_PATH}/mri_tensors/2000119.hd5', 'r') as hd5:\n",
    "    cine_segmented_grids = _mri_hd5_to_structured_grids(hd5, 'cine_segmented_sax_inlinevf_segmented')\n",
    "    for cine_segmented_grid in cine_segmented_grids:\n",
    "        cell_centers = vtk.vtkCellCenters()\n",
    "        cell_centers.SetInputData(cine_segmented_grid)\n",
    "        cell_centers.Update()\n",
    "        cell_pts = vtk.util.numpy_support.vtk_to_numpy(cell_centers.GetOutput().GetPoints().GetData())\n",
    "        dims = cine_segmented_grid.GetDimensions()\n",
    "        # Remove 1 to get cell dimensions rather than point dimensions\n",
    "        dims = [dim - 1 for dim in dims] \n",
    "        ncells_per_slice = dims[0]*dims[1]\n",
    "        indices = []\n",
    "        for t in range(MRI_FRAMES):\n",
    "            arr_name = f'cine_segmented_sax_inlinevf_segmented_{t}'\n",
    "            segmented_arr = vtk.util.numpy_support.vtk_to_numpy(cine_segmented_grid.GetCellData().GetArray(arr_name))\n",
    "            segmented_arr = segmented_arr.reshape(*dims, order='F')\n",
    "            cogs = np.zeros((dims[2], 3))\n",
    "            cogs_2 = np.zeros((dims[2], 3))\n",
    "            cogs[:] = np.nan\n",
    "            for s in range(dims[2]):\n",
    "                thresh_indices = np.nonzero((segmented_arr[:, :, s].T > MRI_SEGMENTED_CHANNEL_MAP['myocardium'] - EPS) &\n",
    "                                            (segmented_arr[:, :, s].T < MRI_SEGMENTED_CHANNEL_MAP['myocardium'] + EPS))\n",
    "                thresh_flat_indices = np.ravel_multi_index(thresh_indices, (dims[0], dims[1]))\n",
    "                thresh_flat_indices += s*ncells_per_slice\n",
    "                indices.append(thresh_flat_indices)\n",
    "                if len(thresh_flat_indices) > 0 :\n",
    "                        cogs[s, :] = np.mean(cell_pts[thresh_flat_indices], axis=0)\n",
    "            slices_no_nans = ~np.isnan(cogs).any(axis=1)\n",
    "            cogs_mean = np.mean(cogs[slices_no_nans], axis=0)\n",
    "            uu, dd, vv = np.linalg.svd(cogs[slices_no_nans] - cogs_mean)\n",
    "            ventricle_length = np.linalg.norm(cogs[0] - cogs[-1])\n",
    "            line_pts = vv[0] * np.mgrid[(-0.5*ventricle_length):(0.5*ventricle_length):2j][:, np.newaxis] + cogs_mean\n",
    "            line_source = vtk.vtkLineSource()\n",
    "            line_source.SetPoint1(cogs[0, :])\n",
    "            line_source.SetPoint2(cogs[-1, :])\n",
    "            line_source.Update()\n",
    "            line_writer = vtk.vtkXMLPolyDataWriter()\n",
    "            line_writer.SetInputConnection(line_source.GetOutputPort())\n",
    "            line_writer.SetFileName(os.path.join(HOME_PATH, 'mri_tensors', f'cog_line_{t}.vtp'))\n",
    "            line_writer.Update()\n",
    "            thresh_channel = vtk.vtkThreshold()\n",
    "            thresh_channel.SetInputData(cine_segmented_grid)\n",
    "            thresh_channel.ThresholdBetween(MRI_SEGMENTED_CHANNEL_MAP['myocardium'] - EPS,\n",
    "                                            MRI_SEGMENTED_CHANNEL_MAP['myocardium'] + EPS)\n",
    "            thresh_channel.SetInputArrayToProcess(0, 0, 0, vtk.vtkDataObject.FIELD_ASSOCIATION_CELLS, arr_name)\n",
    "            thresh_channel.Update()\n",
    "            thresh_surf = vtk.vtkDataSetSurfaceFilter()\n",
    "            thresh_surf.SetInputConnection(thresh_channel.GetOutputPort())\n",
    "            thresh_surf.Update()\n",
    "            thresh_writer = vtk.vtkXMLPolyDataWriter()\n",
    "            thresh_writer.SetInputConnection(thresh_surf.GetOutputPort())\n",
    "            thresh_writer.SetFileName(os.path.join(HOME_PATH, 'mri_tensors', f'channel_thresh_{t}.vtp'))\n",
    "            thresh_writer.Update() "
   ]
  },
  {
   "cell_type": "code",
   "execution_count": null,
   "metadata": {},
   "outputs": [],
   "source": [
    "%matplotlib inline\n",
    "import matplotlib.pyplot as plt\n",
    "plt.imshow(segmented_arr[:, :, 7])\n",
    "thresh_indices = np.nonzero((segmented_arr[:, :, 7] > MRI_SEGMENTED_CHANNEL_MAP['myocardium'] - EPS) &\n",
    "                            (segmented_arr[:, :, 7] < MRI_SEGMENTED_CHANNEL_MAP['myocardium'] + EPS))\n",
    "thresh_flat_indices = np.ravel_multi_index(thresh_indices, (dims[0], dims[1]))"
   ]
  },
  {
   "cell_type": "code",
   "execution_count": null,
   "metadata": {},
   "outputs": [],
   "source": [
    "only_myocardium = np.zeros((256, 256))\n",
    "only_myocardium[thresh_indices[0], thresh_indices[1]] = 1\n",
    "plt.imshow(only_myocardium)"
   ]
  },
  {
   "cell_type": "code",
   "execution_count": null,
   "metadata": {},
   "outputs": [],
   "source": [
    "%matplotlib inline\n",
    "from mpl_toolkits import mplot3d\n",
    "\n",
    "fig = plt.figure()\n",
    "ax = plt.axes(projection=\"3d\")\n",
    "\n",
    "for i in [1, 3, 5, 7]:\n",
    "    ax.scatter3D(cell_pts[indices[i], 0], cell_pts[indices[i], 1], cell_pts[indices[i], 2], \n",
    "                 c=cell_pts[indices[i], 0], cmap='hsv');\n",
    "ax.scatter3D(cogs[:, 0], cogs[:, 1], cogs[:, 2])\n",
    "ax.plot3D(line_pts[:, 0], line_pts[:, 1], line_pts[:, 2])"
   ]
  },
  {
   "cell_type": "markdown",
   "metadata": {},
   "source": [
    "# Test new TMAP"
   ]
  },
  {
   "cell_type": "code",
   "execution_count": null,
   "metadata": {},
   "outputs": [],
   "source": [
    "tm = _get_tmap('cine_segmented_sax_inlinevf_axis')\n",
    "with h5py.File(f'{HOME_PATH}/mri_tensors/2000119.hd5', 'r') as hd5:\n",
    "    axes = tm.tensor_from_file(tm, hd5)"
   ]
  },
  {
   "cell_type": "code",
   "execution_count": null,
   "metadata": {},
   "outputs": [],
   "source": [
    "axes"
   ]
  },
  {
   "cell_type": "code",
   "execution_count": null,
   "metadata": {},
   "outputs": [],
   "source": [
    "axes[1, 0]"
   ]
  },
  {
   "cell_type": "code",
   "execution_count": null,
   "metadata": {},
   "outputs": [],
   "source": []
  }
 ],
 "metadata": {
  "kernelspec": {
   "display_name": "Python 3",
   "language": "python",
   "name": "python3"
  },
  "language_info": {
   "codemirror_mode": {
    "name": "ipython",
    "version": 3
   },
   "file_extension": ".py",
   "mimetype": "text/x-python",
   "name": "python",
   "nbconvert_exporter": "python",
   "pygments_lexer": "ipython3",
   "version": "3.6.8"
  }
 },
 "nbformat": 4,
 "nbformat_minor": 2
}
