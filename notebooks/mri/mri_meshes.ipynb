{
 "cells": [
  {
   "cell_type": "code",
   "execution_count": 1,
   "metadata": {},
   "outputs": [
    {
     "name": "stderr",
     "output_type": "stream",
     "text": [
      "/usr/local/lib/python3.6/dist-packages/apache_beam/__init__.py:84: UserWarning: Running the Apache Beam SDK on Python 3 is not yet fully supported. You may encounter buggy behavior or missing features.\n",
      "  'Running the Apache Beam SDK on Python 3 is not yet fully supported. '\n",
      "Using TensorFlow backend.\n"
     ]
    }
   ],
   "source": [
    "from ml4cvd.arguments import _get_tmap\n",
    "import h5py\n",
    "import numpy as np\n",
    "from ml4cvd.tensor_from_file import _mri_hd5_to_structured_grids\n",
    "import h5py\n",
    "import time\n",
    "import matplotlib.pyplot as plt\n",
    "import os\n",
    "import sys"
   ]
  },
  {
   "cell_type": "code",
   "execution_count": 2,
   "metadata": {},
   "outputs": [],
   "source": [
    "USER = 'pdiachil'\n",
    "HOME_PATH = '/home/'+USER"
   ]
  },
  {
   "cell_type": "markdown",
   "metadata": {},
   "source": [
    "# Add position, orientation, width, height, and thickness tensors to HD5\n",
    "HD5 tensors are saved in {HOME_PATH}"
   ]
  },
  {
   "cell_type": "code",
   "execution_count": null,
   "metadata": {},
   "outputs": [],
   "source": [
    "from ml4cvd.arguments import parse_args\n",
    "from ml4cvd.recipes import run\n",
    "sys.argv = ['tensorize',\n",
    "            '--mode', 'tensorize',\n",
    "            '--zip_folder', '/mnt/disks/sax-and-lax-zip-2019-09-30/',\n",
    "            '--xml_folder', '/mnt/disks/ecg-rest-xml-36k/',\n",
    "            '--output_folder', f'{HOME_PATH}/mri_tensors/',\n",
    "            '--tensors', f'{HOME_PATH}/mri_tensors/',\n",
    "            '--mri_field_ids', '20208', '20209', \n",
    "            '--xml_field_ids', \n",
    "            '--min_sample_id', '2000000', \n",
    "            '--max_sample_id', '2000200'\n",
    "           ]\n",
    "args = parse_args()\n",
    "run(args)"
   ]
  },
  {
   "cell_type": "markdown",
   "metadata": {},
   "source": [
    "# Extract centers of gravity of myocardium at each slice"
   ]
  },
  {
   "cell_type": "code",
   "execution_count": 23,
   "metadata": {},
   "outputs": [],
   "source": [
    "import vtk\n",
    "from ml4cvd.defines import EPS, MRI_SEGMENTED_CHANNEL_MAP, MRI_FRAMES\n",
    "\n",
    "with h5py.File(f'{HOME_PATH}/mri_tensors/2000119.hd5', 'r') as hd5:\n",
    "    cine_segmented_grids = _mri_hd5_to_structured_grids(hd5, 'cine_segmented_sax_inlinevf_segmented')\n",
    "    for cine_segmented_grid in cine_segmented_grids:\n",
    "        cell_centers = vtk.vtkCellCenters()\n",
    "        cell_centers.SetInputData(cine_segmented_grid)\n",
    "        cell_centers.Update()\n",
    "        cell_pts = vtk.util.numpy_support.vtk_to_numpy(cell_centers.GetOutput().GetPoints().GetData())\n",
    "        dims = cine_segmented_grid.GetDimensions()\n",
    "        # Remove 1 to get cell dimensions rather than point dimensions\n",
    "        dims = [dim - 1 for dim in dims] \n",
    "        ncells_per_slice = dims[0]*dims[1]\n",
    "        for t in range(MRI_FRAMES):\n",
    "            arr_name = f'cine_segmented_sax_inlinevf_segmented_{t}'\n",
    "            segmented_arr = vtk.util.numpy_support.vtk_to_numpy(cine_segmented_grid.GetCellData().GetArray(arr_name))\n",
    "            segmented_arr = segmented_arr.reshape(*dims)\n",
    "            cogs = np.zeros((dims[2], 3))\n",
    "            cogs[:] = np.nan\n",
    "            for s in range(dims[2]):\n",
    "                thresh_indices = np.nonzero((segmented_arr[:, :, s].T > MRI_SEGMENTED_CHANNEL_MAP['myocardium'] - EPS) &\n",
    "                                            (segmented_arr[:, :, s].T < MRI_SEGMENTED_CHANNEL_MAP['myocardium'] + EPS))\n",
    "                thresh_flat_indices = np.ravel_multi_index(thresh_indices, (dims[0], dims[1]))\n",
    "                if len(thresh_flat_indices) > 0 :\n",
    "                        cogs[s, :] = np.mean(cell_pts[s*ncells_per_slice+thresh_flat_indices], axis=0)\n",
    "            slices_no_nans = ~np.isnan(cogs).any(axis=1)\n",
    "            cogs_mean = np.mean(cogs[slices_no_nans], axis=0)\n",
    "            uu, dd, vv = np.linalg.svd(cogs[slices_no_nans] - cogs_mean)\n",
    "            ventricle_length = np.linalg.norm(cogs[0] - cogs[-1])\n",
    "            line_pts = vv[0] * np.mgrid[(-0.5*ventricle_length):(0.5*ventricle_length):2j][:, np.newaxis] + cogs_mean\n",
    "            line_source = vtk.vtkLineSource()\n",
    "            line_source.SetPoint1(line_pts[0, :])\n",
    "            line_source.SetPoint2(line_pts[1, :])\n",
    "            line_source.Update()\n",
    "            line_writer = vtk.vtkXMLPolyDataWriter()\n",
    "            line_writer.SetInputConnection(line_source.GetOutputPort())\n",
    "            line_writer.SetFileName(os.path.join(HOME_PATH, 'mri_tensors', f'cog_line_{t}.vtp'))\n",
    "            line_writer.Update()"
   ]
  },
  {
   "cell_type": "code",
   "execution_count": 21,
   "metadata": {},
   "outputs": [
    {
     "data": {
      "text/plain": [
       "array([[ 31.65026534,  97.43286575, -28.8135384 ],\n",
       "       [ 85.44553792,  54.98339402, -48.36722055]])"
      ]
     },
     "execution_count": 21,
     "metadata": {},
     "output_type": "execute_result"
    }
   ],
   "source": [
    "line_pts"
   ]
  },
  {
   "cell_type": "code",
   "execution_count": 22,
   "metadata": {},
   "outputs": [
    {
     "data": {
      "text/plain": [
       "array([ 58.54790163,  76.20812988, -38.59037948])"
      ]
     },
     "execution_count": 22,
     "metadata": {},
     "output_type": "execute_result"
    }
   ],
   "source": [
    "cogs_mean"
   ]
  },
  {
   "cell_type": "code",
   "execution_count": 14,
   "metadata": {},
   "outputs": [
    {
     "data": {
      "text/plain": [
       "422"
      ]
     },
     "execution_count": 14,
     "metadata": {},
     "output_type": "execute_result"
    }
   ],
   "source": [
    "len(thresh_flat_indices)"
   ]
  },
  {
   "cell_type": "code",
   "execution_count": 11,
   "metadata": {},
   "outputs": [
    {
     "data": {
      "text/plain": [
       "422"
      ]
     },
     "execution_count": 11,
     "metadata": {},
     "output_type": "execute_result"
    }
   ],
   "source": [
    "len(thresh_indices[0])"
   ]
  },
  {
   "cell_type": "code",
   "execution_count": 12,
   "metadata": {},
   "outputs": [
    {
     "data": {
      "text/plain": [
       "65536"
      ]
     },
     "execution_count": 12,
     "metadata": {},
     "output_type": "execute_result"
    }
   ],
   "source": [
    "256*256"
   ]
  },
  {
   "cell_type": "code",
   "execution_count": null,
   "metadata": {},
   "outputs": [],
   "source": []
  }
 ],
 "metadata": {
  "kernelspec": {
   "display_name": "Python 3",
   "language": "python",
   "name": "python3"
  },
  "language_info": {
   "codemirror_mode": {
    "name": "ipython",
    "version": 3
   },
   "file_extension": ".py",
   "mimetype": "text/x-python",
   "name": "python",
   "nbconvert_exporter": "python",
   "pygments_lexer": "ipython3",
   "version": "3.6.8"
  }
 },
 "nbformat": 4,
 "nbformat_minor": 2
}
